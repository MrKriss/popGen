{
 "metadata": {
  "name": "ClusterIO Profiling Old version"
 },
 "nbformat": 3,
 "nbformat_minor": 0,
 "worksheets": [
  {
   "cells": [
    {
     "cell_type": "code",
     "collapsed": false,
     "input": [
      "import utils.ClusterIO\n",
      "reload(utils.ClusterIO)\n",
      "from utils.ClusterIO import *\n",
      "\n",
      "from Bio import SeqIO\n",
      "\n",
      "from utils.general_utilities import print_attr\n"
     ],
     "language": "python",
     "metadata": {},
     "outputs": [],
     "prompt_number": 10
    },
    {
     "cell_type": "code",
     "collapsed": false,
     "input": [
      "# Setup\n",
      "%cd util\n",
      "\n",
      "# Paths\n",
      "gaz_clustf = '/space/musselle/data/RAD-seq/gazelles-zebras/clusters/gz_allg_allz_95g1_clustered_reads_c95_g1/gz_allg_allz-gazelle-clustered_c95_g1.clstr'\n",
      "zeb_clustf = '/space/musselle/data/RAD-seq/gazelles-zebras/clusters/gz_allg_allz_95g1_clustered_reads_c95_g1/gz_allg_allz-zebra-clustered_c95_g1.clstr'\n",
      "bgzf_idx_file = '/space/musselle/data/RAD-seq/gazelles-zebras/processed-data/reads.idx'\n",
      "fastq_idx_file = '/space/musselle/data/RAD-seq/gazelles-zebras/processed-data/all_reads_fastq.idx'\n",
      "\n",
      "output_dir = '/space/musselle/data/RAD-seq/gazelles-zebras/clusters/gz_allg_allz_95g1_clustered_reads_c95_g1/gazellles_filtered/'"
     ],
     "language": "python",
     "metadata": {},
     "outputs": [
      {
       "output_type": "stream",
       "stream": "stdout",
       "text": [
        "(bookmark:util) -> /home/pgrad/musselle/ubuntu/workspace/popGen/utils\n",
        "/home/pgrad/musselle/ubuntu/workspace/popGen/utils\n"
       ]
      }
     ],
     "prompt_number": 11
    },
    {
     "cell_type": "code",
     "collapsed": false,
     "input": [
      "# Run Profiling for sequences stored as BGZF files\n",
      "bgzf_stats = %prun -r -T 'bgzf_pstats' filter_clusters(gaz_clustf, idx_filepath=bgzf_idx_file, size_range=(300,302), output_dirpath=output_dir)\n",
      "# Run Profing for sequences stored as FastQ files\n",
      "fastq_stats = %prun -r -T 'fastq_pstats' filter_clusters2(gaz_clustf, idx_filepath=fastq_idx_file, size_range=(300,302), output_dirpath=output_dir)\n",
      "\n"
     ],
     "language": "python",
     "metadata": {},
     "outputs": [
      {
       "output_type": "stream",
       "stream": "stdout",
       "text": [
        "Finished Scanning cluster file.\n",
        " \n",
        "*** Profile printout saved to text file u\"'bgzf_pstats'\". \n",
        "Finished Scanning cluster file."
       ]
      },
      {
       "output_type": "stream",
       "stream": "stdout",
       "text": [
        "\n",
        " "
       ]
      },
      {
       "output_type": "stream",
       "stream": "stdout",
       "text": [
        "\n",
        "*** Profile printout saved to text file u\"'fastq_pstats'\". \n"
       ]
      }
     ],
     "prompt_number": 56
    },
    {
     "cell_type": "code",
     "collapsed": false,
     "input": [
      "fastq_stats.stream = sys.stdout\n",
      "fastq_stats.sort_stats('time')\n",
      "fastq_stats.print_stats(15)"
     ],
     "language": "python",
     "metadata": {},
     "outputs": [
      {
       "output_type": "stream",
       "stream": "stdout",
       "text": [
        "         1022461178 function calls (1022308464 primitive calls) in 8553.622 seconds\n",
        "\n",
        "   Ordered by: internal time\n",
        "   List reduced from 147 to 15 due to restriction <15>\n",
        "\n",
        "   ncalls  tottime  percall  cumtime  percall filename:lineno(function)\n",
        "   151975 5268.514    0.035 5268.514    0.035 {method 'execute' of 'sqlite3.Connection' objects}\n",
        "   162850 2094.357    0.013 2094.357    0.013 {method 'seek' of 'file' objects}\n",
        "  1246309  390.768    0.000  839.364    0.001 ClusterIO.py:367(parse)\n",
        " 86462811  157.701    0.000  228.962    0.000 ClusterIO.py:361(percentage2mismatch)\n",
        "  1302800  122.105    0.000  122.105    0.000 {method 'read' of 'file' objects}\n",
        "349894110   78.125    0.000   78.125    0.000 {method 'strip' of 'str' objects}\n",
        "   151974   75.296    0.000   75.296    0.000 {method 'fetchone' of 'sqlite3.Cursor' objects}\n",
        " 86462811   71.261    0.000   71.261    0.000 {round}\n",
        " 89411340   58.986    0.000   58.986    0.000 {method 'split' of 'str' objects}\n",
        "   162850   55.146    0.000   55.146    0.000 {built-in method decompress}\n",
        " 89259369   34.099    0.000   34.099    0.000 {method 'startswith' of 'str' objects}\n",
        "173077595   23.272    0.000   23.272    0.000 {method 'append' of 'list' objects}\n",
        " 87709119   23.144    0.000   23.144    0.000 {method 'endswith' of 'str' objects}\n",
        "   303942   18.307    0.000   34.239    0.000 QualityIO.py:948(FastqPhredIterator)\n",
        "   162850   11.946    0.000   11.946    0.000 {zlib.crc32}\n",
        "\n",
        "\n"
       ]
      },
      {
       "output_type": "pyout",
       "prompt_number": 65,
       "text": [
        "<pstats.Stats instance at 0x7ff9abe2c878>"
       ]
      }
     ],
     "prompt_number": 65
    },
    {
     "cell_type": "code",
     "collapsed": false,
     "input": [
      "bgzf_stats.stream = sys.stdout\n",
      "bgzf_stats.sort_stats('time')\n",
      "bgzf_stats.print_stats(15)"
     ],
     "language": "python",
     "metadata": {},
     "outputs": [
      {
       "output_type": "stream",
       "stream": "stdout",
       "text": [
        "         1022461123 function calls (1022308409 primitive calls) in 8530.249 seconds\n",
        "\n",
        "   Ordered by: internal time\n",
        "   List reduced from 143 to 15 due to restriction <15>\n",
        "\n",
        "   ncalls  tottime  percall  cumtime  percall filename:lineno(function)\n",
        "   151975 5255.972    0.035 5255.972    0.035 {method 'execute' of 'sqlite3.Connection' objects}\n",
        "   162850 2095.896    0.013 2095.896    0.013 {method 'seek' of 'file' objects}\n",
        "  1246309  383.724    0.000  826.997    0.001 ClusterIO.py:367(parse)\n",
        " 86462811  156.166    0.000  225.953    0.000 ClusterIO.py:361(percentage2mismatch)\n",
        "  1302800  123.645    0.000  123.645    0.000 {method 'read' of 'file' objects}\n",
        "349894110   77.521    0.000   77.521    0.000 {method 'strip' of 'str' objects}\n",
        "   151974   75.504    0.000   75.504    0.000 {method 'fetchone' of 'sqlite3.Cursor' objects}\n",
        " 86462811   69.787    0.000   69.787    0.000 {round}\n",
        " 89411340   57.638    0.000   57.638    0.000 {method 'split' of 'str' objects}\n",
        "   162850   55.073    0.000   55.073    0.000 {built-in method decompress}\n",
        " 89259369   34.159    0.000   34.159    0.000 {method 'startswith' of 'str' objects}\n",
        "173077593   23.075    0.000   23.075    0.000 {method 'append' of 'list' objects}\n",
        " 87709119   23.018    0.000   23.018    0.000 {method 'endswith' of 'str' objects}\n",
        "   303942   17.820    0.000   33.740    0.000 QualityIO.py:948(FastqPhredIterator)\n",
        "   162850   11.582    0.000   11.582    0.000 {zlib.crc32}\n",
        "\n",
        "\n"
       ]
      },
      {
       "output_type": "pyout",
       "prompt_number": 63,
       "text": [
        "<pstats.Stats instance at 0x7ff9aca30290>"
       ]
      }
     ],
     "prompt_number": 63
    }
   ],
   "metadata": {}
  }
 ]
}
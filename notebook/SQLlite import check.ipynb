{
 "metadata": {
  "name": "SQLlite import check"
 },
 "nbformat": 3,
 "nbformat_minor": 0,
 "worksheets": [
  {
   "cells": [
    {
     "cell_type": "code",
     "collapsed": false,
     "input": [
      "import glob\n",
      "from Bio import SeqIO\n",
      "import database.reads_db\n",
      "reload(database.reads_db)\n",
      "from database.reads_db import Reads_db\n",
      "import sqlite3\n",
      "import time\n",
      "\n",
      "import clf.cluster\n",
      "reload(clf.cluster)\n",
      "from clf.cluster import ClusterDictionary"
     ],
     "language": "python",
     "metadata": {},
     "outputs": [],
     "prompt_number": 7
    },
    {
     "cell_type": "code",
     "collapsed": false,
     "input": [
      "def run1():\n",
      "    db = Reads_db('/space/musselle/data/RAD-seq/gazelles-zebras/testdb.db')\n",
      "    cluster_file_handle = '/space/musselle/data/RAD-seq/gazelles-zebras/test_cluster.clstr'\n",
      "    db.load_cluster_file(cluster_file_handle, cluster_table_name='clusters', overwrite=True, fmin=2, fmax=None, skipsort=False)\n",
      "    "
     ],
     "language": "python",
     "metadata": {},
     "outputs": []
    },
    {
     "cell_type": "code",
     "collapsed": false,
     "input": [
      "pstatsobj1 = %%prun -r -s cumulative  "
     ],
     "language": "python",
     "metadata": {},
     "outputs": [
      {
       "output_type": "stream",
       "stream": "stdout",
       "text": [
        "Database found with matching file name.\n",
        "Connecting to database /space/musselle/data/RAD-seq/gazelles-zebras/testdb.db\n",
        "Setting Row_factory to named Rows\n",
        " "
       ]
      },
      {
       "output_type": "stream",
       "stream": "stderr",
       "text": [
        "Sorting cluster file /space/musselle/data/RAD-seq/gazelles-zebras/test_cluster.clstr ...\n",
        "Importing cluster file /space/musselle/data/RAD-seq/gazelles-zebras/test_cluster-subset.clstr  to database..."
       ]
      },
      {
       "output_type": "stream",
       "stream": "stdout",
       "text": [
        "Finished sorting cluster file after 00:00:00\n",
        "\n",
        "Finished Scanning cluster file."
       ]
      },
      {
       "output_type": "stream",
       "stream": "stdout",
       "text": [
        "\n"
       ]
      },
      {
       "output_type": "stream",
       "stream": "stderr",
       "text": [
        "\n"
       ]
      }
     ],
     "prompt_number": 11
    },
    {
     "cell_type": "code",
     "collapsed": false,
     "input": [
      "pstatsobj2 = %%prun -r -s cumulative\n",
      "db = Reads_db('/space/musselle/data/RAD-seq/gazelles-zebras/testdb.db')\n",
      "cluster_file_handle = '/space/musselle/data/RAD-seq/gazelles-zebras/test_cluster.clstr'\n",
      "db.load_cluster_file2(cluster_file_handle, cluster_table_name='clusters', overwrite=True, fmin=2, fmax=None, skipsort=False)"
     ],
     "language": "python",
     "metadata": {},
     "outputs": []
    },
    {
     "cell_type": "code",
     "collapsed": false,
     "input": [
      "%prun?"
     ],
     "language": "python",
     "metadata": {},
     "outputs": [],
     "prompt_number": 10
    },
    {
     "cell_type": "code",
     "collapsed": false,
     "input": [],
     "language": "python",
     "metadata": {},
     "outputs": []
    }
   ],
   "metadata": {}
  }
 ]
}
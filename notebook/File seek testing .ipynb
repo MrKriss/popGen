{
 "metadata": {
  "name": "File seek testing "
 },
 "nbformat": 3,
 "nbformat_minor": 0,
 "worksheets": [
  {
   "cells": [
    {
     "cell_type": "code",
     "collapsed": false,
     "input": [
      "s1 = 'This is a file\\n'\n",
      "s2 = 'containing some text\\n'\n",
      "s3 = 'That II happen to have written\\n'\n",
      "s4 = '123566ujrjrjrejwe33664kfgjkfk\\n'\n",
      "\n",
      "f = open('test', 'wb')\n",
      "f.write(s1)\n",
      "f.write(s2)\n",
      "f.write(s3)\n",
      "f.write(s1)\n",
      "f.close()\n"
     ],
     "language": "python",
     "metadata": {},
     "outputs": [],
     "prompt_number": 27
    },
    {
     "cell_type": "code",
     "collapsed": false,
     "input": [
      "f = open('test', 'rb')\n",
      "print f.tell()\n",
      "\n",
      "start = 0\n",
      "first = 1\n",
      "while True:\n",
      "    line = f.readline()  # Reading one line from file including end-of-line char '\\n'\n",
      "    if not line: \n",
      "        break\n",
      "    \n",
      "    if line.startswith('T'):\n",
      "        start = f.tell() - len(line)\n",
      "        \n",
      "        if not first:\n",
      "            end = f.tell() - len(line) - 2\n",
      "            \n",
      "            print 'cluster goes from %d, to %d' % (start, end)\n",
      "            f.seek(start)\n",
      "            s = f.read(end - start)\n",
      "            print 'text captured:', s\n",
      "        else:\n",
      "            first = 0\n",
      "    print line\n",
      "    print 'length = ', len(line)\n",
      "    print 'current pos at end of line = ', f.tell()\n",
      "    print f.tell() - len(line)"
     ],
     "language": "python",
     "metadata": {},
     "outputs": [
      {
       "output_type": "stream",
       "stream": "stdout",
       "text": [
        "0\n",
        "This is a file\n",
        "\n",
        "length =  15\n",
        "current pos at end of line =  15\n",
        "0\n",
        "containing some text\n",
        "\n",
        "length =  21\n",
        "current pos at end of line =  36\n",
        "15\n",
        "cluster goes from 36, to 34\n",
        "text captured: That II happen to have written\n",
        "This is a file\n",
        "\n",
        "That II happen to have written\n",
        "\n",
        "length =  31\n",
        "current pos at end of line =  82\n",
        "51\n"
       ]
      }
     ],
     "prompt_number": 41
    },
    {
     "cell_type": "code",
     "collapsed": false,
     "input": [
      "f.seek(15)\n",
      "s = f.read(21)\n",
      "print s\n",
      "len(s)"
     ],
     "language": "python",
     "metadata": {},
     "outputs": [
      {
       "output_type": "stream",
       "stream": "stdout",
       "text": [
        "containing some text\n",
        "\n"
       ]
      },
      {
       "output_type": "pyout",
       "prompt_number": 39,
       "text": [
        "21"
       ]
      }
     ],
     "prompt_number": 39
    },
    {
     "cell_type": "code",
     "collapsed": false,
     "input": [
      "s[0]"
     ],
     "language": "python",
     "metadata": {},
     "outputs": [
      {
       "output_type": "pyout",
       "prompt_number": 36,
       "text": [
        "'c'"
       ]
      }
     ],
     "prompt_number": 36
    },
    {
     "cell_type": "code",
     "collapsed": false,
     "input": [],
     "language": "python",
     "metadata": {},
     "outputs": []
    }
   ],
   "metadata": {}
  }
 ]
}
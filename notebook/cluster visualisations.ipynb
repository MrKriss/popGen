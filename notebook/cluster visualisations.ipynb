{
 "metadata": {
  "name": ""
 },
 "nbformat": 3,
 "nbformat_minor": 0,
 "worksheets": [
  {
   "cells": [
    {
     "cell_type": "code",
     "collapsed": false,
     "input": [
      "import matplotlib.pyplot as plt\n",
      "from database.reads_db import Reads_db\n",
      "import editdist as ed\n",
      "%cd data\n",
      "%cd gazelles-zebras/\n",
      "db = Reads_db('newreads.db')"
     ],
     "language": "python",
     "metadata": {},
     "outputs": [
      {
       "output_type": "stream",
       "stream": "stdout",
       "text": [
        "(bookmark:data) -> /space/musselle/data/RAD-seq\n",
        "/space/musselle/data/RAD-seq"
       ]
      },
      {
       "output_type": "stream",
       "stream": "stdout",
       "text": [
        "\n",
        "/space/musselle/data/RAD-seq/gazelles-zebras\n",
        "Database found with matching file name.\n",
        "Connecting to database newreads.db\n",
        "Setting Row_factory to named Rows\n"
       ]
      }
     ],
     "prompt_number": 21
    },
    {
     "cell_type": "code",
     "collapsed": false,
     "input": [
      "# cluster with no snps\n",
      "clust1 = db.get_cluster_by_id(1, table_prefix='g_')\n",
      "\n",
      "# Cluster with snps\n",
      "clust2 = db.get_cluster_by_id(2, table_prefix='g_')"
     ],
     "language": "python",
     "metadata": {},
     "outputs": [],
     "prompt_number": 2
    },
    {
     "cell_type": "code",
     "collapsed": false,
     "input": [
      "clust1.get_unique_seq()\n",
      "clust2.get_unique_seq()"
     ],
     "language": "python",
     "metadata": {},
     "outputs": [],
     "prompt_number": 63
    },
    {
     "cell_type": "code",
     "collapsed": false,
     "input": [
      "fmat1, samples1, seqs1, ds1  = clust1.get_unique_seq_by_individual(db)\n",
      "fmat2, samples2, seqs2, ds2  = clust2.get_unique_seq_by_individual(db)"
     ],
     "language": "python",
     "metadata": {},
     "outputs": [],
     "prompt_number": 17
    },
    {
     "cell_type": "code",
     "collapsed": false,
     "input": [
      "clust1.plot_basefrac()\n",
      "clust2.plot_basefrac()"
     ],
     "language": "python",
     "metadata": {},
     "outputs": [],
     "prompt_number": 14
    },
    {
     "cell_type": "code",
     "collapsed": false,
     "input": [
      "fmat1[:, :5]"
     ],
     "language": "python",
     "metadata": {},
     "outputs": [
      {
       "metadata": {},
       "output_type": "pyout",
       "prompt_number": 19,
       "text": [
        "array([[13,  0,  0,  0,  0],\n",
        "       [ 6,  0,  0,  0,  0],\n",
        "       [ 8,  0,  0,  0,  0],\n",
        "       [19,  0,  0,  0,  0],\n",
        "       [ 2,  0,  0,  0,  0],\n",
        "       [25,  0,  0,  0,  0],\n",
        "       [ 7,  0,  0,  0,  0],\n",
        "       [15,  0,  0,  0,  0],\n",
        "       [ 0,  0,  0,  1,  0],\n",
        "       [12,  0,  0,  0,  0],\n",
        "       [23,  0,  0,  0,  0],\n",
        "       [11,  0,  0,  0,  0],\n",
        "       [30,  0,  0,  0,  0],\n",
        "       [76,  0,  0,  0,  1],\n",
        "       [14,  0,  0,  0,  0],\n",
        "       [ 7,  0,  0,  0,  0],\n",
        "       [ 4,  0,  0,  0,  0],\n",
        "       [51,  0,  0,  0,  0],\n",
        "       [39,  2,  1,  0,  0],\n",
        "       [79,  1,  1,  0,  0],\n",
        "       [13,  0,  0,  0,  0],\n",
        "       [17,  0,  0,  0,  0],\n",
        "       [ 8,  1,  0,  0,  0],\n",
        "       [ 7,  0,  0,  0,  0],\n",
        "       [22,  0,  0,  0,  0],\n",
        "       [ 7,  0,  0,  0,  0],\n",
        "       [60,  2,  0,  0,  0],\n",
        "       [16,  0,  0,  0,  0],\n",
        "       [26,  0,  0,  0,  0],\n",
        "       [19,  0,  0,  0,  0],\n",
        "       [55,  0,  0,  0,  0],\n",
        "       [26,  0,  0,  0,  1],\n",
        "       [53,  0,  0,  0,  0],\n",
        "       [89,  0,  0,  1,  0],\n",
        "       [ 6,  0,  0,  0,  0],\n",
        "       [29,  1,  1,  0,  0],\n",
        "       [ 4,  0,  0,  0,  0],\n",
        "       [18,  0,  0,  0,  0],\n",
        "       [ 5,  0,  0,  0,  0]])"
       ]
      }
     ],
     "prompt_number": 19
    },
    {
     "cell_type": "code",
     "collapsed": false,
     "input": [],
     "language": "python",
     "metadata": {},
     "outputs": []
    },
    {
     "cell_type": "code",
     "collapsed": false,
     "input": [
      "fmat2[:,:5]"
     ],
     "language": "python",
     "metadata": {},
     "outputs": [
      {
       "metadata": {},
       "output_type": "pyout",
       "prompt_number": 20,
       "text": [
        "array([[ 5,  0,  0,  0,  0],\n",
        "       [ 4,  2,  4,  0,  0],\n",
        "       [ 9,  0,  0,  0,  0],\n",
        "       [ 6,  0, 12,  0,  0],\n",
        "       [ 3,  0,  0,  0,  0],\n",
        "       [21, 11, 17,  0,  0],\n",
        "       [ 4,  1,  0,  0,  0],\n",
        "       [ 8, 15,  0,  8,  0],\n",
        "       [ 1,  0,  0,  0,  0],\n",
        "       [ 7,  3,  0,  0,  0],\n",
        "       [12, 35,  0, 20,  0],\n",
        "       [10,  0,  0,  0,  0],\n",
        "       [22, 12, 13,  0,  0],\n",
        "       [17, 32,  0, 30,  1],\n",
        "       [14,  8,  7,  0,  0],\n",
        "       [ 9, 15,  0,  0,  1],\n",
        "       [ 2,  0,  0,  0,  0],\n",
        "       [45,  0,  0,  0,  0],\n",
        "       [ 9,  5,  0,  0,  1],\n",
        "       [34,  0,  0,  0,  0],\n",
        "       [11,  2,  3,  0,  0],\n",
        "       [16,  0,  0,  0,  0],\n",
        "       [ 7,  6,  0,  0,  0],\n",
        "       [ 3,  0,  0,  0,  0],\n",
        "       [ 0,  0,  0,  1,  0],\n",
        "       [ 8,  6,  1,  0,  0],\n",
        "       [32,  0,  0,  0,  0],\n",
        "       [11,  0,  0,  0,  0],\n",
        "       [20, 14,  0,  0,  0],\n",
        "       [11,  0,  0,  0,  0],\n",
        "       [33,  0,  0,  0,  0],\n",
        "       [ 9, 25,  0,  0,  0],\n",
        "       [24,  0,  0,  0,  0],\n",
        "       [59, 22, 30,  1,  0],\n",
        "       [10,  0,  0,  0,  0],\n",
        "       [20,  0,  0,  0,  0],\n",
        "       [ 0,  0,  0,  0,  0],\n",
        "       [10,  0,  0,  0,  0],\n",
        "       [ 2,  0,  0,  0,  0]])"
       ]
      }
     ],
     "prompt_number": 20
    },
    {
     "cell_type": "markdown",
     "metadata": {},
     "source": [
      "#### Investigate Total Read Counts in Individuals"
     ]
    },
    {
     "cell_type": "code",
     "collapsed": false,
     "input": [
      "total_reads"
     ],
     "language": "python",
     "metadata": {},
     "outputs": [
      {
       "metadata": {},
       "output_type": "pyout",
       "prompt_number": 15,
       "text": [
        "190008530"
       ]
      }
     ],
     "prompt_number": 15
    },
    {
     "cell_type": "code",
     "collapsed": false,
     "input": [
      "curs = db.con.execute('select sum(read_count) from samples')\n",
      "total_reads = curs.fetchone()['sum(read_count)']\n",
      "\n",
      "# Load Frequency of individuals\n",
      "curs = db.con.execute('select description, read_count from samples order by read_count desc')\n",
      "\n",
      "names = []\n",
      "counts = []\n",
      "\n",
      "for row in curs:\n",
      "    names.append(row['description'])\n",
      "    counts.append(row['read_count'])\n",
      "    # print '{0}\\t{1:.2%}'.format(row['description'], (row['read_count'] / float(total_reads)))\n",
      "\n",
      "\n",
      "bar(range(len(counts)), counts)"
     ],
     "language": "python",
     "metadata": {},
     "outputs": [
      {
       "metadata": {},
       "output_type": "pyout",
       "prompt_number": 25,
       "text": [
        "<Container object of 105 artists>"
       ]
      }
     ],
     "prompt_number": 25
    },
    {
     "cell_type": "code",
     "collapsed": false,
     "input": [
      "\n",
      "# Get dimentions\n",
      "y_lab = arange(len(ranked_seq_tups))\n",
      "x_lab = arange(len(ranked_seq_tups[0][0]))\n",
      "\n",
      "X, Y = np.meshgrid(x_lab, y_lab)\n",
      "\n",
      "data = np.zeros([len(y_lab), len(x_lab)], dtype = int)\n",
      "\n",
      "for i, (seq, count) in enumerate(ranked_seq_tups):\n",
      "            for j, base in enumerate(seq):\n",
      "                if base == 'A':\n",
      "                    data[i,j] = 1\n",
      "                if base == 'T':\n",
      "                    data[i,j] = 2\n",
      "                if base == 'G':\n",
      "                    data[i,j] = 3\n",
      "                if base == 'C':\n",
      "                    data[i,j] = 4\n",
      "                    "
     ],
     "language": "python",
     "metadata": {},
     "outputs": [],
     "prompt_number": 42
    },
    {
     "cell_type": "code",
     "collapsed": false,
     "input": [
      "data.shape"
     ],
     "language": "python",
     "metadata": {},
     "outputs": [
      {
       "metadata": {},
       "output_type": "pyout",
       "prompt_number": 44,
       "text": [
        "(106, 89)"
       ]
      }
     ],
     "prompt_number": 44
    },
    {
     "cell_type": "code",
     "collapsed": false,
     "input": [
      "Y.shape"
     ],
     "language": "python",
     "metadata": {},
     "outputs": [
      {
       "metadata": {},
       "output_type": "pyout",
       "prompt_number": 46,
       "text": [
        "(106, 89)"
       ]
      }
     ],
     "prompt_number": 46
    },
    {
     "cell_type": "code",
     "collapsed": false,
     "input": [
      "pcolor(X, Y, data)"
     ],
     "language": "python",
     "metadata": {},
     "outputs": [
      {
       "metadata": {},
       "output_type": "pyout",
       "prompt_number": 47,
       "text": [
        "<matplotlib.collections.PolyCollection at 0x7fb499f28510>"
       ]
      }
     ],
     "prompt_number": 47
    },
    {
     "cell_type": "code",
     "collapsed": false,
     "input": [
      "pcolor(data)"
     ],
     "language": "python",
     "metadata": {},
     "outputs": [
      {
       "metadata": {},
       "output_type": "pyout",
       "prompt_number": 52,
       "text": [
        "<matplotlib.collections.PolyCollection at 0x7fb48622b950>"
       ]
      }
     ],
     "prompt_number": 52
    },
    {
     "cell_type": "code",
     "collapsed": false,
     "input": [
      "imshow(data[:,:], interpolation='nearest')\n",
      "colorbar()"
     ],
     "language": "python",
     "metadata": {},
     "outputs": [
      {
       "metadata": {},
       "output_type": "pyout",
       "prompt_number": 33,
       "text": [
        "<matplotlib.colorbar.Colorbar instance at 0x7fb49943d7e8>"
       ]
      }
     ],
     "prompt_number": 33
    },
    {
     "cell_type": "code",
     "collapsed": false,
     "input": [
      "s = seqs[0][0]"
     ],
     "language": "python",
     "metadata": {},
     "outputs": [],
     "prompt_number": 14
    },
    {
     "cell_type": "code",
     "collapsed": false,
     "input": [
      "s."
     ],
     "language": "python",
     "metadata": {},
     "outputs": [],
     "prompt_number": 15
    },
    {
     "cell_type": "code",
     "collapsed": false,
     "input": [
      "# hinton map \n",
      "\n",
      "\"\"\"\n",
      "Demo of a function to create Hinton diagrams.\n",
      "\n",
      "Hinton diagrams are useful for visualizing the values of a 2D array (e.g.\n",
      "a weight matrix): Positive and negative values are represented by white and\n",
      "black squares, respectively, and the size of each square represents the\n",
      "magnitude of each value.\n",
      "\n",
      "Initial idea from David Warde-Farley on the SciPy Cookbook\n",
      "\"\"\"\n",
      "import numpy as np\n",
      "import matplotlib.pyplot as plt\n",
      "\n",
      "\n",
      "def hinton(matrix, max_weight=None, ax=None):\n",
      "    \"\"\"Draw Hinton diagram for visualizing a weight matrix.\"\"\"\n",
      "    ax = ax if ax is not None else plt.gca()\n",
      "\n",
      "    if not max_weight:\n",
      "        max_weight = 2**np.ceil(np.log(np.abs(matrix).max())/np.log(2))\n",
      "\n",
      "    ax.patch.set_facecolor('gray')\n",
      "    ax.set_aspect('equal', 'box')\n",
      "    ax.xaxis.set_major_locator(plt.NullLocator())\n",
      "    ax.yaxis.set_major_locator(plt.NullLocator())\n",
      "\n",
      "    for (x,y),w in np.ndenumerate(matrix):\n",
      "        color = 'white' if w > 0 else 'black'\n",
      "        size = np.sqrt(np.abs(w))\n",
      "        rect = plt.Rectangle([x - size / 2, y - size / 2], size, size,\n",
      "                             facecolor=color, edgecolor=color)\n",
      "        ax.add_patch(rect)\n",
      "\n",
      "    ax.autoscale_view()\n",
      "    ax.invert_yaxis()\n",
      "\n",
      "\n",
      "if __name__ == '__main__':\n",
      "    hinton(np.random.rand(20, 20) - 0.5)\n",
      "    plt.show()"
     ],
     "language": "python",
     "metadata": {},
     "outputs": []
    }
   ],
   "metadata": {}
  }
 ]
}
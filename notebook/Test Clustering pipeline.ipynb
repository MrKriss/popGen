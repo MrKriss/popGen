{
 "metadata": {
  "name": "Test Clustering pipeline"
 },
 "nbformat": 3,
 "nbformat_minor": 0,
 "worksheets": [
  {
   "cells": [
    {
     "cell_type": "code",
     "collapsed": false,
     "input": [
      "import glob\n",
      "from Bio import SeqIO\n",
      "import database.reads_db\n",
      "reload(database.reads_db)\n",
      "from database.reads_db import Reads_db\n",
      "import sqlite3\n",
      "import time\n",
      "\n",
      "import clf.cluster\n",
      "reload(clf.cluster)\n",
      "from clf.cluster import ClusterDictionary"
     ],
     "language": "python",
     "metadata": {},
     "outputs": [],
     "prompt_number": 8
    },
    {
     "cell_type": "code",
     "collapsed": false,
     "input": [
      "# prefix \n",
      "p = '/Users/chris/data/gazelles-zebras/'\n",
      "\n",
      "# Define inputs\n",
      "test_dir = os.path.join(p, 'testset/')\n",
      "test_files = 'testset_10000_L8.fastq'\n",
      "\n",
      "files_dir = '/space/musselle/data/RAD-seq/gazelles-zebras/processed-data/'\n",
      "L6_files = 'lane6*.fastq'\n",
      "L8_files = 'lane8*.fastq'\n",
      "\n",
      "barcodes_dir = os.path.join(p, 'barcodes/')\n",
      "barcode_files_L6 = '*6.txt'\n",
      "barcode_files_L8 = '*8.txt'\n",
      "\n",
      "files_path = os.path.join(test_dir, test_files)\n",
      "#files_path = os.path.join(files_dir, L6_files)\n",
      "#files_path = os.path.join(files_dir, L8_files)\n",
      "\n",
      "# barcodes_path = os.pth.join(barcodes_dir, barcode_files_L6)\n",
      "barcodes_path = os.path.join(barcodes_dir, barcode_files_L8)\n",
      "\n",
      "output_path = p\n",
      "database_path = os.path.join(p, 'testdb.db')\n",
      "\n",
      "temp_fastafile = os.path.join(p, 'test.fasta')\n"
     ],
     "language": "python",
     "metadata": {},
     "outputs": [],
     "prompt_number": 9
    },
    {
     "cell_type": "markdown",
     "metadata": {},
     "source": [
      "### Make Test Database"
     ]
    },
    {
     "cell_type": "code",
     "collapsed": false,
     "input": [
      "!~/bin/filter_and_clean_reads.py -i {files_path} -b {barcodes_path} -p {output_path} -f 20 -n 0.1 -c TGCAGG -r 2 -g 2 -v | ~/bin/load_reads.py -b {barcodes_path} -d {database_path}"
     ],
     "language": "python",
     "metadata": {},
     "outputs": [
      {
       "output_type": "stream",
       "stream": "stdout",
       "text": [
        "\r\n",
        "Processing /Users/chris/data/gazelles-zebras/testset/testset_10000_L8.fastq\r\n",
        "Writing to stdout ....\r\n"
       ]
      },
      {
       "output_type": "stream",
       "stream": "stdout",
       "text": [
        "Creating new Database file: /Users/chris/data/gazelles-zebras/testdb.db\r\n",
        "Setting Row_factory to named Rows\r\n"
       ]
      },
      {
       "output_type": "stream",
       "stream": "stdout",
       "text": [
        "5928 records Preprocessed\r\n",
        "Finished file 0 after 00:00:02\r\n",
        "\r\n",
        "Filter stats\r\n",
        "\r\n",
        "Filter No.\tHits\r\n",
        "0\t\t998\r\n",
        "1\t\t34\r\n",
        "2\t\t187\r\n",
        "3\t\t1121\r\n",
        "4\t\t97\r\n",
        "\r\n",
        "Total No. Reads Processed:  10000\r\n",
        "\r\n",
        "Total No. filtered out:  2437 (24.37 %)\r\n",
        "\r\n",
        "Total reads skipped in cleaning: \t1635 (16.35%)\r\n",
        "\r\n",
        "Total reads corrected: \t\t\t903 (9.03%)\r\n",
        "\r\n",
        "Total No. reads passed: \t\t5928 (59.28%)\r\n",
        "Processed all files in 00:00:02\r\n"
       ]
      }
     ],
     "prompt_number": 10
    },
    {
     "cell_type": "markdown",
     "metadata": {},
     "source": [
      "### Extract records and write to fasta"
     ]
    },
    {
     "cell_type": "code",
     "collapsed": false,
     "input": [
      "!/Users/chris/bin/extract_from_db.py -i {database_path} -o {temp_fastafile} -q 'SELECT * from seqs where individualid Glob \"*zebra*\"' "
     ],
     "language": "python",
     "metadata": {},
     "outputs": [
      {
       "output_type": "stream",
       "stream": "stdout",
       "text": [
        "['/Users/chris/bin/extract_from_db.py', '-i', '/Users/chris/data/gazelles-zebras/testdb4.db', '-o', '/Users/chris/data/gazelles-zebras/test.fasta', '-q', 'SELECT * from seqs where individualid Glob \"*zebra*\"']\r\n",
        "Creating new Database file: /Users/chris/data/gazelles-zebras/testdb4.db\r\n",
        "Setting Row_factory to named Rows\r\n",
        "Executing sql querry....\r\n",
        "Traceback (most recent call last):\r\n",
        "  File \"/Users/chris/bin/extract_from_db.py\", line 45, in <module>\r\n",
        "    fastafile_handle = db.write_reads(args.query, args.output, format='fasta')\r\n",
        "  File \"/Users/chris/Dropbox/work/popGen/code/database/reads_db.py\", line 255, in write_reads\r\n",
        "    record_curs = con.execute(sql_query)\r\n",
        "sqlite3.OperationalError: no such table: seqs\r\n"
       ]
      }
     ],
     "prompt_number": 3
    },
    {
     "cell_type": "code",
     "collapsed": false,
     "input": [
      "%%timeit \n",
      "# Setup objects \n",
      "db = Reads_db(database_path)\n",
      "rec_curs = db.con.execute(\"\"\" SELECT * from seqs\"\"\")\n",
      "\n",
      "count = 0\n",
      "\n",
      "for rec in rec_curs:\n",
      "    count += 1\n",
      "    \n",
      "print count \n"
     ],
     "language": "python",
     "metadata": {},
     "outputs": [
      {
       "output_type": "stream",
       "stream": "stdout",
       "text": [
        "Database found with matching file name.\n",
        "Connecting to database /Users/chris/data/gazelles-zebras/testdb.db\n",
        "Setting Row_factory to named Rows\n",
        "62032"
       ]
      },
      {
       "output_type": "stream",
       "stream": "stdout",
       "text": [
        "\n",
        "Database found with matching file name.\n",
        "Connecting to database /Users/chris/data/gazelles-zebras/testdb.db\n",
        "Setting Row_factory to named Rows\n",
        "62032"
       ]
      },
      {
       "output_type": "stream",
       "stream": "stdout",
       "text": [
        "\n",
        "Database found with matching file name.\n",
        "Connecting to database /Users/chris/data/gazelles-zebras/testdb.db\n",
        "Setting Row_factory to named Rows\n",
        "62032"
       ]
      },
      {
       "output_type": "stream",
       "stream": "stdout",
       "text": [
        "\n",
        "Database found with matching file name.\n",
        "Connecting to database /Users/chris/data/gazelles-zebras/testdb.db\n",
        "Setting Row_factory to named Rows\n",
        "62032"
       ]
      },
      {
       "output_type": "stream",
       "stream": "stdout",
       "text": [
        "\n",
        "1 loops, best of 3: 1.26 s per loop\n"
       ]
      }
     ],
     "prompt_number": 24
    },
    {
     "cell_type": "code",
     "collapsed": false,
     "input": [
      "clust_dict.aprox_memsize"
     ],
     "language": "python",
     "metadata": {},
     "outputs": [
      {
       "output_type": "pyout",
       "prompt_number": 17,
       "text": [
        "203763084"
       ]
      }
     ],
     "prompt_number": 17
    },
    {
     "cell_type": "code",
     "collapsed": false,
     "input": [
      "%prun -s cumulative clust_dict.flush2db(db)"
     ],
     "language": "python",
     "metadata": {},
     "outputs": [
      {
       "output_type": "stream",
       "stream": "stdout",
       "text": [
        "\n"
       ]
      }
     ],
     "prompt_number": 18
    }
   ],
   "metadata": {}
  }
 ]
}
{
 "metadata": {
  "name": "Test Clustering pipeline"
 },
 "nbformat": 3,
 "nbformat_minor": 0,
 "worksheets": [
  {
   "cells": [
    {
     "cell_type": "code",
     "collapsed": false,
     "input": [
      "import glob\n",
      "from Bio import SeqIO\n",
      "import database.reads_db\n",
      "reload(database.reads_db)\n",
      "from database.reads_db import Reads_db\n",
      "import sqlite3\n",
      "import time\n",
      "\n",
      "import clf.cluster\n",
      "reload(clf.cluster)\n",
      "from clf.cluster import ClusterDictionary"
     ],
     "language": "python",
     "metadata": {},
     "outputs": [],
     "prompt_number": 42
    },
    {
     "cell_type": "code",
     "collapsed": false,
     "input": [
      "# prefix \n",
      "# p = '/Users/chris/data/gazelles-zebras/'\n",
      "p = '/space/musselle/data/RAD-seq/gazelles-zebras/'\n",
      "\n",
      "# cdhit_path = '/Users/chris/bin/cdhit/'\n",
      "cdhit_path = '/home/pgrad/musselle/ubuntu/bin/cd-hit-v4.6.1/'\n",
      "\n",
      "# Define inputs\n",
      "test_dir = os.path.join(p, 'testset/')\n",
      "test_files = 'testset_100000_L8.fastq'\n",
      "\n",
      "files_dir = '/space/musselle/data/RAD-seq/gazelles-zebras/processed-data/'\n",
      "L6_files = 'lane6*.fastq'\n",
      "L8_files = 'lane8*.fastq'\n",
      "\n",
      "barcodes_dir = os.path.join(p, 'barcodes/')\n",
      "barcode_files_L6 = '*6.txt'\n",
      "barcode_files_L8 = '*8.txt'\n",
      "\n",
      "files_path = os.path.join(test_dir, test_files)\n",
      "#files_path = os.path.join(files_dir, L6_files)\n",
      "#files_path = os.path.join(files_dir, L8_files)\n",
      "\n",
      "# barcodes_path = os.pth.join(barcodes_dir, barcode_files_L6)\n",
      "barcodes_path = os.path.join(barcodes_dir, barcode_files_L8)\n",
      "\n",
      "output_path = p\n",
      "database_path = os.path.join(p, 'testdb.db')\n",
      "\n",
      "temp_fastafile = os.path.join(p, 'test.fasta')\n",
      "\n",
      "cluster_file = os.path.join(p, 'test_cluster')\n"
     ],
     "language": "python",
     "metadata": {},
     "outputs": [],
     "prompt_number": 11
    },
    {
     "cell_type": "markdown",
     "metadata": {},
     "source": [
      "### Make Test Database"
     ]
    },
    {
     "cell_type": "code",
     "collapsed": false,
     "input": [
      "!~/bin/filter_and_clean_reads.py -i {files_path} -b {barcodes_path} -p {output_path} -f 20 -n 0.1 -c TGCAGG -r 2 -g 2 -v | ~/bin/load_reads.py -b {barcodes_path} -d {database_path}"
     ],
     "language": "python",
     "metadata": {},
     "outputs": [
      {
       "output_type": "stream",
       "stream": "stdout",
       "text": [
        "\r\n",
        "Processing /space/musselle/data/RAD-seq/gazelles-zebras/testset/testset_100000_L8.fastq\r\n",
        "Writing to stdout ....\r\n"
       ]
      },
      {
       "output_type": "stream",
       "stream": "stdout",
       "text": [
        "Creating new Database file: /space/musselle/data/RAD-seq/gazelles-zebras/testdb.db\r\n",
        "Setting Row_factory to named Rows\r\n"
       ]
      },
      {
       "output_type": "stream",
       "stream": "stdout",
       "text": [
        "60334 records Preprocessed\r\n",
        "Finished file 0 after 00:00:19\r\n",
        "\r\n",
        "Filter stats\r\n",
        "\r\n",
        "Filter No.\tHits\r\n",
        "0\t\t7721\r\n",
        "1\t\t66\r\n",
        "2\t\t1847\r\n",
        "3\t\t12274\r\n",
        "4\t\t1016\r\n",
        "\r\n",
        "Total No. Reads Processed:  100000\r\n",
        "\r\n",
        "Total No. filtered out:  22924 (22.92 %)\r\n",
        "\r\n",
        "Total reads skipped in cleaning: \t16742 (16.74%)\r\n",
        "\r\n",
        "Total reads corrected: \t\t\t12723 (12.72%)\r\n",
        "\r\n",
        "Total No. reads passed: \t\t60334 (60.33%)\r\n",
        "Processed all files in 00:00:19\r\n"
       ]
      }
     ],
     "prompt_number": 12
    },
    {
     "cell_type": "markdown",
     "metadata": {},
     "source": [
      "### Extract records and write to fasta"
     ]
    },
    {
     "cell_type": "code",
     "collapsed": false,
     "input": [
      "!~/bin/extract_from_db.py -i {database_path} -o {temp_fastafile} -q 'SELECT * from seqs where individualid Glob \"*zebra*\"' "
     ],
     "language": "python",
     "metadata": {},
     "outputs": [
      {
       "output_type": "stream",
       "stream": "stdout",
       "text": [
        "['/home/pgrad/musselle/ubuntu/bin/extract_from_db.py', '-i', '/space/musselle/data/RAD-seq/gazelles-zebras/testdb.db', '-o', '/space/musselle/data/RAD-seq/gazelles-zebras/test.fasta', '-q', 'SELECT * from seqs where individualid Glob \"*zebra*\"']\r\n",
        "Database found with matching file name.\r\n",
        "Connecting to database /space/musselle/data/RAD-seq/gazelles-zebras/testdb.db\r\n",
        "Setting Row_factory to named Rows\r\n",
        "Executing sql querry....  Done!\r\n",
        "Records returned in 00:00:00\r\n",
        "Writing records to fasta format...."
       ]
      },
      {
       "output_type": "stream",
       "stream": "stdout",
       "text": [
        "  Done!\r\n",
        "\r\n",
        "33718 records written successfully to /space/musselle/data/RAD-seq/gazelles-zebras/test.fasta\r\n",
        "in 00:00:02\r\n"
       ]
      }
     ],
     "prompt_number": 13
    },
    {
     "cell_type": "markdown",
     "metadata": {},
     "source": [
      "### Cluster with CD-HIT"
     ]
    },
    {
     "cell_type": "code",
     "collapsed": false,
     "input": [
      "temp_fastafile = os.path.join(p, 'test.fasta')\n",
      "\n",
      "cluster_file = os.path.join(p, 'test_cluster')\n"
     ],
     "language": "python",
     "metadata": {},
     "outputs": [],
     "prompt_number": 16
    },
    {
     "cell_type": "code",
     "collapsed": false,
     "input": [
      "!~/bin/cluster_CDHIT.py -i {temp_fastafile} -o {cluster_file} -p {cdhit_path} -n 8 -s 0.95 -g -m 0 -t 1 "
     ],
     "language": "python",
     "metadata": {},
     "outputs": [
      {
       "output_type": "stream",
       "stream": "stdout",
       "text": [
        "['/home/pgrad/musselle/ubuntu/bin/cluster_CDHIT.py', '-i', '/space/musselle/data/RAD-seq/gazelles-zebras/test.fasta', '-o', '/space/musselle/data/RAD-seq/gazelles-zebras/test_cluster', '-p', '/home/pgrad/musselle/ubuntu/bin/cd-hit-v4.6.1/', '-n', '8', '-s', '0.95', '-g', '-m', '0', '-t', '1']\r\n"
       ]
      },
      {
       "output_type": "stream",
       "stream": "stdout",
       "text": [
        "================================================================\r\n",
        "Program: CD-HIT, V4.6 (+OpenMP), Dec 05 2012, 13:57:31\r\n",
        "Command:\r\n",
        "         /home/pgrad/musselle/ubuntu/bin/cd-hit-v4.6.1/cd-hit-est\r\n",
        "         -i\r\n",
        "         /space/musselle/data/RAD-seq/gazelles-zebras/test.fasta\r\n",
        "         -o\r\n",
        "         /space/musselle/data/RAD-seq/gazelles-zebras/test_cluster\r\n",
        "         -c 0.95 -n 8 -d 0 -r 0 -s 0.8 -M 0 -T 1 -g 1\r\n",
        "\r\n",
        "Started: Wed Aug  7 12:00:47 2013\r\n",
        "================================================================\r\n",
        "                            Output                              \r\n",
        "----------------------------------------------------------------\r\n"
       ]
      },
      {
       "output_type": "stream",
       "stream": "stdout",
       "text": [
        "total seq: 33718\r\n",
        "longest and shortest : 95 and 95\r\n",
        "Total letters: 3203210\r\n",
        "Sequences have been sorted\r\n",
        "\r\n",
        "Approximated minimal memory consumption:\r\n",
        "Sequence        : 6M\r\n",
        "Buffer          : 1 X 12M = 12M\r\n",
        "Table           : 1 X 1M = 1M\r\n",
        "Miscellaneous   : 0M\r\n",
        "Total           : 21M\r\n",
        "\r\n",
        "Table limit with the given memory limit:\r\n",
        "Max number of representatives: 4000000\r\n",
        "Max number of word counting entries: 97547500\r\n",
        "\r\n",
        "\r",
        "comparing sequences from          0  to      33718\r\n"
       ]
      },
      {
       "output_type": "stream",
       "stream": "stdout",
       "text": [
        "..."
       ]
      },
      {
       "output_type": "stream",
       "stream": "stdout",
       "text": [
        "."
       ]
      },
      {
       "output_type": "stream",
       "stream": "stdout",
       "text": [
        ".."
       ]
      },
      {
       "output_type": "stream",
       "stream": "stdout",
       "text": [
        "."
       ]
      },
      {
       "output_type": "stream",
       "stream": "stdout",
       "text": [
        "."
       ]
      },
      {
       "output_type": "stream",
       "stream": "stdout",
       "text": [
        "."
       ]
      },
      {
       "output_type": "stream",
       "stream": "stdout",
       "text": [
        ".\r",
        "..........    10000  finished       9536  clusters\r\n"
       ]
      },
      {
       "output_type": "stream",
       "stream": "stdout",
       "text": [
        ".."
       ]
      },
      {
       "output_type": "stream",
       "stream": "stdout",
       "text": [
        "."
       ]
      },
      {
       "output_type": "stream",
       "stream": "stdout",
       "text": [
        "."
       ]
      },
      {
       "output_type": "stream",
       "stream": "stdout",
       "text": [
        "."
       ]
      },
      {
       "output_type": "stream",
       "stream": "stdout",
       "text": [
        "."
       ]
      },
      {
       "output_type": "stream",
       "stream": "stdout",
       "text": [
        "."
       ]
      },
      {
       "output_type": "stream",
       "stream": "stdout",
       "text": [
        "."
       ]
      },
      {
       "output_type": "stream",
       "stream": "stdout",
       "text": [
        "."
       ]
      },
      {
       "output_type": "stream",
       "stream": "stdout",
       "text": [
        ".\r",
        "..........    20000  finished      18454  clusters\r\n"
       ]
      },
      {
       "output_type": "stream",
       "stream": "stdout",
       "text": [
        "."
       ]
      },
      {
       "output_type": "stream",
       "stream": "stdout",
       "text": [
        "."
       ]
      },
      {
       "output_type": "stream",
       "stream": "stdout",
       "text": [
        "."
       ]
      },
      {
       "output_type": "stream",
       "stream": "stdout",
       "text": [
        "."
       ]
      },
      {
       "output_type": "stream",
       "stream": "stdout",
       "text": [
        "."
       ]
      },
      {
       "output_type": "stream",
       "stream": "stdout",
       "text": [
        "."
       ]
      },
      {
       "output_type": "stream",
       "stream": "stdout",
       "text": [
        "."
       ]
      },
      {
       "output_type": "stream",
       "stream": "stdout",
       "text": [
        "."
       ]
      },
      {
       "output_type": "stream",
       "stream": "stdout",
       "text": [
        "."
       ]
      },
      {
       "output_type": "stream",
       "stream": "stdout",
       "text": [
        ".\r",
        "..........    30000  finished      26772  clusters\r\n"
       ]
      },
      {
       "output_type": "stream",
       "stream": "stdout",
       "text": [
        "."
       ]
      },
      {
       "output_type": "stream",
       "stream": "stdout",
       "text": [
        "."
       ]
      },
      {
       "output_type": "stream",
       "stream": "stdout",
       "text": [
        "."
       ]
      },
      {
       "output_type": "stream",
       "stream": "stdout",
       "text": [
        "\r\n",
        "    33718  finished      29775  clusters\r\n",
        "\r\n",
        "Apprixmated maximum memory consumption: 42M\r\n",
        "writing new database\r\n"
       ]
      },
      {
       "output_type": "stream",
       "stream": "stdout",
       "text": [
        "writing clustering information\r\n",
        "program completed !\r\n",
        "\r\n",
        "Total CPU time 1.94\r\n",
        "Generating cluster summary for  test_cluster.clstr ...\r\n"
       ]
      },
      {
       "output_type": "stream",
       "stream": "stdout",
       "text": [
        "Finished Scanning cluster file.\r\n",
        "Top 5 Cluster Sizes:  [('1', 26722), ('2', 2634), ('3', 272), ('4', 63), ('5', 29)]\r\n",
        "Top 5 Sequence Lengths:  [('95', 29775)]\r\n",
        "Clustered 33718 records into 29775 clusters in 00:00:02\r\n"
       ]
      }
     ],
     "prompt_number": 17
    },
    {
     "cell_type": "markdown",
     "metadata": {},
     "source": [
      "### Load in cluster file to Database "
     ]
    },
    {
     "cell_type": "code",
     "collapsed": false,
     "input": [
      "!~/bin/load_CDHIT_cluster.py -i {cluster_file+'.clstr'} -o {database_path} -n --min 10 --max 21 "
     ],
     "language": "python",
     "metadata": {},
     "outputs": [
      {
       "output_type": "stream",
       "stream": "stdout",
       "text": [
        "['/home/pgrad/musselle/ubuntu/bin/load_CDHIT_cluster.py', '-i', '/space/musselle/data/RAD-seq/gazelles-zebras/test_cluster.clstr', '-o', '/space/musselle/data/RAD-seq/gazelles-zebras/testdb.db', '-n', '--min', '10', '--max', '21']\r\n",
        "Database found with matching file name.\r\n",
        "Connecting to database /space/musselle/data/RAD-seq/gazelles-zebras/testdb.db\r\n",
        "Setting Row_factory to named Rows\r\n",
        "Sorting cluster file /space/musselle/data/RAD-seq/gazelles-zebras/test_cluster.clstr ...\r\n"
       ]
      },
      {
       "output_type": "stream",
       "stream": "stdout",
       "text": [
        "Finished sorting cluster file after 00:00:00\r\n",
        "\r\n",
        "Importing cluster file /space/musselle/data/RAD-seq/gazelles-zebras/test_cluster-subset.clstr  to database...\r\n"
       ]
      },
      {
       "output_type": "stream",
       "stream": "stdout",
       "text": [
        "Finished Scanning cluster file.\r\n",
        "Loaded cluster file in 00:00:05\r\n"
       ]
      }
     ],
     "prompt_number": 48
    },
    {
     "cell_type": "code",
     "collapsed": false,
     "input": [
      "!~/bin/load_CDHIT_cluster.py -i {cluster_file} -o {database_path} -n --min 5 --max 19 "
     ],
     "language": "python",
     "metadata": {},
     "outputs": [
      {
       "output_type": "stream",
       "stream": "stdout",
       "text": [
        "['/home/pgrad/musselle/ubuntu/bin/load_CDHIT_cluster.py', '-i', '/space/musselle/data/RAD-seq/gazelles-zebras/test_cluster', '-o', '/space/musselle/data/RAD-seq/gazelles-zebras/testdb.db', '-n', '--min', '5', '--max', '19']\r\n",
        "Database found with matching file name.\r\n",
        "Connecting to database /space/musselle/data/RAD-seq/gazelles-zebras/testdb.db\r\n",
        "Setting Row_factory to named Rows\r\n",
        "Sorting cluster file /space/musselle/data/RAD-seq/gazelles-zebras/test_cluster.clstr ...\r\n"
       ]
      },
      {
       "output_type": "stream",
       "stream": "stdout",
       "text": [
        "Finished sorting cluster file after 00:00:00\r\n",
        "\r\n",
        "Importing cluster file /space/musselle/data/RAD-seq/gazelles-zebras/test_cluster-subset.clstr  to database...\r\n"
       ]
      },
      {
       "output_type": "stream",
       "stream": "stdout",
       "text": [
        "Finished Scanning cluster file.\r\n",
        "Loaded cluster file in 00:00:13\r\n"
       ]
      }
     ],
     "prompt_number": 56
    },
    {
     "cell_type": "code",
     "collapsed": false,
     "input": [
      "!head {cluster_file+'.clstr'}"
     ],
     "language": "python",
     "metadata": {},
     "outputs": [
      {
       "output_type": "stream",
       "stream": "stdout",
       "text": [
        ">Cluster 0\r\n",
        "0\t95nt, >1... *\r\n",
        ">Cluster 1\r\n",
        "0\t95nt, >3... *\r\n",
        ">Cluster 2\r\n",
        "0\t95nt, >5... *\r\n",
        ">Cluster 3\r\n",
        "0\t95nt, >6... *\r\n",
        ">Cluster 4\r\n",
        "0\t95nt, >9... *\r\n"
       ]
      }
     ],
     "prompt_number": 27
    },
    {
     "cell_type": "code",
     "collapsed": false,
     "input": [
      "ls"
     ],
     "language": "python",
     "metadata": {},
     "outputs": [
      {
       "output_type": "stream",
       "stream": "stdout",
       "text": [
        "\u001b[0m\u001b[01;34mbackup\u001b[0m/                gz_samples.db    test_cluster.clstr\r\n",
        "\u001b[01;34mbarcodes\u001b[0m/              \u001b[01;34mimages\u001b[0m/          test_cluster-subset\r\n",
        "clusterfile.log        \u001b[01;34mprocessed-data\u001b[0m/  test_cluster-subset.clstr\r\n",
        "\u001b[01;34mclusters\u001b[0m/              \u001b[01;34mraw-data\u001b[0m/        testdb.db\r\n",
        "filtering_summary.log  reads.db         test.fasta\r\n",
        "gazelles-zebras.db     \u001b[01;34mstats\u001b[0m/           \u001b[01;34mtestset\u001b[0m/\r\n",
        "gz_allg-allz.db        test_cluster\r\n",
        "\u001b[m"
       ]
      }
     ],
     "prompt_number": 47
    },
    {
     "cell_type": "code",
     "collapsed": false,
     "input": [
      "clustf2 = os.path.abspath('test_cluster-subset.clstr')"
     ],
     "language": "python",
     "metadata": {},
     "outputs": [],
     "prompt_number": 49
    },
    {
     "cell_type": "code",
     "collapsed": false,
     "input": [],
     "language": "python",
     "metadata": {},
     "outputs": []
    }
   ],
   "metadata": {}
  }
 ]
}
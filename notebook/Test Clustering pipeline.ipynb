{
 "metadata": {
  "name": "Test Clustering pipeline"
 },
 "nbformat": 3,
 "nbformat_minor": 0,
 "worksheets": [
  {
   "cells": [
    {
     "cell_type": "code",
     "collapsed": false,
     "input": [
      "import glob\n",
      "from Bio import SeqIO\n",
      "import database.reads_db\n",
      "reload(database.reads_db)\n",
      "from database.reads_db import Reads_db\n",
      "import sqlite3\n",
      "import time\n",
      "\n",
      "import clf.cluster\n",
      "reload(clf.cluster)\n",
      "from clf.cluster import ClusterDictionary"
     ],
     "language": "python",
     "metadata": {},
     "outputs": [],
     "prompt_number": 1
    },
    {
     "cell_type": "code",
     "collapsed": false,
     "input": [
      "# prefix \n",
      "p = '/Users/chris/data/gazelles-zebras/'\n",
      "cdhit_path = '/Users/chris/bin/cdhit/'\n",
      "\n",
      "# Define inputs\n",
      "test_dir = os.path.join(p, 'testset/')\n",
      "test_files = 'testset_10000_L8.fastq'\n",
      "\n",
      "files_dir = '/space/musselle/data/RAD-seq/gazelles-zebras/processed-data/'\n",
      "L6_files = 'lane6*.fastq'\n",
      "L8_files = 'lane8*.fastq'\n",
      "\n",
      "barcodes_dir = os.path.join(p, 'barcodes/')\n",
      "barcode_files_L6 = '*6.txt'\n",
      "barcode_files_L8 = '*8.txt'\n",
      "\n",
      "files_path = os.path.join(test_dir, test_files)\n",
      "#files_path = os.path.join(files_dir, L6_files)\n",
      "#files_path = os.path.join(files_dir, L8_files)\n",
      "\n",
      "# barcodes_path = os.pth.join(barcodes_dir, barcode_files_L6)\n",
      "barcodes_path = os.path.join(barcodes_dir, barcode_files_L8)\n",
      "\n",
      "output_path = p\n",
      "database_path = os.path.join(p, 'testdb.db')\n",
      "\n",
      "temp_fastafile = os.path.join(p, 'test.fasta')\n",
      "\n",
      "cluster_file = os.path.join(p, 'test_cluster')\n"
     ],
     "language": "python",
     "metadata": {},
     "outputs": []
    },
    {
     "cell_type": "markdown",
     "metadata": {},
     "source": [
      "### Make Test Database"
     ]
    },
    {
     "cell_type": "code",
     "collapsed": false,
     "input": [
      "!~/bin/filter_and_clean_reads.py -i {files_path} -b {barcodes_path} -p {output_path} -f 20 -n 0.1 -c TGCAGG -r 2 -g 2 -v | ~/bin/load_reads.py -b {barcodes_path} -d {database_path}"
     ],
     "language": "python",
     "metadata": {},
     "outputs": []
    },
    {
     "cell_type": "markdown",
     "metadata": {},
     "source": [
      "### Extract records and write to fasta"
     ]
    },
    {
     "cell_type": "code",
     "collapsed": false,
     "input": [
      "!/Users/chris/bin/extract_from_db.py -i {database_path} -o {temp_fastafile} -q 'SELECT * from seqs where individualid Glob \"*zebra*\"' "
     ],
     "language": "python",
     "metadata": {},
     "outputs": [
      {
       "output_type": "stream",
       "stream": "stdout",
       "text": [
        "['/Users/chris/bin/extract_from_db.py', '-i', '{database_path}', '-o', '{temp_fastafile}', '-q', 'SELECT * from seqs where individualid Glob \"*zebra*\"']\r\n",
        "Database found with matching file name.\r\n",
        "Connecting to database {database_path}\r\n",
        "Setting Row_factory to named Rows\r\n",
        "File already present. Saving as  {temp_fastafile}1\r\n",
        "Executing sql querry....  Done!\r\n",
        "Records returned in 00:00:00\r\n",
        "Writing records to fasta format....  Done!\r\n",
        "\r\n",
        "0 records written successfully to {temp_fastafile}1\r\n",
        "in 00:00:00\r\n"
       ]
      }
     ],
     "prompt_number": 2
    },
    {
     "cell_type": "markdown",
     "metadata": {},
     "source": [
      "### Cluster with CD-HIT"
     ]
    },
    {
     "cell_type": "code",
     "collapsed": false,
     "input": [
      "temp_fastafile = os.path.join(p, 'test.fasta')\n",
      "\n",
      "cluster_file = os.path.join(p, 'test_cluster')\n"
     ],
     "language": "python",
     "metadata": {},
     "outputs": [],
     "prompt_number": 9
    },
    {
     "cell_type": "code",
     "collapsed": false,
     "input": [
      "!/Users/chris/bin/cluster_CDHIT.py -i {temp_fastafile} -o {cluster_file} -p {cdhit_path} -n 8 -s 0.95 -g -m 0 -t 1 "
     ],
     "language": "python",
     "metadata": {},
     "outputs": [
      {
       "output_type": "stream",
       "stream": "stdout",
       "text": [
        "['/Users/chris/bin/cluster_CDHIT.py', '-i', '/Users/chris/data/gazelles-zebras/test.fasta', '-o', '/Users/chris/data/gazelles-zebras/test_cluster', '-p', '/Users/chris/bin/cdhit/', '-n', '8', '-s', '0.95', '-g', '-m', '0', '-t', '1']\r\n"
       ]
      },
      {
       "output_type": "stream",
       "stream": "stdout",
       "text": [
        "================================================================\r\n",
        "Program: CD-HIT, V4.6 (+OpenMP), Jul 24 2013, 17:12:18\r\n",
        "Command: /Users/chris/bin/cdhit/cd-hit-est -i\r\n",
        "         /Users/chris/data/gazelles-zebras/test.fasta -o\r\n",
        "         /Users/chris/data/gazelles-zebras/test_cluster -c 0.95\r\n",
        "         -n 8 -d 0 -r 0 -s 0.8 -M 0 -T 1 -g 1\r\n",
        "\r\n",
        "Started: Tue Jul 30 22:30:55 2013\r\n",
        "================================================================\r\n",
        "                            Output                              \r\n",
        "----------------------------------------------------------------\r\n"
       ]
      },
      {
       "output_type": "stream",
       "stream": "stdout",
       "text": [
        "total seq: 6554\r\n",
        "longest and shortest : 95 and 95\r\n",
        "Total letters: 622630\r\n",
        "Sequences have been sorted\r\n",
        "\r\n",
        "Approximated minimal memory consumption:\r\n",
        "Sequence        : 1M\r\n",
        "Buffer          : 1 X 12M = 12M\r\n",
        "Table           : 1 X 1M = 1M\r\n",
        "Miscellaneous   : 0M\r\n",
        "Total           : 14M\r\n",
        "\r\n",
        "Table limit with the given memory limit:\r\n",
        "Max number of representatives: 4000000\r\n",
        "Max number of word counting entries: 97547500\r\n",
        "\r\n",
        "\r",
        "comparing sequences from          0  to       6554\r\n"
       ]
      },
      {
       "output_type": "stream",
       "stream": "stdout",
       "text": [
        "."
       ]
      },
      {
       "output_type": "stream",
       "stream": "stdout",
       "text": [
        "."
       ]
      },
      {
       "output_type": "stream",
       "stream": "stdout",
       "text": [
        "."
       ]
      },
      {
       "output_type": "stream",
       "stream": "stdout",
       "text": [
        "."
       ]
      },
      {
       "output_type": "stream",
       "stream": "stdout",
       "text": [
        "."
       ]
      },
      {
       "output_type": "stream",
       "stream": "stdout",
       "text": [
        ".\r\n",
        "     6554  finished       3206  clusters\r\n",
        "\r\n",
        "Apprixmated maximum memory consumption: 16M\r\n"
       ]
      },
      {
       "output_type": "stream",
       "stream": "stdout",
       "text": [
        "writing new database\r\n",
        "writing clustering information\r\n",
        "program completed !\r\n",
        "\r\n",
        "Total CPU time 0.34\r\n",
        "Generating cluster summary for  test_cluster.clstr ...\r\n"
       ]
      },
      {
       "output_type": "stream",
       "stream": "stdout",
       "text": [
        "Finished Scanning cluster file.\r\n",
        "Top 5 Cluster Sizes:  [('2', 3147), ('4', 51), ('6', 5), ('8', 2), ('10', 1)]\r\n",
        "Top 5 Sequence Lengths:  [('95', 3206)]\r\n",
        "Clustered 6554 records into 3206 clusters in 00:00:00\r\n"
       ]
      }
     ],
     "prompt_number": 10
    },
    {
     "cell_type": "code",
     "collapsed": false,
     "input": [
      "cd ~/data/gazelles-zebras/\n"
     ],
     "language": "python",
     "metadata": {},
     "outputs": [
      {
       "output_type": "stream",
       "stream": "stdout",
       "text": [
        "/Users/chris/data/gazelles-zebras"
       ]
      },
      {
       "output_type": "stream",
       "stream": "stdout",
       "text": [
        "\n"
       ]
      }
     ],
     "prompt_number": 11
    },
    {
     "cell_type": "code",
     "collapsed": false,
     "input": [
      "cat clusterfile.log"
     ],
     "language": "python",
     "metadata": {},
     "outputs": [
      {
       "output_type": "stream",
       "stream": "stdout",
       "text": [
        "=========================================================\r\n",
        "Program     : /Users/chris/bin/cdhit/cd-hit-est\r\n",
        "Input File  : /Users/chris/data/gazelles-zebras/test.fasta\r\n",
        "Output File : /Users/chris/data/gazelles-zebras/test_cluster\r\n",
        "Commands    : -c 0.95 -n 8 -d 0 -r 0 -s 0.8 -M 0 -T 1 -g 1\r\n",
        "\r\n",
        "Started     : Tue, 30 Jul 2013, 21:30:55\r\n",
        "=========================================================\r\n",
        "\r\n",
        "                       Report Log\r\n",
        "---------------------------------------------------------\r\n",
        "Total number of reads     : 6554\r\n",
        "Total number of clusters  : 3206\r\n",
        "Read length Min and Max    : 95 and 95\r\n",
        "Time taken                 : 00:00:00\r\n",
        "\r\n",
        "Top 20 Percentage Reads per cluster \r\n",
        "---------------------------------------------------------\r\n",
        "Cluster Size    No. Clusters    Total Reads         %    \r\n",
        "---------------------------------------------------------\r\n",
        "2               3147            6294              96.03%\r\n",
        "4               51              204               3.11%\r\n",
        "6               5               30                0.46%\r",
        "\r\n",
        "8               2               16                0.24%\r\n",
        "10              1               10                0.15%\r\n"
       ]
      }
     ],
     "prompt_number": 12
    },
    {
     "cell_type": "code",
     "collapsed": false,
     "input": [
      "%%timeit \n",
      "# Setup objects \n",
      "db = Reads_db(database_path)\n",
      "rec_curs = db.con.execute(\"\"\" SELECT * from seqs\"\"\")\n",
      "\n",
      "count = 0\n",
      "\n",
      "for rec in rec_curs:\n",
      "    count += 1\n",
      "    \n",
      "print count \n"
     ],
     "language": "python",
     "metadata": {},
     "outputs": [
      {
       "output_type": "stream",
       "stream": "stdout",
       "text": [
        "Database found with matching file name.\n",
        "Connecting to database /Users/chris/data/gazelles-zebras/testdb.db\n",
        "Setting Row_factory to named Rows\n",
        "62032"
       ]
      },
      {
       "output_type": "stream",
       "stream": "stdout",
       "text": [
        "\n",
        "Database found with matching file name.\n",
        "Connecting to database /Users/chris/data/gazelles-zebras/testdb.db\n",
        "Setting Row_factory to named Rows\n",
        "62032"
       ]
      },
      {
       "output_type": "stream",
       "stream": "stdout",
       "text": [
        "\n",
        "Database found with matching file name.\n",
        "Connecting to database /Users/chris/data/gazelles-zebras/testdb.db\n",
        "Setting Row_factory to named Rows\n",
        "62032"
       ]
      },
      {
       "output_type": "stream",
       "stream": "stdout",
       "text": [
        "\n",
        "Database found with matching file name.\n",
        "Connecting to database /Users/chris/data/gazelles-zebras/testdb.db\n",
        "Setting Row_factory to named Rows\n",
        "62032"
       ]
      },
      {
       "output_type": "stream",
       "stream": "stdout",
       "text": [
        "\n",
        "1 loops, best of 3: 1.26 s per loop\n"
       ]
      }
     ],
     "prompt_number": 24
    },
    {
     "cell_type": "code",
     "collapsed": false,
     "input": [
      "clust_dict.aprox_memsize"
     ],
     "language": "python",
     "metadata": {},
     "outputs": [
      {
       "output_type": "pyout",
       "prompt_number": 17,
       "text": [
        "203763084"
       ]
      }
     ],
     "prompt_number": 17
    },
    {
     "cell_type": "code",
     "collapsed": false,
     "input": [
      "%prun -s cumulative clust_dict.flush2db(db)"
     ],
     "language": "python",
     "metadata": {},
     "outputs": [
      {
       "output_type": "stream",
       "stream": "stdout",
       "text": [
        "\n"
       ]
      }
     ],
     "prompt_number": 18
    }
   ],
   "metadata": {}
  }
 ]
}
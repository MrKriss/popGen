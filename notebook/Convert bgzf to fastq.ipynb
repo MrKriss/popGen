{
 "metadata": {
  "name": "Convert bgzf to fastq"
 },
 "nbformat": 3,
 "nbformat_minor": 0,
 "worksheets": [
  {
   "cells": [
    {
     "cell_type": "code",
     "collapsed": false,
     "input": [
      "import utils\n",
      "reload(utils)\n",
      "from utils import bgzf2fastq, makeSQLindex\n"
     ],
     "language": "python",
     "metadata": {},
     "outputs": [],
     "prompt_number": 1
    },
    {
     "cell_type": "code",
     "collapsed": false,
     "input": [
      "%cd data\n",
      "%cd gazelles-zebras/processed-data/\n",
      "infile_path = %pwd "
     ],
     "language": "python",
     "metadata": {},
     "outputs": [
      {
       "output_type": "stream",
       "stream": "stdout",
       "text": [
        "(bookmark:data) -> /space/musselle/data/RAD-seq\n",
        "/space/musselle/data/RAD-seq"
       ]
      },
      {
       "output_type": "stream",
       "stream": "stdout",
       "text": [
        "\n",
        "/space/musselle/data/RAD-seq/gazelles-zebras/processed-data"
       ]
      },
      {
       "output_type": "stream",
       "stream": "stdout",
       "text": [
        "\n"
       ]
      }
     ],
     "prompt_number": 2
    },
    {
     "cell_type": "code",
     "collapsed": false,
     "input": [
      "bgzf2fastq('*.bgzf', data_inpath=infile_path)"
     ],
     "language": "python",
     "metadata": {},
     "outputs": [
      {
       "output_type": "stream",
       "stream": "stdout",
       "text": [
        "Producing FastQ output from lane8_NoIndex_L008_R1_002-pass-clean.fastq.bgzf...\n",
        "lane8_NoIndex_L008_R1_002-pass-clean.fastq written successfully"
       ]
      },
      {
       "output_type": "stream",
       "stream": "stdout",
       "text": [
        "\n",
        "Finished converting lane8_NoIndex_L008_R1_002-pass-clean.fastq.bgzf\n",
        " after 00:13:04\n",
        "\n",
        "Producing FastQ output from lane8_NoIndex_L008_R1_004-pass-clean.fastq.bgzf...\n",
        "lane8_NoIndex_L008_R1_004-pass-clean.fastq written successfully"
       ]
      },
      {
       "output_type": "stream",
       "stream": "stdout",
       "text": [
        "\n",
        "Finished converting lane8_NoIndex_L008_R1_004-pass-clean.fastq.bgzf\n",
        " after 00:13:41\n",
        "\n",
        "Producing FastQ output from lane6_NoIndex_L006_R1_011-pass-clean.fastq.bgzf...\n",
        "lane6_NoIndex_L006_R1_011-pass-clean.fastq written successfully"
       ]
      },
      {
       "output_type": "stream",
       "stream": "stdout",
       "text": [
        "\n",
        "Finished converting lane6_NoIndex_L006_R1_011-pass-clean.fastq.bgzf\n",
        " after 00:10:48\n",
        "\n",
        "Producing FastQ output from lane8_NoIndex_L008_R1_009-pass-clean.fastq.bgzf...\n",
        "lane8_NoIndex_L008_R1_009-pass-clean.fastq written successfully"
       ]
      },
      {
       "output_type": "stream",
       "stream": "stdout",
       "text": [
        "\n",
        "Finished converting lane8_NoIndex_L008_R1_009-pass-clean.fastq.bgzf\n",
        " after 00:13:58\n",
        "\n",
        "Producing FastQ output from lane8_NoIndex_L008_R1_007-pass-clean.fastq.bgzf...\n",
        "lane8_NoIndex_L008_R1_007-pass-clean.fastq written successfully"
       ]
      },
      {
       "output_type": "stream",
       "stream": "stdout",
       "text": [
        "\n",
        "Finished converting lane8_NoIndex_L008_R1_007-pass-clean.fastq.bgzf\n",
        " after 00:13:51\n",
        "\n",
        "Producing FastQ output from lane6_NoIndex_L006_R1_007-pass-clean.fastq.bgzf...\n",
        "lane6_NoIndex_L006_R1_007-pass-clean.fastq written successfully"
       ]
      },
      {
       "output_type": "stream",
       "stream": "stdout",
       "text": [
        "\n",
        "Finished converting lane6_NoIndex_L006_R1_007-pass-clean.fastq.bgzf\n",
        " after 00:15:12\n",
        "\n",
        "Producing FastQ output from lane6_NoIndex_L006_R1_005-pass-clean.fastq.bgzf...\n",
        "lane6_NoIndex_L006_R1_005-pass-clean.fastq written successfully"
       ]
      },
      {
       "output_type": "stream",
       "stream": "stdout",
       "text": [
        "\n",
        "Finished converting lane6_NoIndex_L006_R1_005-pass-clean.fastq.bgzf\n",
        " after 00:16:08\n",
        "\n",
        "Producing FastQ output from lane8_NoIndex_L008_R1_006-pass-clean.fastq.bgzf...\n",
        "lane8_NoIndex_L008_R1_006-pass-clean.fastq written successfully"
       ]
      },
      {
       "output_type": "stream",
       "stream": "stdout",
       "text": [
        "\n",
        "Finished converting lane8_NoIndex_L008_R1_006-pass-clean.fastq.bgzf\n",
        " after 00:20:47\n",
        "\n",
        "Producing FastQ output from lane8_NoIndex_L008_R1_010-pass-clean.fastq.bgzf...\n",
        "lane8_NoIndex_L008_R1_010-pass-clean.fastq written successfully"
       ]
      },
      {
       "output_type": "stream",
       "stream": "stdout",
       "text": [
        "\n",
        "Finished converting lane8_NoIndex_L008_R1_010-pass-clean.fastq.bgzf\n",
        " after 00:14:12\n",
        "\n",
        "Producing FastQ output from lane6_NoIndex_L006_R1_002-pass-clean.fastq.bgzf...\n",
        "lane6_NoIndex_L006_R1_002-pass-clean.fastq written successfully"
       ]
      },
      {
       "output_type": "stream",
       "stream": "stdout",
       "text": [
        "\n",
        "Finished converting lane6_NoIndex_L006_R1_002-pass-clean.fastq.bgzf\n",
        " after 00:40:33\n",
        "\n",
        "Producing FastQ output from lane6_NoIndex_L006_R1_010-pass-clean.fastq.bgzf...\n",
        "lane6_NoIndex_L006_R1_010-pass-clean.fastq written successfully"
       ]
      },
      {
       "output_type": "stream",
       "stream": "stdout",
       "text": [
        "\n",
        "Finished converting lane6_NoIndex_L006_R1_010-pass-clean.fastq.bgzf\n",
        " after 00:31:40\n",
        "\n",
        "Producing FastQ output from lane6_NoIndex_L006_R1_008-pass-clean.fastq.bgzf...\n",
        "lane6_NoIndex_L006_R1_008-pass-clean.fastq written successfully"
       ]
      },
      {
       "output_type": "stream",
       "stream": "stdout",
       "text": [
        "\n",
        "Finished converting lane6_NoIndex_L006_R1_008-pass-clean.fastq.bgzf\n",
        " after 00:16:24\n",
        "\n",
        "Producing FastQ output from lane6_NoIndex_L006_R1_004-pass-clean.fastq.bgzf...\n",
        "lane6_NoIndex_L006_R1_004-pass-clean.fastq written successfully"
       ]
      },
      {
       "output_type": "stream",
       "stream": "stdout",
       "text": [
        "\n",
        "Finished converting lane6_NoIndex_L006_R1_004-pass-clean.fastq.bgzf\n",
        " after 00:16:18\n",
        "\n",
        "Producing FastQ output from lane8_NoIndex_L008_R1_001-pass-clean.fastq.bgzf...\n",
        "lane8_NoIndex_L008_R1_001-pass-clean.fastq written successfully"
       ]
      },
      {
       "output_type": "stream",
       "stream": "stdout",
       "text": [
        "\n",
        "Finished converting lane8_NoIndex_L008_R1_001-pass-clean.fastq.bgzf\n",
        " after 00:15:40\n",
        "\n",
        "Producing FastQ output from lane8_NoIndex_L008_R1_003-pass-clean.fastq.bgzf...\n",
        "lane8_NoIndex_L008_R1_003-pass-clean.fastq written successfully"
       ]
      },
      {
       "output_type": "stream",
       "stream": "stdout",
       "text": [
        "\n",
        "Finished converting lane8_NoIndex_L008_R1_003-pass-clean.fastq.bgzf\n",
        " after 00:16:18\n",
        "\n",
        "Producing FastQ output from lane8_NoIndex_L008_R1_005-pass-clean.fastq.bgzf...\n",
        "lane8_NoIndex_L008_R1_005-pass-clean.fastq written successfully"
       ]
      },
      {
       "output_type": "stream",
       "stream": "stdout",
       "text": [
        "\n",
        "Finished converting lane8_NoIndex_L008_R1_005-pass-clean.fastq.bgzf\n",
        " after 00:17:00\n",
        "\n",
        "Producing FastQ output from lane6_NoIndex_L006_R1_006-pass-clean.fastq.bgzf...\n",
        "lane6_NoIndex_L006_R1_006-pass-clean.fastq written successfully"
       ]
      },
      {
       "output_type": "stream",
       "stream": "stdout",
       "text": [
        "\n",
        "Finished converting lane6_NoIndex_L006_R1_006-pass-clean.fastq.bgzf\n",
        " after 00:21:25\n",
        "\n",
        "Producing FastQ output from lane8_NoIndex_L008_R1_008-pass-clean.fastq.bgzf...\n",
        "lane8_NoIndex_L008_R1_008-pass-clean.fastq written successfully"
       ]
      },
      {
       "output_type": "stream",
       "stream": "stdout",
       "text": [
        "\n",
        "Finished converting lane8_NoIndex_L008_R1_008-pass-clean.fastq.bgzf\n",
        " after 00:22:40\n",
        "\n",
        "Producing FastQ output from lane6_NoIndex_L006_R1_009-pass-clean.fastq.bgzf...\n",
        "lane6_NoIndex_L006_R1_009-pass-clean.fastq written successfully"
       ]
      },
      {
       "output_type": "stream",
       "stream": "stdout",
       "text": [
        "\n",
        "Finished converting lane6_NoIndex_L006_R1_009-pass-clean.fastq.bgzf\n",
        " after 00:29:34\n",
        "\n",
        "Producing FastQ output from lane6_NoIndex_L006_R1_003-pass-clean.fastq.bgzf...\n",
        "lane6_NoIndex_L006_R1_003-pass-clean.fastq written successfully"
       ]
      },
      {
       "output_type": "stream",
       "stream": "stdout",
       "text": [
        "\n",
        "Finished converting lane6_NoIndex_L006_R1_003-pass-clean.fastq.bgzf\n",
        " after 00:32:02\n",
        "\n",
        "Producing FastQ output from lane6_NoIndex_L006_R1_001-pass-clean.fastq.bgzf...\n",
        "lane6_NoIndex_L006_R1_001-pass-clean.fastq written successfully"
       ]
      },
      {
       "output_type": "stream",
       "stream": "stdout",
       "text": [
        "\n",
        "Finished converting lane6_NoIndex_L006_R1_001-pass-clean.fastq.bgzf\n",
        " after 00:32:01\n",
        "\n",
        "Finished all processing 21 files in 07:03:26\n"
       ]
      }
     ],
     "prompt_number": 3
    },
    {
     "cell_type": "code",
     "collapsed": false,
     "input": [
      "makeSQLindex('*.fastq', data_inpath=infile_path, outname='all_reads_fastq.idx')"
     ],
     "language": "python",
     "metadata": {},
     "outputs": [
      {
       "output_type": "stream",
       "stream": "stdout",
       "text": [
        "Writing 21 files to SQL index ...\n",
        "Finished Indexing to all_reads_fastq.idx\n",
        " after 05:48:53\n"
       ]
      },
      {
       "output_type": "stream",
       "stream": "stdout",
       "text": [
        "\n"
       ]
      }
     ],
     "prompt_number": 4
    },
    {
     "cell_type": "code",
     "collapsed": false,
     "input": [],
     "language": "python",
     "metadata": {},
     "outputs": []
    }
   ],
   "metadata": {}
  }
 ]
}
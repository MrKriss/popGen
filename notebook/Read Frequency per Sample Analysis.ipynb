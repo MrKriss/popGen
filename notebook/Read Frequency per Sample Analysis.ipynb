{
 "metadata": {
  "name": ""
 },
 "nbformat": 3,
 "nbformat_minor": 0,
 "worksheets": [
  {
   "cells": [
    {
     "cell_type": "code",
     "collapsed": false,
     "input": [
      "import matplotlib.pyplot as plt\n",
      "from database.reads_db import Reads_db\n",
      "import editdist as ed \n",
      "%load_ext rmagic \n",
      "%cd data\n",
      "%cd gazelles-zebras/\n",
      "db = Reads_db('newreads.db')"
     ],
     "language": "python",
     "metadata": {},
     "outputs": [
      {
       "output_type": "stream",
       "stream": "stdout",
       "text": [
        "(bookmark:data) -> /space/musselle/data/RAD-seq\n",
        "/space/musselle/data/RAD-seq"
       ]
      },
      {
       "output_type": "stream",
       "stream": "stdout",
       "text": [
        "\n",
        "/space/musselle/data/RAD-seq/gazelles-zebras"
       ]
      },
      {
       "output_type": "stream",
       "stream": "stdout",
       "text": [
        "\n",
        "Database found with matching file name.\n",
        "Connecting to database newreads.db\n",
        "Setting Row_factory to named Rows\n"
       ]
      }
     ],
     "prompt_number": 91
    },
    {
     "cell_type": "code",
     "collapsed": false,
     "input": [
      "%R X = c(2,3,4,5,6,7,8)"
     ],
     "language": "python",
     "metadata": {},
     "outputs": [
      {
       "metadata": {},
       "output_type": "pyout",
       "prompt_number": 92,
       "text": [
        "array([ 2.,  3.,  4.,  5.,  6.,  7.,  8.])"
       ]
      }
     ],
     "prompt_number": 92
    },
    {
     "cell_type": "markdown",
     "metadata": {},
     "source": [
      "#### Investigate Total Read Counts in Individuals"
     ]
    },
    {
     "cell_type": "code",
     "collapsed": false,
     "input": [
      "# Get total reads for all individuals\n",
      "curs = db.con.execute('select sum(read_count) from samples')\n",
      "total_reads = curs.fetchone()['sum(read_count)']\n",
      "print 'Total reads in database = {0:,}'.format(total_reads)"
     ],
     "language": "python",
     "metadata": {},
     "outputs": [
      {
       "output_type": "stream",
       "stream": "stdout",
       "text": [
        "Total reads in database = 190,008,530\n"
       ]
      }
     ],
     "prompt_number": 6
    },
    {
     "cell_type": "code",
     "collapsed": false,
     "input": [
      "# Plot Ranked Frequency of individuals\n",
      "%matplotlib inline\n",
      "curs = db.con.execute('select description, read_count from samples order by read_count desc')\n",
      "names = []\n",
      "counts = []\n",
      "\n",
      "for row in curs:\n",
      "    names.append(row['description'])\n",
      "    counts.append(row['read_count'])\n",
      "    # print '{0}\\t{1:.2%}'.format(row['description'], (row['read_count'] / float(total_reads)))\n",
      "bar(range(len(counts)), counts);\n",
      "ylabel('Frequency') ;\n",
      "xlabel('Ranked Samples');"
     ],
     "language": "python",
     "metadata": {},
     "outputs": [
      {
       "metadata": {},
       "output_type": "display_data",
       "png": "[encoded data removed]",
       "text": [
        "<matplotlib.figure.Figure at 0x443f1d0>"
       ]
      }
     ],
     "prompt_number": 14
    },
    {
     "cell_type": "code",
     "collapsed": false,
     "input": [
      "# Model this distribution\n",
      "%matplotlib \n",
      "import matplotlib.pyplot as plt\n",
      "import scipy\n",
      "import scipy.stats\n",
      "\n",
      "size = 30000\n",
      "x = scipy.arange(size)\n",
      "y = scipy.int_(scipy.round_(scipy.stats.vonmises.rvs(5,size=size)*47))\n",
      "h = plt.hist(y, bins=range(48), color='w')\n",
      "\n",
      "dist_names = ['gamma', 'beta', 'rayleigh', 'norm', 'pareto']\n",
      "\n",
      "for dist_name in dist_names:\n",
      "    dist = getattr(scipy.stats, dist_name)\n",
      "    param = dist.fit(y)\n",
      "    pdf_fitted = dist.pdf(x, *param[:-2], loc=param[-2], scale=param[-1]) * size\n",
      "    plt.plot(pdf_fitted, label=dist_name)\n",
      "    plt.xlim(0,47)\n",
      "plt.legend(loc='upper right')\n",
      "plt.show()"
     ],
     "language": "python",
     "metadata": {},
     "outputs": [
      {
       "output_type": "stream",
       "stream": "stdout",
       "text": [
        "Using matplotlib backend: WXAgg\n"
       ]
      }
     ],
     "prompt_number": 70
    },
    {
     "cell_type": "code",
     "collapsed": false,
     "input": [
      "# Model this distribution\n",
      "%matplotlib \n",
      "import matplotlib.pyplot as plt\n",
      "import scipy\n",
      "import scipy.stats\n",
      "\n",
      "size = len(counts)\n",
      "\n",
      "x1 = scipy.arange(size)\n",
      "# Normalised y\n",
      "y = array(counts)\n",
      "y1 = array(counts) / float(total_reads)\n",
      "\n",
      "h1 = plt.step(x1, y)\n",
      "\n",
      "p = scipy.stats.expon.fit(y)\n",
      "\n",
      "pdf_fitted = scipy.stats.expon.pdf(y, loc=p[-2], scale=p[-1]) * size\n",
      "figure();plot(pdf_fitted)\n"
     ],
     "language": "python",
     "metadata": {},
     "outputs": [
      {
       "output_type": "stream",
       "stream": "stdout",
       "text": [
        "Using matplotlib backend: WXAgg\n"
       ]
      },
      {
       "metadata": {},
       "output_type": "pyout",
       "prompt_number": 101,
       "text": [
        "[<matplotlib.lines.Line2D at 0x5417d10>]"
       ]
      }
     ],
     "prompt_number": 101
    },
    {
     "cell_type": "code",
     "collapsed": false,
     "input": [
      "figure();plot(pdf_fitted)"
     ],
     "language": "python",
     "metadata": {},
     "outputs": [
      {
       "metadata": {},
       "output_type": "pyout",
       "prompt_number": 99,
       "text": [
        "[<matplotlib.lines.Line2D at 0x7eff3932d290>]"
       ]
      }
     ],
     "prompt_number": 99
    },
    {
     "cell_type": "code",
     "collapsed": false,
     "input": [
      "p"
     ],
     "language": "python",
     "metadata": {},
     "outputs": [
      {
       "metadata": {},
       "output_type": "pyout",
       "prompt_number": 96,
       "text": [
        "(11163.999999972802, 1797955.6300519113)"
       ]
      }
     ],
     "prompt_number": 96
    },
    {
     "cell_type": "code",
     "collapsed": false,
     "input": [
      "%%R -i y1 -i x1\n",
      "\n",
      "d <- data.frame(y, x1)\n",
      "\n",
      "# Non-linear model\n",
      "fit <- nls(y ~ a*x1^b,\n",
      "                 data = d,\n",
      "                 start = list(a = .1, b = .1),\n",
      "                 trace = TRUE)\n",
      "\n",
      "\n",
      "summary(fit)"
     ],
     "language": "python",
     "metadata": {},
     "outputs": [
      {
       "output_type": "stream",
       "stream": "stdout",
       "text": [
        "8.381017e+14 :  0.1 0.1\n",
        "Error in numericDeriv(form[[3L]], names(ind), env) : \n",
        "  Missing value or an infinity produced when evaluating the model\n"
       ]
      }
     ],
     "prompt_number": 105
    },
    {
     "cell_type": "code",
     "collapsed": false,
     "input": [
      "# Plot\n",
      "res <- data.frame(tmin, pred = predict(fit))\n",
      "plot(tmin, pos, ylim = c(0,.7))\n",
      "points(res[order(tmin),], type='l', col=2) "
     ],
     "language": "python",
     "metadata": {},
     "outputs": []
    },
    {
     "cell_type": "code",
     "collapsed": false,
     "input": [
      "pK"
     ],
     "language": "python",
     "metadata": {},
     "outputs": [
      {
       "metadata": {},
       "output_type": "pyout",
       "prompt_number": 63,
       "text": [
        "(11163.999999972802, 1797955.6300519113)"
       ]
      }
     ],
     "prompt_number": 63
    },
    {
     "cell_type": "code",
     "collapsed": false,
     "input": [
      "\n",
      "for dist_name in dist_names:\n",
      "    dist = getattr(scipy.stats, dist_name)\n",
      "    param = dist.fit(y1)\n",
      "    all_params.append(param)\n",
      "    pdf_fitted = dist.pdf(x1, *param[:-2], loc=param[-2], scale=param[-1]) #* size\n",
      "    all_pdffits.append(pdf_fitted)\n",
      "    plt.plot(pdf_fitted, label=dist_name)\n",
      "    plt.xlim(0,47)\n",
      "plt.legend(loc='upper right')\n",
      "plt.show()"
     ],
     "language": "python",
     "metadata": {},
     "outputs": [
      {
       "metadata": {},
       "output_type": "pyout",
       "prompt_number": 56,
       "text": [
        "array([ 0.,  0.,  0.,  0.,  0.,  0.,  0.,  0.,  0.,  0.,  0.,  0.,  0.,\n",
        "        0.,  0.,  0.,  0.,  0.,  0.,  0.,  0.,  0.,  0.,  0.,  0.,  0.,\n",
        "        0.,  0.,  0.,  0.,  0.,  0.,  0.,  0.,  0.,  0.,  0.,  0.,  0.,\n",
        "        0.,  0.,  0.,  0.,  0.,  0.,  0.,  0.,  0.,  0.,  0.,  0.,  0.,\n",
        "        0.,  0.,  0.,  0.,  0.,  0.,  0.,  0.,  0.,  0.,  0.,  0.,  0.,\n",
        "        0.,  0.,  0.,  0.,  0.,  0.,  0.,  0.,  0.,  0.,  0.,  0.,  0.,\n",
        "        0.,  0.,  0.,  0.,  0.,  0.,  0.,  0.,  0.,  0.,  0.,  0.,  0.,\n",
        "        0.,  0.,  0.,  0.,  0.,  0.,  0.,  0.,  0.,  0.,  0.,  0.,  0.,  0.])"
       ]
      }
     ],
     "prompt_number": 56
    },
    {
     "cell_type": "code",
     "collapsed": false,
     "input": [
      "\n",
      "# Get dimentions\n",
      "y_lab = arange(len(ranked_seq_tups))\n",
      "x_lab = arange(len(ranked_seq_tups[0][0]))\n",
      "\n",
      "X, Y = np.meshgrid(x_lab, y_lab)\n",
      "\n",
      "data = np.zeros([len(y_lab), len(x_lab)], dtype = int)\n",
      "\n",
      "for i, (seq, count) in enumerate(ranked_seq_tups):\n",
      "            for j, base in enumerate(seq):\n",
      "                if base == 'A':\n",
      "                    data[i,j] = 1\n",
      "                if base == 'T':\n",
      "                    data[i,j] = 2\n",
      "                if base == 'G':\n",
      "                    data[i,j] = 3\n",
      "                if base == 'C':\n",
      "                    data[i,j] = 4\n",
      "                    "
     ],
     "language": "python",
     "metadata": {},
     "outputs": [
      {
       "ename": "NameError",
       "evalue": "name 'ranked_seq_tups' is not defined",
       "output_type": "pyerr",
       "traceback": [
        "\u001b[1;31m---------------------------------------------------------------------------\u001b[0m\n\u001b[1;31mNameError\u001b[0m                                 Traceback (most recent call last)",
        "\u001b[1;32m<ipython-input-25-18e1612e4527>\u001b[0m in \u001b[0;36m<module>\u001b[1;34m()\u001b[0m\n\u001b[0;32m      1\u001b[0m \u001b[1;33m\u001b[0m\u001b[0m\n\u001b[0;32m      2\u001b[0m \u001b[1;31m# Get dimentions\u001b[0m\u001b[1;33m\u001b[0m\u001b[1;33m\u001b[0m\u001b[0m\n\u001b[1;32m----> 3\u001b[1;33m \u001b[0my_lab\u001b[0m \u001b[1;33m=\u001b[0m \u001b[0marange\u001b[0m\u001b[1;33m(\u001b[0m\u001b[0mlen\u001b[0m\u001b[1;33m(\u001b[0m\u001b[0mranked_seq_tups\u001b[0m\u001b[1;33m)\u001b[0m\u001b[1;33m)\u001b[0m\u001b[1;33m\u001b[0m\u001b[0m\n\u001b[0m\u001b[0;32m      4\u001b[0m \u001b[0mx_lab\u001b[0m \u001b[1;33m=\u001b[0m \u001b[0marange\u001b[0m\u001b[1;33m(\u001b[0m\u001b[0mlen\u001b[0m\u001b[1;33m(\u001b[0m\u001b[0mranked_seq_tups\u001b[0m\u001b[1;33m[\u001b[0m\u001b[1;36m0\u001b[0m\u001b[1;33m]\u001b[0m\u001b[1;33m[\u001b[0m\u001b[1;36m0\u001b[0m\u001b[1;33m]\u001b[0m\u001b[1;33m)\u001b[0m\u001b[1;33m)\u001b[0m\u001b[1;33m\u001b[0m\u001b[0m\n\u001b[0;32m      5\u001b[0m \u001b[1;33m\u001b[0m\u001b[0m\n",
        "\u001b[1;31mNameError\u001b[0m: name 'ranked_seq_tups' is not defined"
       ]
      }
     ],
     "prompt_number": 25
    },
    {
     "cell_type": "code",
     "collapsed": false,
     "input": [
      "data.shape"
     ],
     "language": "python",
     "metadata": {},
     "outputs": [
      {
       "metadata": {},
       "output_type": "pyout",
       "prompt_number": 44,
       "text": [
        "(106, 89)"
       ]
      }
     ],
     "prompt_number": 44
    },
    {
     "cell_type": "code",
     "collapsed": false,
     "input": [
      "Y.shape"
     ],
     "language": "python",
     "metadata": {},
     "outputs": [
      {
       "metadata": {},
       "output_type": "pyout",
       "prompt_number": 46,
       "text": [
        "(106, 89)"
       ]
      }
     ],
     "prompt_number": 46
    },
    {
     "cell_type": "code",
     "collapsed": false,
     "input": [
      "pcolor(X, Y, data)"
     ],
     "language": "python",
     "metadata": {},
     "outputs": [
      {
       "metadata": {},
       "output_type": "pyout",
       "prompt_number": 47,
       "text": [
        "<matplotlib.collections.PolyCollection at 0x7fb499f28510>"
       ]
      }
     ],
     "prompt_number": 47
    },
    {
     "cell_type": "code",
     "collapsed": false,
     "input": [
      "pcolor(data)"
     ],
     "language": "python",
     "metadata": {},
     "outputs": [
      {
       "metadata": {},
       "output_type": "pyout",
       "prompt_number": 52,
       "text": [
        "<matplotlib.collections.PolyCollection at 0x7fb48622b950>"
       ]
      }
     ],
     "prompt_number": 52
    },
    {
     "cell_type": "code",
     "collapsed": false,
     "input": [
      "imshow(data[:,:], interpolation='nearest')\n",
      "colorbar()"
     ],
     "language": "python",
     "metadata": {},
     "outputs": [
      {
       "metadata": {},
       "output_type": "pyout",
       "prompt_number": 33,
       "text": [
        "<matplotlib.colorbar.Colorbar instance at 0x7fb49943d7e8>"
       ]
      }
     ],
     "prompt_number": 33
    },
    {
     "cell_type": "code",
     "collapsed": false,
     "input": [
      "s = seqs[0][0]"
     ],
     "language": "python",
     "metadata": {},
     "outputs": [],
     "prompt_number": 14
    },
    {
     "cell_type": "code",
     "collapsed": false,
     "input": [
      "s."
     ],
     "language": "python",
     "metadata": {},
     "outputs": [],
     "prompt_number": 15
    },
    {
     "cell_type": "code",
     "collapsed": false,
     "input": [
      "# hinton map \n",
      "\n",
      "\"\"\"\n",
      "Demo of a function to create Hinton diagrams.\n",
      "\n",
      "Hinton diagrams are useful for visualizing the values of a 2D array (e.g.\n",
      "a weight matrix): Positive and negative values are represented by white and\n",
      "black squares, respectively, and the size of each square represents the\n",
      "magnitude of each value.\n",
      "\n",
      "Initial idea from David Warde-Farley on the SciPy Cookbook\n",
      "\"\"\"\n",
      "import numpy as np\n",
      "import matplotlib.pyplot as plt\n",
      "\n",
      "\n",
      "def hinton(matrix, max_weight=None, ax=None):\n",
      "    \"\"\"Draw Hinton diagram for visualizing a weight matrix.\"\"\"\n",
      "    ax = ax if ax is not None else plt.gca()\n",
      "\n",
      "    if not max_weight:\n",
      "        max_weight = 2**np.ceil(np.log(np.abs(matrix).max())/np.log(2))\n",
      "\n",
      "    ax.patch.set_facecolor('gray')\n",
      "    ax.set_aspect('equal', 'box')\n",
      "    ax.xaxis.set_major_locator(plt.NullLocator())\n",
      "    ax.yaxis.set_major_locator(plt.NullLocator())\n",
      "\n",
      "    for (x,y),w in np.ndenumerate(matrix):\n",
      "        color = 'white' if w > 0 else 'black'\n",
      "        size = np.sqrt(np.abs(w))\n",
      "        rect = plt.Rectangle([x - size / 2, y - size / 2], size, size,\n",
      "                             facecolor=color, edgecolor=color)\n",
      "        ax.add_patch(rect)\n",
      "\n",
      "    ax.autoscale_view()\n",
      "    ax.invert_yaxis()\n",
      "\n",
      "\n",
      "if __name__ == '__main__':\n",
      "    hinton(np.random.rand(20, 20) - 0.5)\n",
      "    plt.show()"
     ],
     "language": "python",
     "metadata": {},
     "outputs": []
    }
   ],
   "metadata": {}
  }
 ]
}
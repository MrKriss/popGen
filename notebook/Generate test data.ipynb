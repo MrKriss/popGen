{
 "metadata": {
  "name": "Generate test data"
 },
 "nbformat": 3,
 "nbformat_minor": 0,
 "worksheets": [
  {
   "cells": [
    {
     "cell_type": "code",
     "collapsed": false,
     "input": [
      "import glob\n",
      "from Bio import SeqIO\n",
      "\n",
      "import time\n",
      "\n",
      "from utils.fileIO import smartopen, SeqRecCycler"
     ],
     "language": "python",
     "metadata": {},
     "outputs": [],
     "prompt_number": 1
    },
    {
     "cell_type": "code",
     "collapsed": false,
     "input": [
      "# Generate test set\n",
      "start_dir = os.getcwd()\n",
      "\n",
      "data_filepath = '/space/musselle/data/RAD-seq/gazelles-zebras/raw-data/lane8*[0-9].fastq.bgzf'\n",
      "maxnumseq = 10000\n",
      "\n",
      "# Just from lane 8\n",
      "RecCycler = SeqRecCycler(data_files=data_filepath,  maxnumseq=maxnumseq)\n",
      "\n",
      "output_filename = 'testset_100000_L8.fastq'\n",
      "\n",
      "print '\\nGenerating a dataset of the first {0} reads from each file.'.format(maxnumseq)\n",
      "# If file already exists, overwrite it.\n",
      "os.chdir('/space/musselle/data/RAD-seq/gazelles-zebras/testset')\n",
      "if os.path.isfile(output_filename):\n",
      "    f = open(output_filename, 'w')\n",
      "    f.close()\n",
      "\n",
      "output_filehdl = smartopen(output_filename, 'a')\n",
      "total_numwritten = 0\n",
      "toc = time.time()\n",
      "\n",
      "numwritten = SeqIO.write(RecCycler.recgen, output_filehdl , 'fastq')\n",
      "print '{0} records written'.format(numwritten)\n",
      "total_numwritten += numwritten\n",
      "\n",
      "output_filehdl.close()\n",
      "print 'Total of {0} Sequence reads written to file {1}'.format(total_numwritten, output_filename) \n",
      "\n",
      "total_t = time.time() - toc    \n",
      "print 'Processed all files in {0}'.format(time.strftime('%H:%M:%S', \n",
      "                                                        time.gmtime(total_t)))\n",
      "os.chdir(start_dir)"
     ],
     "language": "python",
     "metadata": {},
     "outputs": [
      {
       "ename": "TypeError",
       "evalue": "__init__() got an unexpected keyword argument 'data_inpath'",
       "output_type": "pyerr",
       "traceback": [
        "\u001b[1;31m---------------------------------------------------------------------------\u001b[0m\n\u001b[1;31mTypeError\u001b[0m                                 Traceback (most recent call last)",
        "\u001b[1;32m<ipython-input-2-f3b8ab2cc7ea>\u001b[0m in \u001b[0;36m<module>\u001b[1;34m()\u001b[0m\n\u001b[0;32m      6\u001b[0m \u001b[1;33m\u001b[0m\u001b[0m\n\u001b[0;32m      7\u001b[0m \u001b[1;31m# Just from lane 8\u001b[0m\u001b[1;33m\u001b[0m\u001b[1;33m\u001b[0m\u001b[0m\n\u001b[1;32m----> 8\u001b[1;33m \u001b[0mRecCycler\u001b[0m \u001b[1;33m=\u001b[0m \u001b[0mSeqRecCycler\u001b[0m\u001b[1;33m(\u001b[0m\u001b[0mdata_files\u001b[0m\u001b[1;33m=\u001b[0m\u001b[1;34m'lane8*[0-9].fastq.bgzf'\u001b[0m\u001b[1;33m,\u001b[0m \u001b[0mdata_inpath\u001b[0m \u001b[1;33m=\u001b[0m \u001b[0mpath\u001b[0m\u001b[1;33m,\u001b[0m \u001b[0mmaxnumseq\u001b[0m\u001b[1;33m=\u001b[0m\u001b[0mmaxnumseq\u001b[0m\u001b[1;33m)\u001b[0m\u001b[1;33m\u001b[0m\u001b[0m\n\u001b[0m\u001b[0;32m      9\u001b[0m \u001b[1;33m\u001b[0m\u001b[0m\n\u001b[0;32m     10\u001b[0m \u001b[0moutput_filename\u001b[0m \u001b[1;33m=\u001b[0m \u001b[1;34m'testset_100000_L8.fastq'\u001b[0m\u001b[1;33m\u001b[0m\u001b[0m\n",
        "\u001b[1;31mTypeError\u001b[0m: __init__() got an unexpected keyword argument 'data_inpath'"
       ]
      }
     ],
     "prompt_number": 2
    },
    {
     "cell_type": "code",
     "collapsed": false,
     "input": [],
     "language": "python",
     "metadata": {},
     "outputs": []
    }
   ],
   "metadata": {}
  }
 ]
}
{
 "metadata": {
  "name": "Generate test data"
 },
 "nbformat": 3,
 "nbformat_minor": 0,
 "worksheets": [
  {
   "cells": [
    {
     "cell_type": "code",
     "collapsed": false,
     "input": [
      "import glob\n",
      "from Bio import SeqIO\n",
      "import os\n",
      "import time\n",
      "\n",
      "from utils.fileIO import smartopen, SeqRecCycler"
     ],
     "language": "python",
     "metadata": {},
     "outputs": [],
     "prompt_number": 5
    },
    {
     "cell_type": "code",
     "collapsed": false,
     "input": [
      "# Generate test set\n",
      "start_dir = os.getcwd()\n",
      "\n",
      "p = '/Users/chris/data/'\n",
      "\n",
      "data_filepath = os.path.join(p, 'gazelles-zebras/raw-data/lane8*[001].fastq.bgzf')\n",
      "maxnumseq = 100000\n",
      "print data_filepath\n",
      "\n",
      "# p = /Users/chris/data/gazelles-zebras/raw-data/lane8_NoIndex_L008_R1_001.fastq.bgzf\n",
      "\n",
      "# Just from lane 8\n",
      "RecCycler = SeqRecCycler(data_files=data_filepath,  maxnumseq=maxnumseq)\n",
      "\n",
      "output_filename = 'testset_100000_L8.fastq'\n",
      "\n",
      "print '\\nGenerating a dataset of the first {0} reads from each file.'.format(maxnumseq)\n",
      "# If file already exists, overwrite it.\n",
      "os.chdir(os.path.join(prefix, 'gazelles-zebras/testset'))\n",
      "if os.path.isfile(output_filename):\n",
      "    f = open(output_filename, 'w')\n",
      "    f.close()\n",
      "\n",
      "output_filehdl = smartopen(output_filename, 'a')\n",
      "total_numwritten = 0\n",
      "toc = time.time()\n",
      "\n",
      "numwritten = SeqIO.write(RecCycler.recgen, output_filehdl , 'fastq')\n",
      "print '{0} records written'.format(numwritten)\n",
      "total_numwritten += numwritten\n",
      "\n",
      "output_filehdl.close()\n",
      "print 'Total of {0} Sequence reads written to file {1}'.format(total_numwritten, output_filename) \n",
      "\n",
      "total_t = time.time() - toc    \n",
      "print 'Processed all files in {0}'.format(time.strftime('%H:%M:%S', \n",
      "                                                        time.gmtime(total_t)))\n",
      "os.chdir(start_dir)"
     ],
     "language": "python",
     "metadata": {},
     "outputs": [
      {
       "output_type": "stream",
       "stream": "stdout",
       "text": [
        "/Users/chris/data/gazelles-zebras/raw-data/lane8*[001].fastq.bgzf\n",
        "\n",
        "Generator initiated to process the following files...\n",
        "/Users/chris/data/gazelles-zebras/raw-data/lane8_NoIndex_L008_R1_001.fastq.bgzf\n",
        "\n",
        "Generating a dataset of the first 100000 reads from each file.\n",
        "100000 records written"
       ]
      },
      {
       "output_type": "stream",
       "stream": "stdout",
       "text": [
        "\n",
        "Total of 100000 Sequence reads written to file testset_100000_L8.fastq\n",
        "Processed all files in 00:00:18\n"
       ]
      }
     ],
     "prompt_number": 10
    },
    {
     "cell_type": "code",
     "collapsed": false,
     "input": [],
     "language": "python",
     "metadata": {},
     "outputs": [],
     "prompt_number": 9
    },
    {
     "cell_type": "code",
     "collapsed": false,
     "input": [],
     "language": "python",
     "metadata": {},
     "outputs": []
    }
   ],
   "metadata": {}
  }
 ]
}
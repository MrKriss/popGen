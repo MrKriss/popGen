{
 "metadata": {
  "name": "Test Cluster Dictionary"
 },
 "nbformat": 3,
 "nbformat_minor": 0,
 "worksheets": [
  {
   "cells": [
    {
     "cell_type": "code",
     "collapsed": false,
     "input": [
      "import glob\n",
      "from Bio import SeqIO\n",
      "import database.reads_db\n",
      "reload(database.reads_db)\n",
      "from database.reads_db import Reads_db\n",
      "import sqlite3\n",
      "import time\n",
      "\n",
      "from cluster.cluster import ClusterDictionary"
     ],
     "language": "python",
     "metadata": {},
     "outputs": [],
     "prompt_number": 10
    },
    {
     "cell_type": "code",
     "collapsed": false,
     "input": [
      "# Define inputs\n",
      "test_dir = '/space/musselle/data/RAD-seq/gazelles-zebras/testset/'\n",
      "test_files = 'testset_10000_L8.fastq'\n",
      "\n",
      "files_dir = '/space/musselle/data/RAD-seq/gazelles-zebras/processed-data/'\n",
      "L6_files = 'lane6*.fastq'\n",
      "L8_files = 'lane8*.fastq'\n",
      "\n",
      "barcodes_dir = '/space/musselle/data/RAD-seq/gazelles-zebras/barcodes/'\n",
      "barcode_files_L6 = '*6.txt'\n",
      "barcode_files_L8 = '*8.txt'\n",
      "\n",
      "files_path = os.path.join(test_dir, test_files)\n",
      "#files_path = os.path.join(files_dir, L6_files)\n",
      "#files_path = os.path.join(files_dir, L8_files)\n",
      "\n",
      "# barcodes_path = os.pth.join(barcodes_dir, barcode_files_L6)\n",
      "barcodes_path = os.path.join(barcodes_dir, barcode_files_L8)\n",
      "\n",
      "database_path = '/space/musselle/data/RAD-seq/gazelles-zebras/testdb.db'\n"
     ],
     "language": "python",
     "metadata": {},
     "outputs": [],
     "prompt_number": 11
    },
    {
     "cell_type": "markdown",
     "metadata": {},
     "source": [
      "### Make Test Database"
     ]
    },
    {
     "cell_type": "code",
     "collapsed": false,
     "input": [
      "cd ~/workspace/popGen/clf/"
     ],
     "language": "python",
     "metadata": {},
     "outputs": [
      {
       "output_type": "stream",
       "stream": "stdout",
       "text": [
        "/home/pgrad/musselle/ubuntu/workspace/popGen/clf\n"
       ]
      }
     ],
     "prompt_number": 12
    },
    {
     "cell_type": "code",
     "collapsed": false,
     "input": [
      "!~/bin/filter_and_clean_reads.py -i {files_path} -b {barcodes_path} -p {database_path} -f 20 -n 0.1 -c TGCAGG -r 2 -g 2 -v | ~/bin/load_reads.py -b {barcodes_path}"
     ],
     "language": "python",
     "metadata": {},
     "outputs": [
      {
       "output_type": "stream",
       "stream": "stdout",
       "text": [
        "\r\n",
        "Processing /space/musselle/data/RAD-seq/gazelles-zebras/testset/testset_10000_L8.fastq\r\n",
        "Writing to stdout ....\r\n"
       ]
      },
      {
       "output_type": "stream",
       "stream": "stdout",
       "text": [
        "usage: load_reads.py [-h] [-i INPUT [INPUT ...]] -b BARCODES [BARCODES ...] -d\r\n",
        "                     DATABASE_FILEPATH [-t TABLE_NAME] [-f]\r\n",
        "load_reads.py: error: argument -d is required\r\n",
        "Traceback (most recent call last):\r\n",
        "  File \"/home/pgrad/musselle/ubuntu/bin/filter_and_clean_reads.py\", line 554, in <module>\r\n",
        "    numwritten = SeqIO.write(passes , pass_filehdl , 'fastq')\r\n",
        "  File \"/space/musselle/EPD7-3/lib/python2.7/site-packages/Bio/SeqIO/__init__.py\", line 423, in write\r\n",
        "    count = writer_class(fp).write_file(sequences)\r\n",
        "  File \"/space/musselle/EPD7-3/lib/python2.7/site-packages/Bio/SeqIO/Interfaces.py\", line 271, in write_file\r\n",
        "    count = self.write_records(records)\r\n",
        "  File \"/space/musselle/EPD7-3/lib/python2.7/site-packages/Bio/SeqIO/Interfaces.py\", line 256, in write_records\r\n",
        "    self.write_record(record)\r\n",
        "  File \"/space/musselle/EPD7-3/lib/python2.7/site-packages/Bio/SeqIO/QualityIO.py\", line 1441, in write_record\r\n",
        "    self.handle.write(\"@%s\\n%s\\n+\\n%s\\n\" % (title, seq_str, qualities_str))\r\n",
        "IOError: [Errno 32] Broken pipe\r\n"
       ]
      }
     ],
     "prompt_number": 15
    },
    {
     "cell_type": "markdown",
     "metadata": {},
     "source": [
      "### Test Cluster dictionary"
     ]
    },
    {
     "cell_type": "code",
     "collapsed": false,
     "input": [
      "db = Reads_db(database_path)\n",
      "\n",
      "clust_dict = ClusterDictionary()\n",
      "\n",
      "clust_dict.add_cluster()\n"
     ],
     "language": "python",
     "metadata": {},
     "outputs": [
      {
       "ename": "AttributeError",
       "evalue": "'ClusterDictionary' object has no attribute 'ad'",
       "output_type": "pyerr",
       "traceback": [
        "\u001b[1;31m---------------------------------------------------------------------------\u001b[0m\n\u001b[1;31mAttributeError\u001b[0m                            Traceback (most recent call last)",
        "\u001b[1;32m<ipython-input-9-2fb4f9deaa1e>\u001b[0m in \u001b[0;36m<module>\u001b[1;34m()\u001b[0m\n\u001b[0;32m      3\u001b[0m \u001b[0mclust_dict\u001b[0m \u001b[1;33m=\u001b[0m \u001b[0mClusterDictionary\u001b[0m\u001b[1;33m(\u001b[0m\u001b[1;33m)\u001b[0m\u001b[1;33m\u001b[0m\u001b[0m\n\u001b[0;32m      4\u001b[0m \u001b[1;33m\u001b[0m\u001b[0m\n\u001b[1;32m----> 5\u001b[1;33m \u001b[0mclust_dict\u001b[0m\u001b[1;33m.\u001b[0m\u001b[0mad\u001b[0m\u001b[1;33m\u001b[0m\u001b[0m\n\u001b[0m",
        "\u001b[1;31mAttributeError\u001b[0m: 'ClusterDictionary' object has no attribute 'ad'"
       ]
      },
      {
       "output_type": "stream",
       "stream": "stdout",
       "text": [
        "Creating new Database file: /space/musselle/data/RAD-seq/gazelles-zebras/testdb.db\n",
        "Setting Row_factory to named Rows\n"
       ]
      }
     ],
     "prompt_number": 9
    },
    {
     "cell_type": "code",
     "collapsed": false,
     "input": [],
     "language": "python",
     "metadata": {},
     "outputs": []
    }
   ],
   "metadata": {}
  }
 ]
}
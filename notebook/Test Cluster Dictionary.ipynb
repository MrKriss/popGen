{
 "metadata": {
  "name": "Test Cluster Dictionary"
 },
 "nbformat": 3,
 "nbformat_minor": 0,
 "worksheets": [
  {
   "cells": [
    {
     "cell_type": "code",
     "collapsed": false,
     "input": [
      "import glob\n",
      "from Bio import SeqIO\n",
      "import database.reads_db\n",
      "reload(database.reads_db)\n",
      "from database.reads_db import Reads_db\n",
      "import sqlite3\n",
      "import time\n",
      "\n",
      "import cluster.cluster\n",
      "reload(cluster.cluster)\n",
      "from cluster.cluster import ClusterDictionary"
     ],
     "language": "python",
     "metadata": {},
     "outputs": [],
     "prompt_number": 188
    },
    {
     "cell_type": "code",
     "collapsed": false,
     "input": [
      "# Define inputs\n",
      "test_dir = '/space/musselle/data/RAD-seq/gazelles-zebras/testset/'\n",
      "test_files = 'testset_*_L8.fastq'\n",
      "\n",
      "files_dir = '/space/musselle/data/RAD-seq/gazelles-zebras/processed-data/'\n",
      "L6_files = 'lane6*.fastq'\n",
      "L8_files = 'lane8*.fastq'\n",
      "\n",
      "barcodes_dir = '/space/musselle/data/RAD-seq/gazelles-zebras/barcodes/'\n",
      "barcode_files_L6 = '*6.txt'\n",
      "barcode_files_L8 = '*8.txt'\n",
      "\n",
      "files_path = os.path.join(test_dir, test_files)\n",
      "#files_path = os.path.join(files_dir, L6_files)\n",
      "#files_path = os.path.join(files_dir, L8_files)\n",
      "\n",
      "# barcodes_path = os.pth.join(barcodes_dir, barcode_files_L6)\n",
      "barcodes_path = os.path.join(barcodes_dir, barcode_files_L8)\n",
      "\n",
      "output_path = '/space/musselle/data/RAD-seq/gazelles-zebras/'\n",
      "database_path = '/space/musselle/data/RAD-seq/gazelles-zebras/testdb.db'\n"
     ],
     "language": "python",
     "metadata": {},
     "outputs": [],
     "prompt_number": 189
    },
    {
     "cell_type": "markdown",
     "metadata": {},
     "source": [
      "### Make Test Database"
     ]
    },
    {
     "cell_type": "code",
     "collapsed": false,
     "input": [
      "cd ~/workspace/popGen/clf/"
     ],
     "language": "python",
     "metadata": {},
     "outputs": [
      {
       "output_type": "stream",
       "stream": "stdout",
       "text": [
        "/home/pgrad/musselle/ubuntu/workspace/popGen/clf\n"
       ]
      }
     ],
     "prompt_number": 190
    },
    {
     "cell_type": "code",
     "collapsed": false,
     "input": [
      "!~/bin/filter_and_clean_reads.py -i {files_path} -b {barcodes_path} -p {output_path} -f 20 -n 0.1 -c TGCAGG -r 2 -g 2 -v | ~/bin/load_reads.py -b {barcodes_path} -d {database_path}"
     ],
     "language": "python",
     "metadata": {},
     "outputs": [
      {
       "output_type": "stream",
       "stream": "stdout",
       "text": [
        "\r\n",
        "Processing /space/musselle/data/RAD-seq/gazelles-zebras/testset/testset_10000_L8.fastq\r\n",
        "Writing to stdout ....\r\n"
       ]
      },
      {
       "output_type": "stream",
       "stream": "stdout",
       "text": [
        "Database found with matching file name.\r\n",
        "Connecting to database /space/musselle/data/RAD-seq/gazelles-zebras/testdb.db\r\n"
       ]
      },
      {
       "output_type": "stream",
       "stream": "stdout",
       "text": [
        "Setting Row_factory to named Rows\r\n"
       ]
      },
      {
       "output_type": "stream",
       "stream": "stdout",
       "text": [
        "5996 records Preprocessed\r\n",
        "Finished file 0 after 00:00:02\r\n",
        "\r\n",
        "Filter stats\r\n",
        "\r\n",
        "Filter No.\tHits\r\n",
        "0\t\t903\r\n",
        "1\t\t16\r\n",
        "2\t\t154\r\n",
        "3\t\t1189\r\n",
        "4\t\t96\r\n",
        "\r\n",
        "Total No. Reads Processed:  10000\r\n",
        "\r\n",
        "Total No. filtered out:  2358 (23.58 %)\r\n",
        "\r\n",
        "Total reads skipped in cleaning: \t1646 (16.46%)\r\n",
        "\r\n",
        "Total reads corrected: \t\t\t1171 (11.71%)\r\n",
        "\r\n",
        "Total No. reads passed: \t\t5996 (59.96%)\r\n",
        "Filter summary file already present. Saving as  /space/musselle/data/RAD-seq/gazelles-zebras/filtering_summary18.log\r\n",
        "Processed all files in 00:00:02\r\n"
       ]
      }
     ],
     "prompt_number": 191
    },
    {
     "cell_type": "markdown",
     "metadata": {},
     "source": [
      "### Test Cluster dictionary"
     ]
    },
    {
     "cell_type": "code",
     "collapsed": false,
     "input": [
      "# Setup objects \n",
      "db = Reads_db(database_path)\n",
      "clust_dict = ClusterDictionary()"
     ],
     "language": "python",
     "metadata": {},
     "outputs": [
      {
       "output_type": "stream",
       "stream": "stdout",
       "text": [
        "Database found with matching file name."
       ]
      },
      {
       "output_type": "stream",
       "stream": "stdout",
       "text": [
        "\n",
        "Connecting to database /space/musselle/data/RAD-seq/gazelles-zebras/testdb.db\n",
        "Setting Row_factory to named Rows\n"
       ]
      }
     ],
     "prompt_number": 192
    },
    {
     "cell_type": "code",
     "collapsed": false,
     "input": [
      "# Load seq records\n",
      "num_reads = 100000\n",
      "\n",
      "for i in range(1, num_reads+1):\n",
      "    \n",
      "    r = db.con.execute('''SELECT * FROM seqs WHERE seqid = ?''', (i,))   \n",
      "    row = r.fetchone()\n",
      "\n",
      "    repid = row['seqid'] \n",
      "    repseq = row['seq'] \n",
      "    clust_dict.add_cluster(repid, repseq)\n",
      "    clust_dict.add_member(i-1, np.random.randint(1, num_reads+1, np.random.randint(100,10000, 1)))\n"
     ],
     "language": "python",
     "metadata": {},
     "outputs": [],
     "prompt_number": 193
    },
    {
     "cell_type": "code",
     "collapsed": false,
     "input": [
      "clust_dict.aprox_memsize"
     ],
     "language": "python",
     "metadata": {},
     "outputs": [
      {
       "output_type": "pyout",
       "prompt_number": 194,
       "text": [
        "2027421256"
       ]
      }
     ],
     "prompt_number": 194
    },
    {
     "cell_type": "code",
     "collapsed": false,
     "input": [
      "clust_dict.flush2db(db)"
     ],
     "language": "python",
     "metadata": {},
     "outputs": [],
     "prompt_number": "*"
    },
    {
     "cell_type": "code",
     "collapsed": false,
     "input": [
      "clust_dict[0][0][0]['repid']"
     ],
     "language": "python",
     "metadata": {},
     "outputs": [],
     "prompt_number": "*"
    },
    {
     "cell_type": "code",
     "collapsed": false,
     "input": [
      "clust_dict[0][1]"
     ],
     "language": "python",
     "metadata": {},
     "outputs": [],
     "prompt_number": "*"
    },
    {
     "cell_type": "code",
     "collapsed": false,
     "input": [
      "clust_dict.aprox_memsize"
     ],
     "language": "python",
     "metadata": {},
     "outputs": [],
     "prompt_number": "*"
    },
    {
     "cell_type": "code",
     "collapsed": false,
     "input": [
      "len(clust_dict)"
     ],
     "language": "python",
     "metadata": {},
     "outputs": [],
     "prompt_number": "*"
    },
    {
     "cell_type": "code",
     "collapsed": false,
     "input": [],
     "language": "python",
     "metadata": {},
     "outputs": [],
     "prompt_number": "*"
    }
   ],
   "metadata": {}
  }
 ]
}
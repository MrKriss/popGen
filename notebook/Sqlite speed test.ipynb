{
 "metadata": {
  "name": "Sqlite speed test"
 },
 "nbformat": 3,
 "nbformat_minor": 0,
 "worksheets": [
  {
   "cells": [
    {
     "cell_type": "code",
     "collapsed": false,
     "input": [
      "cd ~"
     ],
     "language": "python",
     "metadata": {},
     "outputs": [
      {
       "output_type": "stream",
       "stream": "stdout",
       "text": [
        "/home/pgrad/musselle/ubuntu\n"
       ]
      }
     ],
     "prompt_number": 47
    },
    {
     "cell_type": "code",
     "collapsed": false,
     "input": [
      "import sqlite3"
     ],
     "language": "python",
     "metadata": {},
     "outputs": [],
     "prompt_number": 48
    },
    {
     "cell_type": "code",
     "collapsed": false,
     "input": [
      "db = sqlite3.connect('update_test.db')\n",
      "\n",
      "db.execute(''' CREATE TABLE t1 (\n",
      "                ID INTEGER PRIMARY KEY,\n",
      "                NUM1 INTEGER,\n",
      "                NUM2 INTEGER)''')"
     ],
     "language": "python",
     "metadata": {},
     "outputs": [
      {
       "output_type": "pyout",
       "prompt_number": 49,
       "text": [
        "<sqlite3.Cursor at 0x4781810>"
       ]
      }
     ],
     "prompt_number": 49
    },
    {
     "cell_type": "code",
     "collapsed": false,
     "input": [
      "def update_test(db):\n",
      "    for d in range(1000000):\n",
      "        db.execute(''' Update t1 SET num2 = ? WHERE id = ? ''', (1000000 - d, d))\n",
      "        \n",
      "def update_test2(db):\n",
      "    \n",
      "    f = ( (1000000 - i, i) for i in xrange(1000000))\n",
      "    db.executemany(''' Update t1 SET num2 = ? WHERE id = ? ''', (f))\n",
      "        \n",
      "def insert_test(db):\n",
      "    for d in range(1000000):\n",
      "        db.execute(''' INSERT INTO t1 (num1) VALUES (?) ''', (randint(1000000),))\n",
      "    "
     ],
     "language": "python",
     "metadata": {},
     "outputs": [],
     "prompt_number": 60
    },
    {
     "cell_type": "code",
     "collapsed": false,
     "input": [
      "ps_insert = %prun -r -s cumulative insert_test(db) "
     ],
     "language": "python",
     "metadata": {},
     "outputs": [
      {
       "output_type": "stream",
       "stream": "stdout",
       "text": [
        "\n"
       ]
      }
     ],
     "prompt_number": 61
    },
    {
     "cell_type": "code",
     "collapsed": false,
     "input": [
      "ps_update = %prun -r -s cumulative update_test(db) "
     ],
     "language": "python",
     "metadata": {},
     "outputs": [
      {
       "output_type": "stream",
       "stream": "stdout",
       "text": [
        "\n"
       ]
      }
     ],
     "prompt_number": 62
    },
    {
     "cell_type": "code",
     "collapsed": false,
     "input": [
      "ps_update2 = %prun -r -s cumulative update_test2(db) "
     ],
     "language": "python",
     "metadata": {},
     "outputs": [
      {
       "output_type": "stream",
       "stream": "stdout",
       "text": [
        "\n"
       ]
      }
     ],
     "prompt_number": 63
    },
    {
     "cell_type": "code",
     "collapsed": false,
     "input": [],
     "language": "python",
     "metadata": {},
     "outputs": []
    }
   ],
   "metadata": {}
  }
 ]
}
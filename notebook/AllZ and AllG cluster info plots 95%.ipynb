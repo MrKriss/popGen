{
 "metadata": {
  "name": "AllZ and AllG cluster info plots 95%"
 },
 "nbformat": 3,
 "nbformat_minor": 0,
 "worksheets": [
  {
   "cells": [
    {
     "cell_type": "markdown",
     "metadata": {},
     "source": [
      "## Analysis for Clustering all Zebras and all Gazelles Separately at 90%, 95% and 100% Similarity"
     ]
    },
    {
     "cell_type": "code",
     "collapsed": false,
     "input": [
      "import utils.ClusterIO\n",
      "reload(utils.ClusterIO)\n",
      "from utils.ClusterIO import *"
     ],
     "language": "python",
     "metadata": {},
     "outputs": [],
     "prompt_number": 3
    },
    {
     "cell_type": "code",
     "collapsed": false,
     "input": [
      "# Load in files \n",
      "gaz_clustf90 = '/space/musselle/data/RAD-seq/gazelles-zebras/clusters/gz_allg_allz_clustered_reads_c90/gz_allg_allz-gazelle-clustered_c90.clstr'\n",
      "zeb_clustf90 = '/space/musselle/data/RAD-seq/gazelles-zebras/clusters/gz_allg_allz_clustered_reads_c90/gz_allg_allz-zebra-clustered_c90.clstr'\n",
      "\n",
      "gaz_clustf95 = '/space/musselle/data/RAD-seq/gazelles-zebras/clusters/gz_allg_allz_95g1_clustered_reads_c95_g1/gz_allg_allz-gazelle-clustered_c95_g1.clstr'\n",
      "zeb_clustf95 = '/space/musselle/data/RAD-seq/gazelles-zebras/clusters/gz_allg_allz_95g1_clustered_reads_c95_g1/gz_allg_allz-zebra-clustered_c95_g1.clstr'\n",
      "\n",
      "gaz_clustf100 = '/space/musselle/data/RAD-seq/gazelles-zebras/clusters/gz_allg_allz_clustered_reads_c100/gz_allg_allz-gazelle-clustered_c100.clstr'\n",
      "zeb_clustf100 = '/space/musselle/data/RAD-seq/gazelles-zebras/clusters/gz_allg_allz_clustered_reads_c100/gz_allg_allz-zebra-clustered_c100.clstr'\n",
      "\n",
      "# Get cluster sizes summary\n",
      "gaz_cs_count90 = summary_counter(gaz_clustf90, mode='cluster_size', report=0)\n",
      "zeb_cs_count90 = summary_counter(zeb_clustf90, mode='cluster_size', report=0)\n",
      "gaz_cs_count95 = summary_counter(gaz_clustf95, mode='cluster_size', report=0)\n",
      "zeb_cs_count95 = summary_counter(zeb_clustf95, mode='cluster_size', report=0)\n",
      "gaz_cs_count100 = summary_counter(gaz_clustf100, mode='cluster_size', report=0)\n",
      "zeb_cs_count100 = summary_counter(zeb_clustf100, mode='cluster_size', report=0)\n",
      "\n",
      "# Get reads per clustr counter summary\n",
      "gaz_rpc_count90 = {}\n",
      "for k,v in gaz_cs_count90.iteritems():\n",
      "            gaz_rpc_count90[k] = int(k) * v\n",
      "zeb_rpc_count90 = {}\n",
      "for k,v in zeb_cs_count90.iteritems():\n",
      "            zeb_rpc_count90[k] = int(k) * v\n",
      "        \n",
      "gaz_rpc_count95 = {}\n",
      "for k,v in gaz_cs_count95.iteritems():\n",
      "            gaz_rpc_count95[k] = int(k) * v\n",
      "zeb_rpc_count95 = {}\n",
      "for k,v in zeb_cs_count95.iteritems():\n",
      "            zeb_rpc_count95[k] = int(k) * v\n",
      "        \n",
      "gaz_rpc_count100 = {}\n",
      "for k,v in gaz_cs_count100.iteritems():\n",
      "            gaz_rpc_count100[k] = int(k) * v\n",
      "zeb_rpc_count100 = {}\n",
      "for k,v in zeb_cs_count100.iteritems():\n",
      "            zeb_rpc_count100[k] = int(k) * v"
     ],
     "language": "python",
     "metadata": {},
     "outputs": [
      {
       "output_type": "stream",
       "stream": "stdout",
       "text": [
        "Generating cluster summary for  /space/musselle/data/RAD-seq/gazelles-zebras/clusters/gz_allg_allz_clustered_reads_c90/gz_allg_allz-gazelle-clustered_c90.clstr ...\n",
        "Finished Scanning cluster file."
       ]
      },
      {
       "output_type": "stream",
       "stream": "stdout",
       "text": [
        "\n",
        "Generating cluster summary for  /space/musselle/data/RAD-seq/gazelles-zebras/clusters/gz_allg_allz_clustered_reads_c90/gz_allg_allz-zebra-clustered_c90.clstr ...\n",
        "Finished Scanning cluster file."
       ]
      },
      {
       "output_type": "stream",
       "stream": "stdout",
       "text": [
        "\n",
        "Generating cluster summary for  /space/musselle/data/RAD-seq/gazelles-zebras/clusters/gz_allg_allz_95g1_clustered_reads_c95_g1/gz_allg_allz-gazelle-clustered_c95_g1.clstr ...\n",
        "Finished Scanning cluster file."
       ]
      },
      {
       "output_type": "stream",
       "stream": "stdout",
       "text": [
        "\n",
        "Generating cluster summary for  /space/musselle/data/RAD-seq/gazelles-zebras/clusters/gz_allg_allz_95g1_clustered_reads_c95_g1/gz_allg_allz-zebra-clustered_c95_g1.clstr ...\n",
        "Finished Scanning cluster file."
       ]
      },
      {
       "output_type": "stream",
       "stream": "stdout",
       "text": [
        "\n",
        "Generating cluster summary for  /space/musselle/data/RAD-seq/gazelles-zebras/clusters/gz_allg_allz_clustered_reads_c100/gz_allg_allz-gazelle-clustered_c100.clstr ...\n",
        "Finished Scanning cluster file."
       ]
      },
      {
       "output_type": "stream",
       "stream": "stdout",
       "text": [
        "\n",
        "Generating cluster summary for  /space/musselle/data/RAD-seq/gazelles-zebras/clusters/gz_allg_allz_clustered_reads_c100/gz_allg_allz-zebra-clustered_c100.clstr ...\n",
        "Finished Scanning cluster file."
       ]
      },
      {
       "output_type": "stream",
       "stream": "stdout",
       "text": [
        "\n"
       ]
      }
     ],
     "prompt_number": 2
    },
    {
     "cell_type": "code",
     "collapsed": false,
     "input": [
      "gaz_cs_count95['585'] "
     ],
     "language": "python",
     "metadata": {},
     "outputs": [
      {
       "output_type": "pyout",
       "prompt_number": 53,
       "text": [
        "439"
       ]
      }
     ],
     "prompt_number": 53
    },
    {
     "cell_type": "code",
     "collapsed": false,
     "input": [
      "200000 * 2000"
     ],
     "language": "python",
     "metadata": {},
     "outputs": [
      {
       "output_type": "pyout",
       "prompt_number": 16,
       "text": [
        "400000000"
       ]
      }
     ],
     "prompt_number": 16
    },
    {
     "cell_type": "code",
     "collapsed": false,
     "input": [
      "gaz_rpc_c = Counter(gaz_rpc_count95)"
     ],
     "language": "python",
     "metadata": {},
     "outputs": [],
     "prompt_number": 11
    },
    {
     "cell_type": "code",
     "collapsed": false,
     "input": [
      "gaz_rpc_c.most_common()[:140]"
     ],
     "language": "python",
     "metadata": {},
     "outputs": [
      {
       "output_type": "pyout",
       "prompt_number": 27,
       "text": [
        "[('1', 698625),\n",
        " ('593', 281082),\n",
        " ('564', 280872),\n",
        " ('606', 279972),\n",
        " ('619', 279169),\n",
        " ('614', 275686),\n",
        " ('603', 275571),\n",
        " ('586', 274834),\n",
        " ('581', 273651),\n",
        " ('2', 270496),\n",
        " ('618', 268830),\n",
        " ('588', 268716),\n",
        " ('589', 267995),\n",
        " ('580', 267380),\n",
        " ('596', 267008),\n",
        " ('590', 266090),\n",
        " ('602', 266084),\n",
        " ('583', 265848),\n",
        " ('612', 265608),\n",
        " ('577', 264266),\n",
        " ('566', 260926),\n",
        " ('621', 260199),\n",
        " ('630', 260190),\n",
        " ('616', 258720),\n",
        " ('623', 258545),\n",
        " ('579', 258234),\n",
        " ('625', 257500),\n",
        " ('638', 257114),\n",
        " ('585', 256815),\n",
        " ('632', 256592),\n",
        " ('615', 256455),\n",
        " ('613', 256234),\n",
        " ('576', 255168),\n",
        " ('610', 254980),\n",
        " ('594', 254826),\n",
        " ('601', 254824),\n",
        " ('637', 254800),\n",
        " ('587', 254171),\n",
        " ('595', 254065),\n",
        " ('562', 254024),\n",
        " ('568', 253896),\n",
        " ('591', 253539),\n",
        " ('582', 252588),\n",
        " ('549', 252540),\n",
        " ('608', 252320),\n",
        " ('600', 252000),\n",
        " ('584', 251704),\n",
        " ('599', 251580),\n",
        " ('548', 250436),\n",
        " ('574', 250264),\n",
        " ('571', 250098),\n",
        " ('611', 249288),\n",
        " ('592', 248640),\n",
        " ('558', 247752),\n",
        " ('622', 247556),\n",
        " ('620', 247380),\n",
        " ('541', 246155),\n",
        " ('575', 246100),\n",
        " ('578', 245650),\n",
        " ('597', 245367),\n",
        " ('570', 245100),\n",
        " ('643', 244983),\n",
        " ('627', 244530),\n",
        " ('605', 244420),\n",
        " ('624', 243984),\n",
        " ('607', 243407),\n",
        " ('557', 242295),\n",
        " ('569', 241825),\n",
        " ('567', 240975),\n",
        " ('609', 240555),\n",
        " ('604', 240392),\n",
        " ('626', 240384),\n",
        " ('565', 240125),\n",
        " ('573', 240087),\n",
        " ('553', 240002),\n",
        " ('629', 239649),\n",
        " ('547', 239586),\n",
        " ('552', 239016),\n",
        " ('635', 238760),\n",
        " ('555', 238650),\n",
        " ('546', 238602),\n",
        " ('561', 238425),\n",
        " ('641', 237811),\n",
        " ('538', 237796),\n",
        " ('636', 237228),\n",
        " ('648', 237168),\n",
        " ('617', 236928),\n",
        " ('572', 236808),\n",
        " ('633', 236742),\n",
        " ('560', 236320),\n",
        " ('532', 236208),\n",
        " ('598', 235014),\n",
        " ('563', 234771),\n",
        " ('535', 234330),\n",
        " ('628', 234244),\n",
        " ('556', 234076),\n",
        " ('545', 233805),\n",
        " ('550', 233750),\n",
        " ('652', 232112),\n",
        " ('559', 231985),\n",
        " ('544', 231744),\n",
        " ('540', 231660),\n",
        " ('554', 231018),\n",
        " ('542', 229808),\n",
        " ('551', 229767),\n",
        " ('634', 228240),\n",
        " ('543', 227517),\n",
        " ('539', 227458),\n",
        " ('537', 227151),\n",
        " ('654', 226938),\n",
        " ('644', 226688),\n",
        " ('536', 225120),\n",
        " ('531', 224082),\n",
        " ('523', 223844),\n",
        " ('650', 222300),\n",
        " ('639', 221733),\n",
        " ('527', 221340),\n",
        " ('662', 221108),\n",
        " ('645', 220590),\n",
        " ('530', 219950),\n",
        " ('631', 217695),\n",
        " ('640', 217600),\n",
        " ('528', 217536),\n",
        " ('651', 214830),\n",
        " ('653', 213531),\n",
        " ('647', 212863),\n",
        " ('533', 212667),\n",
        " ('534', 212532),\n",
        " ('659', 211539),\n",
        " ('517', 210936),\n",
        " ('518', 210826),\n",
        " ('510', 210120),\n",
        " ('521', 209963),\n",
        " ('660', 209880),\n",
        " ('524', 209076),\n",
        " ('515', 208575),\n",
        " ('519', 207600),\n",
        " ('675', 207225),\n",
        " ('657', 204984),\n",
        " ('663', 204204)]"
       ]
      }
     ],
     "prompt_number": 27
    },
    {
     "cell_type": "code",
     "collapsed": false,
     "input": [
      "# Plots Comparing Zebras and Gazelles Separtely at 90%\n",
      "figure()\n",
      "plot_counters([gaz_rpc_count90, zeb_rpc_count90], ['Gazelles', 'Zebras'], \n",
      "    log='xy', ylab=\"Total No. of Reads\", xlab=\"Cluster Size\", \n",
      "    title=\"Total No. Reads per Cluster Size at 90% Similarity\")\n",
      "figure()\n",
      "plot_counters([gaz_cs_count90, zeb_cs_count90], ['Gazelles', 'Zebras'],\n",
      "     log='xy', ylab=\"Frequency\", xlab=\"Cluster Size\", \n",
      "    title=\"Distribution of Cluster Sizes at 90% Similarity\")"
     ],
     "language": "python",
     "metadata": {},
     "outputs": [],
     "prompt_number": 5
    },
    {
     "cell_type": "code",
     "collapsed": false,
     "input": [
      "# Plots Comparing Zebras and Gazelles Separtely at 95%\n",
      "figure()\n",
      "plot_counters([gaz_rpc_count95, zeb_rpc_count95], ['Gazelles', 'Zebras'], \n",
      "    log='xy', ylab=\"Total No. of Reads\", xlab=\"Cluster Size\", \n",
      "    title=\"Total No. Reads per Cluster Size at 95% Similarity\")\n",
      "figure()\n",
      "plot_counters([gaz_cs_count95, zeb_cs_count95], ['Gazelles', 'Zebras'],\n",
      "     log='xy', ylab=\"Frequency\", xlab=\"Cluster Size\", \n",
      "    title=\"Distribution of Cluster Sizes at 95% Similarity\")"
     ],
     "language": "python",
     "metadata": {},
     "outputs": [],
     "prompt_number": 4
    },
    {
     "cell_type": "code",
     "collapsed": false,
     "input": [
      "# Plots Comparing Zebras and Gazelles Separtely at 100%\n",
      "figure()\n",
      "plot_counters([gaz_rpc_count100, zeb_rpc_count100], \n",
      "    ['Gazelles', 'Zebras'], log='xy', ylab=\"Total No. of Reads\", \n",
      "    xlab=\"Cluster Size\", title=\"Total No. Reads per Cluster Size at 100% Similarity\")\n",
      "figure()\n",
      "plot_counters([gaz_cs_count100, zeb_cs_count100], \n",
      "    ['Gazelles', 'Zebras'], log='xy', ylab=\"Frequency\", \n",
      "    xlab=\"Cluster Size\", title=\"Distribution of Cluster Sizes at 100% Similarity\")"
     ],
     "language": "python",
     "metadata": {},
     "outputs": [],
     "prompt_number": 31
    },
    {
     "cell_type": "code",
     "collapsed": false,
     "input": [
      "# Plots Comparing Zebras and Gazelles at 90% and 100% Similarity\n",
      "figure()\n",
      "plot_counters([gaz_rpc_count100, zeb_rpc_count100, gaz_rpc_count90, zeb_rpc_count90],\n",
      "    ['Gazelles c100', 'Zebras c100', 'Gazelles c90', 'Zebras c90'], log='xy', \n",
      "    ylab=\"Total No. of Reads\", xlab=\"Cluster Size\", title=\"Total No. Reads per Cluster Size\")\n",
      "figure()\n",
      "plot_counters([gaz_cs_count100, zeb_cs_count100, gaz_cs_count90, zeb_cs_count90],\n",
      "    ['Gazelles c100', 'Zebras c100', 'Gazelles c90', 'Zebras c90'], log='xy', \n",
      "    ylab=\"Frequency\", xlab=\"Cluster Size\", title=\"Distribution of Cluster Sizes\")"
     ],
     "language": "python",
     "metadata": {},
     "outputs": [],
     "prompt_number": 35
    },
    {
     "cell_type": "code",
     "collapsed": false,
     "input": [
      "# Plots Comparing Zebras and Gazelles at 90%, 95% and 100% Similarity\n",
      "figure()\n",
      "plot_counters([gaz_rpc_count100, zeb_rpc_count100, gaz_rpc_count95, zeb_rpc_count95, gaz_rpc_count90, zeb_rpc_count90],\n",
      "    ['Gazelles c100', 'Zebras c100', 'Gazelles c95', 'Zebras c95', 'Gazelles c90', 'Zebras c90'], log='xy', \n",
      "    ylab=\"Total No. of Reads\", xlab=\"Cluster Size\", title=\"Total No. Reads per Cluster Size\")\n",
      "figure()\n",
      "plot_counters([gaz_cs_count100, zeb_cs_count100, gaz_cs_count95, zeb_cs_count95, gaz_cs_count90, zeb_cs_count90],\n",
      "    ['Gazelles c100', 'Zebras c100', 'Gazelles c95', 'Zebras c95', 'Gazelles c90', 'Zebras c90'], log='xy', \n",
      "    ylab=\"Frequency\", xlab=\"Cluster Size\", title=\"Distribution of Cluster Sizes\")"
     ],
     "language": "python",
     "metadata": {},
     "outputs": [],
     "prompt_number": 5
    },
    {
     "cell_type": "code",
     "collapsed": false,
     "input": [
      "sum(gaz_cs_count95.values())\n"
     ],
     "language": "python",
     "metadata": {},
     "outputs": [
      {
       "output_type": "pyout",
       "prompt_number": 3,
       "text": [
        "1246308"
       ]
      }
     ],
     "prompt_number": 3
    },
    {
     "cell_type": "code",
     "collapsed": false,
     "input": [
      "sum(zeb_cs_count95.values())"
     ],
     "language": "python",
     "metadata": {},
     "outputs": [
      {
       "output_type": "pyout",
       "prompt_number": 4,
       "text": [
        "1279172"
       ]
      }
     ],
     "prompt_number": 4
    },
    {
     "cell_type": "code",
     "collapsed": false,
     "input": [],
     "language": "python",
     "metadata": {},
     "outputs": []
    }
   ],
   "metadata": {}
  }
 ]
}
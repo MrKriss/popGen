{
 "metadata": {
  "name": "AllZ and AllG cluster info plots 95%"
 },
 "nbformat": 3,
 "nbformat_minor": 0,
 "worksheets": [
  {
   "cells": [
    {
     "cell_type": "markdown",
     "metadata": {},
     "source": [
      "## Analysis for Clustering all Zebras and all Gazelles Separately at 90%, 95% and 100% Similarity"
     ]
    },
    {
     "cell_type": "code",
     "collapsed": false,
     "input": [
      "import utils.ClusterIO\n",
      "reload(utils.ClusterIO)\n",
      "from utils.ClusterIO import *"
     ],
     "language": "python",
     "metadata": {},
     "outputs": [],
     "prompt_number": 2
    },
    {
     "cell_type": "code",
     "collapsed": false,
     "input": [
      "# Load in files \n",
      "gaz_clustf90 = '/space/musselle/data/RAD-seq/gazelles-zebras/clusters/gz_allg_allz_clustered_reads_c90/gz_allg_allz-gazelle-clustered_c90.clstr'\n",
      "zeb_clustf90 = '/space/musselle/data/RAD-seq/gazelles-zebras/clusters/gz_allg_allz_clustered_reads_c90/gz_allg_allz-zebra-clustered_c90.clstr'\n",
      "\n",
      "gaz_clustf95 = '/space/musselle/data/RAD-seq/gazelles-zebras/clusters/gz_allg_allz_95g1_clustered_reads_c95_g1/gz_allg_allz-gazelle-clustered_c95_g1.clstr'\n",
      "zeb_clustf95 = '/space/musselle/data/RAD-seq/gazelles-zebras/clusters/gz_allg_allz_95g1_clustered_reads_c95_g1/gz_allg_allz-zebra-clustered_c95_g1.clstr'\n",
      "\n",
      "gaz_clustf100 = '/space/musselle/data/RAD-seq/gazelles-zebras/clusters/gz_allg_allz_clustered_reads_c100/gz_allg_allz-gazelle-clustered_c100.clstr'\n",
      "zeb_clustf100 = '/space/musselle/data/RAD-seq/gazelles-zebras/clusters/gz_allg_allz_clustered_reads_c100/gz_allg_allz-zebra-clustered_c100.clstr'\n",
      "\n",
      "# Get reads per clustr counter summary\n",
      "gaz_rpc_count90 = summary_counter(gaz_clustf90, mode='reads_per_cluster', report=0)\n",
      "zeb_rpc_count90 = summary_counter(zeb_clustf90, mode='reads_per_cluster', report=0)\n",
      "gaz_rpc_count95 = summary_counter(gaz_clustf95, mode='reads_per_cluster', report=0)\n",
      "zeb_rpc_count95 = summary_counter(zeb_clustf95, mode='reads_per_cluster', report=0)\n",
      "gaz_rpc_count100 = summary_counter(gaz_clustf100, mode='reads_per_cluster', report=0)\n",
      "zeb_rpc_count100 = summary_counter(zeb_clustf100, mode='reads_per_cluster', report=0)\n",
      "\n",
      "# Get cluster sizes summary\n",
      "gaz_cs_count90 = summary_counter(gaz_clustf90, mode='total', report=0)\n",
      "zeb_cs_count90 = summary_counter(zeb_clustf90, mode='total', report=0)\n",
      "gaz_cs_count95 = summary_counter(gaz_clustf95, mode='total', report=0)\n",
      "zeb_cs_count95 = summary_counter(zeb_clustf95, mode='total', report=0)\n",
      "gaz_cs_count100 = summary_counter(gaz_clustf100, mode='total', report=0)\n",
      "zeb_cs_count100 = summary_counter(zeb_clustf100, mode='total', report=0)\n"
     ],
     "language": "python",
     "metadata": {},
     "outputs": [
      {
       "ename": "KeyboardInterrupt",
       "evalue": "",
       "output_type": "pyerr",
       "traceback": [
        "\u001b[1;31m---------------------------------------------------------------------------\u001b[0m\n\u001b[1;31mKeyboardInterrupt\u001b[0m                         Traceback (most recent call last)",
        "\u001b[1;32m<ipython-input-3-7477e4d1f90c>\u001b[0m in \u001b[0;36m<module>\u001b[1;34m()\u001b[0m\n\u001b[0;32m     10\u001b[0m \u001b[1;33m\u001b[0m\u001b[0m\n\u001b[0;32m     11\u001b[0m \u001b[1;31m# Get reads per clustr counter summary\u001b[0m\u001b[1;33m\u001b[0m\u001b[1;33m\u001b[0m\u001b[0m\n\u001b[1;32m---> 12\u001b[1;33m \u001b[0mgaz_rpc_count90\u001b[0m \u001b[1;33m=\u001b[0m \u001b[0msummary_counter\u001b[0m\u001b[1;33m(\u001b[0m\u001b[0mgaz_clustf90\u001b[0m\u001b[1;33m,\u001b[0m \u001b[0mmode\u001b[0m\u001b[1;33m=\u001b[0m\u001b[1;34m'reads_per_cluster'\u001b[0m\u001b[1;33m,\u001b[0m \u001b[0mreport\u001b[0m\u001b[1;33m=\u001b[0m\u001b[1;36m0\u001b[0m\u001b[1;33m)\u001b[0m\u001b[1;33m\u001b[0m\u001b[0m\n\u001b[0m\u001b[0;32m     13\u001b[0m \u001b[0mzeb_rpc_count90\u001b[0m \u001b[1;33m=\u001b[0m \u001b[0msummary_counter\u001b[0m\u001b[1;33m(\u001b[0m\u001b[0mzeb_clustf90\u001b[0m\u001b[1;33m,\u001b[0m \u001b[0mmode\u001b[0m\u001b[1;33m=\u001b[0m\u001b[1;34m'reads_per_cluster'\u001b[0m\u001b[1;33m,\u001b[0m \u001b[0mreport\u001b[0m\u001b[1;33m=\u001b[0m\u001b[1;36m0\u001b[0m\u001b[1;33m)\u001b[0m\u001b[1;33m\u001b[0m\u001b[0m\n\u001b[0;32m     14\u001b[0m \u001b[0mgaz_rpc_count95\u001b[0m \u001b[1;33m=\u001b[0m \u001b[0msummary_counter\u001b[0m\u001b[1;33m(\u001b[0m\u001b[0mgaz_clustf95\u001b[0m\u001b[1;33m,\u001b[0m \u001b[0mmode\u001b[0m\u001b[1;33m=\u001b[0m\u001b[1;34m'reads_per_cluster'\u001b[0m\u001b[1;33m,\u001b[0m \u001b[0mreport\u001b[0m\u001b[1;33m=\u001b[0m\u001b[1;36m0\u001b[0m\u001b[1;33m)\u001b[0m\u001b[1;33m\u001b[0m\u001b[0m\n",
        "\u001b[1;32m/home/pgrad/musselle/ubuntu/workspace/popGen/utils/ClusterIO.pyc\u001b[0m in \u001b[0;36msummary_counter\u001b[1;34m(cluster_path2file, mode, report)\u001b[0m\n\u001b[0;32m    370\u001b[0m \u001b[1;33m\u001b[0m\u001b[0m\n\u001b[0;32m    371\u001b[0m             \u001b[1;32mfor\u001b[0m \u001b[0mline\u001b[0m \u001b[1;32min\u001b[0m \u001b[0mcluster_file\u001b[0m\u001b[1;33m:\u001b[0m\u001b[1;33m\u001b[0m\u001b[0m\n\u001b[1;32m--> 372\u001b[1;33m                 \u001b[0mline\u001b[0m \u001b[1;33m=\u001b[0m \u001b[0mline\u001b[0m\u001b[1;33m.\u001b[0m\u001b[0mstrip\u001b[0m\u001b[1;33m(\u001b[0m\u001b[1;33m)\u001b[0m\u001b[1;33m\u001b[0m\u001b[0m\n\u001b[0m\u001b[0;32m    373\u001b[0m \u001b[1;33m\u001b[0m\u001b[0m\n\u001b[0;32m    374\u001b[0m                 \u001b[1;32mif\u001b[0m \u001b[0mline\u001b[0m\u001b[1;33m.\u001b[0m\u001b[0mstartswith\u001b[0m\u001b[1;33m(\u001b[0m\u001b[1;34m'>'\u001b[0m\u001b[1;33m)\u001b[0m\u001b[1;33m:\u001b[0m\u001b[1;33m\u001b[0m\u001b[0m\n",
        "\u001b[1;31mKeyboardInterrupt\u001b[0m: "
       ]
      },
      {
       "output_type": "stream",
       "stream": "stdout",
       "text": [
        "Generating cluster summary for  gz_allg_allz-gazelle-clustered_c90.clstr ...\n"
       ]
      }
     ],
     "prompt_number": 3
    },
    {
     "cell_type": "code",
     "collapsed": false,
     "input": [
      "# Load in files \n",
      "gaz_clustf90 = '/space/musselle/data/RAD-seq/gazelles-zebras/clusters/gz_allg_allz_clustered_reads_c90/gz_allg_allz-gazelle-clustered_c90.clstr'\n",
      "zeb_clustf90 = '/space/musselle/data/RAD-seq/gazelles-zebras/clusters/gz_allg_allz_clustered_reads_c90/gz_allg_allz-zebra-clustered_c90.clstr'\n",
      "\n",
      "gaz_clustf95 = '/space/musselle/data/RAD-seq/gazelles-zebras/clusters/gz_allg_allz_95g1_clustered_reads_c95_g1/gz_allg_allz-gazelle-clustered_c95_g1.clstr'\n",
      "zeb_clustf95 = '/space/musselle/data/RAD-seq/gazelles-zebras/clusters/gz_allg_allz_95g1_clustered_reads_c95_g1/gz_allg_allz-zebra-clustered_c95_g1.clstr'\n",
      "\n",
      "gaz_clustf100 = '/space/musselle/data/RAD-seq/gazelles-zebras/clusters/gz_allg_allz_clustered_reads_c100/gz_allg_allz-gazelle-clustered_c100.clstr'\n",
      "zeb_clustf100 = '/space/musselle/data/RAD-seq/gazelles-zebras/clusters/gz_allg_allz_clustered_reads_c100/gz_allg_allz-zebra-clustered_c100.clstr'\n",
      "\n",
      "# Get cluster sizes summary\n",
      "gaz_cs_count90 = summary_counter(gaz_clustf90, mode='total', report=0)\n",
      "zeb_cs_count90 = summary_counter(zeb_clustf90, mode='total', report=0)\n",
      "gaz_cs_count95 = summary_counter(gaz_clustf95, mode='total', report=0)\n",
      "zeb_cs_count95 = summary_counter(zeb_clustf95, mode='total', report=0)\n",
      "gaz_cs_count100 = summary_counter(gaz_clustf100, mode='total', report=0)\n",
      "zeb_cs_count100 = summary_counter(zeb_clustf100, mode='total', report=0)\n",
      "\n",
      "# Get reads per clustr counter summary\n",
      "gaz_rpc_count90 = {}\n",
      "for k,v in gaz_cs_count90.iteritems():\n",
      "            gaz_rpc_count90[k] = int(k) * v\n",
      "zeb_rpc_count90 = {}\n",
      "for k,v in zeb_cs_count90.iteritems():\n",
      "            zeb_rpc_count90[k] = int(k) * v\n",
      "        \n",
      "gaz_rpc_count95 = {}\n",
      "for k,v in gaz_cs_count95.iteritems():\n",
      "            gaz_rpc_count95[k] = int(k) * v\n",
      "zeb_rpc_count95 = {}\n",
      "for k,v in zeb_cs_count95.iteritems():\n",
      "            zeb_rpc_count95[k] = int(k) * v\n",
      "        \n",
      "gaz_rpc_count100 = {}\n",
      "for k,v in gaz_cs_count100.iteritems():\n",
      "            gaz_rpc_count100[k] = int(k) * v\n",
      "zeb_rpc_count100 = {}\n",
      "for k,v in zeb_cs_count100.iteritems():\n",
      "            zeb_rpc_count100[k] = int(k) * v"
     ],
     "language": "python",
     "metadata": {},
     "outputs": [
      {
       "output_type": "stream",
       "stream": "stdout",
       "text": [
        "Generating cluster summary for  gz_allg_allz-gazelle-clustered_c90.clstr ...\n",
        "Finished Scanning cluster file."
       ]
      },
      {
       "output_type": "stream",
       "stream": "stdout",
       "text": [
        "\n",
        "Generating cluster summary for  gz_allg_allz-zebra-clustered_c90.clstr ...\n",
        "Finished Scanning cluster file."
       ]
      },
      {
       "output_type": "stream",
       "stream": "stdout",
       "text": [
        "\n",
        "Generating cluster summary for  gz_allg_allz-gazelle-clustered_c95_g1.clstr ...\n",
        "Finished Scanning cluster file."
       ]
      },
      {
       "output_type": "stream",
       "stream": "stdout",
       "text": [
        "\n",
        "Generating cluster summary for  gz_allg_allz-zebra-clustered_c95_g1.clstr ...\n",
        "Finished Scanning cluster file."
       ]
      },
      {
       "output_type": "stream",
       "stream": "stdout",
       "text": [
        "\n",
        "Generating cluster summary for  gz_allg_allz-gazelle-clustered_c100.clstr ...\n",
        "Finished Scanning cluster file."
       ]
      },
      {
       "output_type": "stream",
       "stream": "stdout",
       "text": [
        "\n",
        "Generating cluster summary for  gz_allg_allz-zebra-clustered_c100.clstr ...\n",
        "Finished Scanning cluster file."
       ]
      },
      {
       "output_type": "stream",
       "stream": "stdout",
       "text": [
        "\n"
       ]
      }
     ],
     "prompt_number": 4
    },
    {
     "cell_type": "code",
     "collapsed": false,
     "input": [
      "# Plots Comparing Zebras and Gazelles Separtely at 90%\n",
      "figure()\n",
      "plot_counters([gaz_rpc_count90, zeb_rpc_count90], ['Gazelles', 'Zebras'], \n",
      "    log='xy', ylab=\"Total No. of Reads\", xlab=\"Cluster Size\", \n",
      "    title=\"Total No. Reads per Cluster Size at 90% Similarity\")\n",
      "figure()\n",
      "plot_counters([gaz_cs_count90, zeb_cs_count90], ['Gazelles', 'Zebras'],\n",
      "     log='xy', ylab=\"Frequency\", xlab=\"Cluster Size\", \n",
      "    title=\"Distribution of Cluster Sizes at 90% Similarity\")"
     ],
     "language": "python",
     "metadata": {},
     "outputs": [],
     "prompt_number": 5
    },
    {
     "cell_type": "code",
     "collapsed": false,
     "input": [
      "# Plots Comparing Zebras and Gazelles Separtely at 95%\n",
      "figure()\n",
      "plot_counters([gaz_rpc_count95, zeb_rpc_count95], ['Gazelles', 'Zebras'], \n",
      "    log='xy', ylab=\"Total No. of Reads\", xlab=\"Cluster Size\", \n",
      "    title=\"Total No. Reads per Cluster Size at 95% Similarity\")\n",
      "figure()\n",
      "plot_counters([gaz_cs_count95, zeb_cs_count95], ['Gazelles', 'Zebras'],\n",
      "     log='xy', ylab=\"Frequency\", xlab=\"Cluster Size\", \n",
      "    title=\"Distribution of Cluster Sizes at 95% Similarity\")"
     ],
     "language": "python",
     "metadata": {},
     "outputs": [],
     "prompt_number": 6
    },
    {
     "cell_type": "code",
     "collapsed": false,
     "input": [
      "# Plots Comparing Zebras and Gazelles Separtely at 100%\n",
      "figure()\n",
      "plot_counters([gaz_rpc_count100, zeb_rpc_count100], \n",
      "    ['Gazelles', 'Zebras'], log='xy', ylab=\"Total No. of Reads\", \n",
      "    xlab=\"Cluster Size\", title=\"Total No. Reads per Cluster Size at 100% Similarity\")\n",
      "figure()\n",
      "plot_counters([gaz_cs_count100, zeb_cs_count100], \n",
      "    ['Gazelles', 'Zebras'], log='xy', ylab=\"Frequency\", \n",
      "    xlab=\"Cluster Size\", title=\"Distribution of Cluster Sizes at 100% Similarity\")"
     ],
     "language": "python",
     "metadata": {},
     "outputs": [],
     "prompt_number": 31
    },
    {
     "cell_type": "code",
     "collapsed": false,
     "input": [
      "# Plots Comparing Zebras and Gazelles at 90% and 100% Similarity\n",
      "figure()\n",
      "plot_counters([gaz_rpc_count100, zeb_rpc_count100, gaz_rpc_count90, zeb_rpc_count90],\n",
      "    ['Gazelles c100', 'Zebras c100', 'Gazelles c90', 'Zebras c90'], log='xy', \n",
      "    ylab=\"Total No. of Reads\", xlab=\"Cluster Size\", title=\"Total No. Reads per Cluster Size\")\n",
      "figure()\n",
      "plot_counters([gaz_cs_count100, zeb_cs_count100, gaz_cs_count90, zeb_cs_count90],\n",
      "    ['Gazelles c100', 'Zebras c100', 'Gazelles c90', 'Zebras c90'], log='xy', \n",
      "    ylab=\"Frequency\", xlab=\"Cluster Size\", title=\"Distribution of Cluster Sizes\")"
     ],
     "language": "python",
     "metadata": {},
     "outputs": [],
     "prompt_number": 35
    },
    {
     "cell_type": "code",
     "collapsed": false,
     "input": [
      "# Plots Comparing Zebras and Gazelles at 90%, 95% and 100% Similarity\n",
      "figure()\n",
      "plot_counters([gaz_rpc_count100, zeb_rpc_count100, gaz_rpc_count95, zeb_rpc_count95, gaz_rpc_count90, zeb_rpc_count90],\n",
      "    ['Gazelles c100', 'Zebras c100', 'Gazelles c95', 'Zebras c95', 'Gazelles c90', 'Zebras c90'], log='xy', \n",
      "    ylab=\"Total No. of Reads\", xlab=\"Cluster Size\", title=\"Total No. Reads per Cluster Size\")\n",
      "figure()\n",
      "plot_counters([gaz_cs_count100, zeb_cs_count100, gaz_cs_count95, zeb_cs_count95, gaz_cs_count90, zeb_cs_count90],\n",
      "    ['Gazelles c100', 'Zebras c100', 'Gazelles c95', 'Zebras c95', 'Gazelles c90', 'Zebras c90'], log='xy', \n",
      "    ylab=\"Frequency\", xlab=\"Cluster Size\", title=\"Distribution of Cluster Sizes\")"
     ],
     "language": "python",
     "metadata": {},
     "outputs": [],
     "prompt_number": 8
    },
    {
     "cell_type": "code",
     "collapsed": false,
     "input": [
      "sum(gaz_cs_count100.values())\n"
     ],
     "language": "python",
     "metadata": {},
     "outputs": [
      {
       "output_type": "pyout",
       "prompt_number": 40,
       "text": [
        "7300631"
       ]
      }
     ],
     "prompt_number": 40
    },
    {
     "cell_type": "code",
     "collapsed": false,
     "input": [
      "sum(zeb_cs_count100.values())"
     ],
     "language": "python",
     "metadata": {},
     "outputs": [
      {
       "output_type": "pyout",
       "prompt_number": 41,
       "text": [
        "7033580"
       ]
      }
     ],
     "prompt_number": 41
    },
    {
     "cell_type": "code",
     "collapsed": false,
     "input": [],
     "language": "python",
     "metadata": {},
     "outputs": []
    }
   ],
   "metadata": {}
  }
 ]
}
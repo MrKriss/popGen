{
 "metadata": {
  "name": ""
 },
 "nbformat": 3,
 "nbformat_minor": 0,
 "worksheets": [
  {
   "cells": [
    {
     "cell_type": "code",
     "collapsed": false,
     "input": [
      "User Guide v 0.1 "
     ],
     "language": "python",
     "metadata": {},
     "outputs": []
    },
    {
     "cell_type": "heading",
     "level": 2,
     "metadata": {},
     "source": [
      "Setup and Installation"
     ]
    },
    {
     "cell_type": "heading",
     "level": 2,
     "metadata": {},
     "source": [
      "Overwiew of Pipeline"
     ]
    },
    {
     "cell_type": "heading",
     "level": 2,
     "metadata": {},
     "source": [
      "Cleaning and Filtering"
     ]
    },
    {
     "cell_type": "code",
     "collapsed": false,
     "input": [
      "<path2file>/filter_and_clean_reads.py -i <files_path} -b {barcodes_path} -p {output_path} -f 20 -n 0.1 -c TGCAGG -r 2 -g 2  | ~/bin/load_reads.py -b {barcodes_path} -d {database_path} "
     ],
     "language": "python",
     "metadata": {},
     "outputs": []
    },
    {
     "cell_type": "code",
     "collapsed": false,
     "input": [
      "!/home/pgrad/musselle/ubuntu/bin/filter_and_clean_reads.py -h"
     ],
     "language": "python",
     "metadata": {},
     "outputs": [
      {
       "output_type": "stream",
       "stream": "stdout",
       "text": [
        "usage: filter_and_clean_reads.py [-h] -i INPUT [INPUT ...] -b BARCODES\r\n",
        "                                 [BARCODES ...] [-o OUTPUT_POSTFIX]\r\n",
        "                                 [-p OUTPUT_PATH] [--version] [-d]\r\n",
        "                                 [-n N_THRESH] [-f PHRED_THRESH] [-l]\r\n",
        "                                 [-c [CUTSITES [CUTSITES ...]]]\r\n",
        "                                 [-e CUTSITE_EDITDIST] [-r OVERHANG_IDX]\r\n",
        "                                 [-g ERRORCORRECTING_EDITDIST] [-v]\r\n",
        "\r\n",
        "Filter and clean up FastQ files.\r\n",
        "\r\n",
        "optional arguments:\r\n",
        "  -h, --help            show this help message and exit\r\n",
        "  -i INPUT [INPUT ...]  Input file(s) to process (/path/filename). Will accept\r\n",
        "                        a glob\r\n",
        "  -b BARCODES [BARCODES ...]\r\n",
        "                        Barcodes accociated with input file(s)\r\n",
        "                        (/path/filename). Will accept a glob\r\n",
        "  -o OUTPUT_POSTFIX     Output file postfix to use when writing to file.\r\n",
        "  -p OUTPUT_PATH        Output path to write reads to. Missing dirs will be\r\n",
        "                        created.\r\n",
        "  --version             show program's version number and exit\r\n",
        "  -d                    Use default values for all filters. n = 0.1, f = 20,\r\n",
        "                        c=TGCAGG, e=2, r=2, f=1\r\n",
        "  -n N_THRESH           Threshold maximum for filtering by proportion of Ns in\r\n",
        "                        the read. Default = 0.1. Set to 0 to skip.\r\n",
        "  -f PHRED_THRESH       Threshold minimum for filtering by mean phred of the\r\n",
        "                        read. Default = 20. Set to 0 to skip.\r\n",
        "  -l                    Do not use the Illumina machine filter. On by Default.\r\n",
        "  -c [CUTSITES [CUTSITES ...]]\r\n",
        "                        Filter reads that do not have one of the cutsites\r\n",
        "                        specified.\r\n",
        "  -e CUTSITE_EDITDIST   Max edit distance allowed between target cutsite and\r\n",
        "                        read.\r\n",
        "  -r OVERHANG_IDX       Number of bases in cutsite that make up the overhang.\r\n",
        "                        Reads are filtered out whichhave errors in the\r\n",
        "                        overhang of the cut site.\r\n",
        "  -g ERRORCORRECTING_EDITDIST\r\n",
        "                        Max edit distance that is corrected between target\r\n",
        "                        MIDtag/cutsite and actual read.If matched to more than\r\n",
        "                        one candidate barcode, the read is discarded due to\r\n",
        "                        abiguity of identity.\r\n",
        "  -v, --verbose         Whether to log the Sequence IDs of reads that fail the\r\n",
        "                        filtering\r\n"
       ]
      }
     ],
     "prompt_number": 4
    },
    {
     "cell_type": "code",
     "collapsed": false,
     "input": [
      "import glob\n",
      "from Bio import SeqIO\n",
      "import database.reads_db\n",
      "reload(database.reads_db)\n",
      "from database.reads_db import Reads_db\n",
      "import sqlite3\n",
      "import time"
     ],
     "language": "python",
     "metadata": {},
     "outputs": [],
     "prompt_number": 1
    }
   ],
   "metadata": {}
  }
 ]
}
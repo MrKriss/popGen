{
 "metadata": {
  "name": "FastQ seqID tests"
 },
 "nbformat": 3,
 "nbformat_minor": 0,
 "worksheets": [
  {
   "cells": [
    {
     "cell_type": "code",
     "collapsed": false,
     "input": [
      "import glob\n",
      "from Bio import SeqIO"
     ],
     "language": "python",
     "metadata": {},
     "outputs": [],
     "prompt_number": 5
    },
    {
     "cell_type": "code",
     "collapsed": false,
     "input": [
      "# Define inputs\n",
      "test_dir = '/space/musselle/data/RAD-seq/gazelles-zebras/processed-data/'\n",
      "test_files = glob.glob(test_dir + '*.fastq')"
     ],
     "language": "python",
     "metadata": {},
     "outputs": [],
     "prompt_number": 6
    },
    {
     "cell_type": "code",
     "collapsed": false,
     "input": [
      "recsgen= SeqIO.parse(test_files[0], 'fastq')"
     ],
     "language": "python",
     "metadata": {},
     "outputs": [],
     "prompt_number": 10
    },
    {
     "cell_type": "code",
     "collapsed": false,
     "input": [
      "rec = recsgen.next()\n",
      "rec.description\n",
      "rec.seq.tostring()\n",
      "rec.letter_annotations['phred_quality']"
     ],
     "language": "python",
     "metadata": {},
     "outputs": [
      {
       "output_type": "pyout",
       "prompt_number": 15,
       "text": [
        "'GGGCGCTGCAGGCTTAACACTGAGAGCATCAGAGGACACAGGCTTTGCCCAGCCCCACACCATGCAGCACCACTTGTCATGGGGCCCTTCACCTCAGGAGA'"
       ]
      }
     ],
     "prompt_number": 15
    },
    {
     "cell_type": "code",
     "collapsed": false,
     "input": [
      "# Sample seqID\n",
      "L = !head {test_files[0]}\n",
      "L = L[0].split()\n",
      "L = [i.split(':') for i in L]\n",
      "L"
     ],
     "language": "python",
     "metadata": {},
     "outputs": [
      {
       "output_type": "pyout",
       "prompt_number": 3,
       "text": [
        "[['@HWI-ST0747', '233', 'C0RH3ACXX', '6', '2116', '17762', '96407'],\n",
        " ['1', 'N', '0', '']]"
       ]
      }
     ],
     "prompt_number": 3
    },
    {
     "cell_type": "code",
     "collapsed": false,
     "input": [
      "# Define Pattern\n",
      "pattern = L[0][2]\n",
      "#pattern = ':'.join(L[0][:3])"
     ],
     "language": "python",
     "metadata": {},
     "outputs": [],
     "prompt_number": 24
    },
    {
     "cell_type": "markdown",
     "metadata": {},
     "source": [
      "### Search for pattern in SeqID"
     ]
    },
    {
     "cell_type": "code",
     "collapsed": false,
     "input": [
      "cumnum_seq = 0\n",
      "cumnum_seqid_is_pattern = 0\n",
      "\n",
      "for i in test_files:\n",
      "    out = !wc -l $i\n",
      "    out = out[0].split()\n",
      "    num_lines = int(out[0])\n",
      "    fname = out[1]\n",
      "    assert not num_lines % 4\n",
      "    num_seq = num_lines / 4\n",
      "    n = !grep -c {pattern} {i}\n",
      "    num_seqid_is_pattern = int(n[0])\n",
      "    cumnum_seq += num_seq\n",
      "    cumnum_seqid_is_pattern += num_seqid_is_pattern\n",
      "    print '{frac} of {tot} ({perc:.2%}) Sequences contain {pat}\\n for {f}'.format(\n",
      "             f=fname, frac=num_seqid_is_pattern, tot=num_seq, pat=pattern, perc=float(num_seqid_is_pattern)/num_seq)\n",
      "    \n",
      "print 'A total of {frac} of {tot} ({perc:.2%}) Sequences contain {pat}'.format(\n",
      "    frac=cumnum_seqid_is_pattern, tot=cumnum_seq, pat=pattern, perc=float(cumnum_seqid_is_pattern)/cumnum_seq)"
     ],
     "language": "python",
     "metadata": {},
     "outputs": [
      {
       "output_type": "stream",
       "stream": "stdout",
       "text": [
        "9374232 of 9374232 (100.00%) Sequences contain C0RH3ACXX\n",
        " for /space/musselle/data/RAD-seq/gazelles-zebras/processed-data/lane6_NoIndex_L006_R1_008-pass-clean.fastq\n"
       ]
      },
      {
       "output_type": "stream",
       "stream": "stdout",
       "text": [
        "9290543 of 9290543 (100.00%) Sequences contain C0RH3ACXX\n",
        " for /space/musselle/data/RAD-seq/gazelles-zebras/processed-data/lane6_NoIndex_L006_R1_001-pass-clean.fastq\n"
       ]
      },
      {
       "output_type": "stream",
       "stream": "stdout",
       "text": [
        "0 of 7905874 (0.00%) Sequences contain C0RH3ACXX\n",
        " for /space/musselle/data/RAD-seq/gazelles-zebras/processed-data/lane8_NoIndex_L008_R1_005-pass-clean.fastq\n"
       ]
      },
      {
       "output_type": "stream",
       "stream": "stdout",
       "text": [
        "0 of 8367380 (0.00%) Sequences contain C0RH3ACXX\n",
        " for /space/musselle/data/RAD-seq/gazelles-zebras/processed-data/lane8_NoIndex_L008_R1_009-pass-clean.fastq\n"
       ]
      },
      {
       "output_type": "stream",
       "stream": "stdout",
       "text": [
        "8704598 of 8704598 (100.00%) Sequences contain C0RH3ACXX\n",
        " for /space/musselle/data/RAD-seq/gazelles-zebras/processed-data/lane6_NoIndex_L006_R1_002-pass-clean.fastq\n"
       ]
      },
      {
       "output_type": "stream",
       "stream": "stdout",
       "text": [
        "9336583 of 9336583 (100.00%) Sequences contain C0RH3ACXX\n",
        " for /space/musselle/data/RAD-seq/gazelles-zebras/processed-data/lane6_NoIndex_L006_R1_010-pass-clean.fastq\n"
       ]
      },
      {
       "output_type": "stream",
       "stream": "stdout",
       "text": [
        "8588078 of 8588078 (100.00%) Sequences contain C0RH3ACXX\n",
        " for /space/musselle/data/RAD-seq/gazelles-zebras/processed-data/lane6_NoIndex_L006_R1_009-pass-clean.fastq\n"
       ]
      },
      {
       "output_type": "stream",
       "stream": "stdout",
       "text": [
        "0 of 7870557 (0.00%) Sequences contain C0RH3ACXX\n",
        " for /space/musselle/data/RAD-seq/gazelles-zebras/processed-data/lane8_NoIndex_L008_R1_003-pass-clean.fastq\n"
       ]
      },
      {
       "output_type": "stream",
       "stream": "stdout",
       "text": [
        "0 of 8089043 (0.00%) Sequences contain C0RH3ACXX\n",
        " for /space/musselle/data/RAD-seq/gazelles-zebras/processed-data/lane8_NoIndex_L008_R1_001-pass-clean.fastq\n"
       ]
      },
      {
       "output_type": "stream",
       "stream": "stdout",
       "text": [
        "6342182 of 6342182 (100.00%) Sequences contain C0RH3ACXX\n",
        " for /space/musselle/data/RAD-seq/gazelles-zebras/processed-data/lane6_NoIndex_L006_R1_011-pass-clean.fastq\n"
       ]
      },
      {
       "output_type": "stream",
       "stream": "stdout",
       "text": [
        "0 of 8191185 (0.00%) Sequences contain C0RH3ACXX\n",
        " for /space/musselle/data/RAD-seq/gazelles-zebras/processed-data/lane8_NoIndex_L008_R1_004-pass-clean.fastq\n"
       ]
      },
      {
       "output_type": "stream",
       "stream": "stdout",
       "text": [
        "0 of 7964143 (0.00%) Sequences contain C0RH3ACXX\n",
        " for /space/musselle/data/RAD-seq/gazelles-zebras/processed-data/lane8_NoIndex_L008_R1_008-pass-clean.fastq\n"
       ]
      },
      {
       "output_type": "stream",
       "stream": "stdout",
       "text": [
        "0 of 8048288 (0.00%) Sequences contain C0RH3ACXX\n",
        " for /space/musselle/data/RAD-seq/gazelles-zebras/processed-data/lane8_NoIndex_L008_R1_006-pass-clean.fastq\n"
       ]
      },
      {
       "output_type": "stream",
       "stream": "stdout",
       "text": [
        "8831622 of 8831622 (100.00%) Sequences contain C0RH3ACXX\n",
        " for /space/musselle/data/RAD-seq/gazelles-zebras/processed-data/lane6_NoIndex_L006_R1_005-pass-clean.fastq\n"
       ]
      },
      {
       "output_type": "stream",
       "stream": "stdout",
       "text": [
        "0 of 4858544 (0.00%) Sequences contain C0RH3ACXX\n",
        " for /space/musselle/data/RAD-seq/gazelles-zebras/processed-data/lane8_NoIndex_L008_R1_010-pass-clean.fastq\n"
       ]
      },
      {
       "output_type": "stream",
       "stream": "stdout",
       "text": [
        "8648020 of 8648020 (100.00%) Sequences contain C0RH3ACXX\n",
        " for /space/musselle/data/RAD-seq/gazelles-zebras/processed-data/lane6_NoIndex_L006_R1_007-pass-clean.fastq\n"
       ]
      },
      {
       "output_type": "stream",
       "stream": "stdout",
       "text": [
        "9204923 of 9204923 (100.00%) Sequences contain C0RH3ACXX\n",
        " for /space/musselle/data/RAD-seq/gazelles-zebras/processed-data/lane6_NoIndex_L006_R1_006-pass-clean.fastq\n"
       ]
      },
      {
       "output_type": "stream",
       "stream": "stdout",
       "text": [
        "0 of 7743139 (0.00%) Sequences contain C0RH3ACXX\n",
        " for /space/musselle/data/RAD-seq/gazelles-zebras/processed-data/lane8_NoIndex_L008_R1_002-pass-clean.fastq\n"
       ]
      },
      {
       "output_type": "stream",
       "stream": "stdout",
       "text": [
        "8927056 of 8927056 (100.00%) Sequences contain C0RH3ACXX\n",
        " for /space/musselle/data/RAD-seq/gazelles-zebras/processed-data/lane6_NoIndex_L006_R1_004-pass-clean.fastq\n"
       ]
      },
      {
       "output_type": "stream",
       "stream": "stdout",
       "text": [
        "0 of 8078602 (0.00%) Sequences contain C0RH3ACXX\n",
        " for /space/musselle/data/RAD-seq/gazelles-zebras/processed-data/lane8_NoIndex_L008_R1_007-pass-clean.fastq\n"
       ]
      },
      {
       "output_type": "stream",
       "stream": "stdout",
       "text": [
        "^C\n"
       ]
      },
      {
       "ename": "IndexError",
       "evalue": "list index out of range",
       "output_type": "pyerr",
       "traceback": [
        "\u001b[1;31m---------------------------------------------------------------------------\u001b[0m\n\u001b[1;31mIndexError\u001b[0m                                Traceback (most recent call last)",
        "\u001b[1;32m<ipython-input-25-315f63629151>\u001b[0m in \u001b[0;36m<module>\u001b[1;34m()\u001b[0m\n\u001b[0;32m     10\u001b[0m     \u001b[0mnum_seq\u001b[0m \u001b[1;33m=\u001b[0m \u001b[0mnum_lines\u001b[0m \u001b[1;33m/\u001b[0m \u001b[1;36m4\u001b[0m\u001b[1;33m\u001b[0m\u001b[0m\n\u001b[0;32m     11\u001b[0m     \u001b[0mn\u001b[0m \u001b[1;33m=\u001b[0m \u001b[0mget_ipython\u001b[0m\u001b[1;33m(\u001b[0m\u001b[1;33m)\u001b[0m\u001b[1;33m.\u001b[0m\u001b[0mgetoutput\u001b[0m\u001b[1;33m(\u001b[0m\u001b[1;34mu'grep -c {pattern} {i}'\u001b[0m\u001b[1;33m)\u001b[0m\u001b[1;33m\u001b[0m\u001b[0m\n\u001b[1;32m---> 12\u001b[1;33m     \u001b[0mnum_seqid_is_pattern\u001b[0m \u001b[1;33m=\u001b[0m \u001b[0mint\u001b[0m\u001b[1;33m(\u001b[0m\u001b[0mn\u001b[0m\u001b[1;33m[\u001b[0m\u001b[1;36m0\u001b[0m\u001b[1;33m]\u001b[0m\u001b[1;33m)\u001b[0m\u001b[1;33m\u001b[0m\u001b[0m\n\u001b[0m\u001b[0;32m     13\u001b[0m     \u001b[0mcumnum_seq\u001b[0m \u001b[1;33m+=\u001b[0m \u001b[0mnum_seq\u001b[0m\u001b[1;33m\u001b[0m\u001b[0m\n\u001b[0;32m     14\u001b[0m     \u001b[0mcumnum_seqid_is_pattern\u001b[0m \u001b[1;33m+=\u001b[0m \u001b[0mnum_seqid_is_pattern\u001b[0m\u001b[1;33m\u001b[0m\u001b[0m\n",
        "\u001b[1;31mIndexError\u001b[0m: list index out of range"
       ]
      }
     ],
     "prompt_number": 25
    },
    {
     "cell_type": "code",
     "collapsed": false,
     "input": [
      "n"
     ],
     "language": "python",
     "metadata": {},
     "outputs": [
      {
       "output_type": "pyout",
       "prompt_number": 20,
       "text": [
        "['sed: -e expression #1, char 3: missing command', '0']"
       ]
      }
     ],
     "prompt_number": 20
    },
    {
     "cell_type": "code",
     "collapsed": false,
     "input": [],
     "language": "python",
     "metadata": {},
     "outputs": []
    }
   ],
   "metadata": {}
  }
 ]
}
{
 "metadata": {
  "name": "AllZ and AllG cluster info plots"
 },
 "nbformat": 3,
 "nbformat_minor": 0,
 "worksheets": [
  {
   "cells": [
    {
     "cell_type": "markdown",
     "metadata": {},
     "source": [
      "## Analysis for Clustering all Zebras and all Gazelles Separately at 90% and 100% Similarity"
     ]
    },
    {
     "cell_type": "code",
     "collapsed": false,
     "input": [
      "import utils.ClusterIO\n",
      "reload(utils.ClusterIO)\n",
      "from utils.ClusterIO import *"
     ],
     "language": "python",
     "metadata": {},
     "outputs": [],
     "prompt_number": 29
    },
    {
     "cell_type": "code",
     "collapsed": false,
     "input": [
      "# Load in files \n",
      "gaz_clustf90 = '/space/musselle/data/RAD-seq/gazelles-zebras/clusters/gz_allg_allz_clustered_reads_c90/gz_allg_allz-gazelle-clustered_c90.clstr'\n",
      "zeb_clustf90 = '/space/musselle/data/RAD-seq/gazelles-zebras/clusters/gz_allg_allz_clustered_reads_c90/gz_allg_allz-zebra-clustered_c90.clstr'\n",
      "gaz_clustf100 = '/space/musselle/data/RAD-seq/gazelles-zebras/clusters/gz_allg_allz_clustered_reads_c100/gz_allg_allz-gazelle-clustered_c100.clstr'\n",
      "zeb_clustf100 = '/space/musselle/data/RAD-seq/gazelles-zebras/clusters/gz_allg_allz_clustered_reads_c100/gz_allg_allz-zebra-clustered_c100.clstr'\n",
      "\n",
      "# Get reads per clustr counter summary\n",
      "gaz_rpc_count90 = summary_counter(gaz_clustf90, mode='reads_per_cluster', report=0)\n",
      "zeb_rpc_count90 = summary_counter(zeb_clustf90, mode='reads_per_cluster', report=0)\n",
      "gaz_rpc_count100 = summary_counter(gaz_clustf100, mode='reads_per_cluster', report=0)\n",
      "zeb_rpc_count100 = summary_counter(zeb_clustf100, mode='reads_per_cluster', report=0)\n",
      "\n",
      "# Get cluster sizes summary\n",
      "gaz_cs_count90 = summary_counter(gaz_clustf90, mode='total', report=0)\n",
      "zeb_cs_count90 = summary_counter(zeb_clustf90, mode='total', report=0)\n",
      "gaz_cs_count100 = summary_counter(gaz_clustf100, mode='total', report=0)\n",
      "zeb_cs_count100 = summary_counter(zeb_clustf100, mode='total', report=0)\n"
     ],
     "language": "python",
     "metadata": {},
     "outputs": [
      {
       "output_type": "stream",
       "stream": "stdout",
       "text": [
        "Generating cluster summary for  gz_allg_allz-gazelle-clustered_c90.clstr ...\n",
        "Finished Scanning cluster file."
       ]
      },
      {
       "output_type": "stream",
       "stream": "stdout",
       "text": [
        "\n",
        "Generating cluster summary for  gz_allg_allz-zebra-clustered_c90.clstr ...\n",
        "Finished Scanning cluster file."
       ]
      },
      {
       "output_type": "stream",
       "stream": "stdout",
       "text": [
        "\n",
        "Generating cluster summary for  gz_allg_allz-gazelle-clustered_c100.clstr ...\n",
        "Finished Scanning cluster file."
       ]
      },
      {
       "output_type": "stream",
       "stream": "stdout",
       "text": [
        "\n",
        "Generating cluster summary for  gz_allg_allz-zebra-clustered_c100.clstr ...\n",
        "Finished Scanning cluster file."
       ]
      },
      {
       "output_type": "stream",
       "stream": "stdout",
       "text": [
        "\n",
        "Generating cluster summary for  gz_allg_allz-gazelle-clustered_c90.clstr ...\n",
        "Finished Scanning cluster file."
       ]
      },
      {
       "output_type": "stream",
       "stream": "stdout",
       "text": [
        "\n",
        "Generating cluster summary for  gz_allg_allz-zebra-clustered_c90.clstr ...\n",
        "Finished Scanning cluster file."
       ]
      },
      {
       "output_type": "stream",
       "stream": "stdout",
       "text": [
        "\n",
        "Generating cluster summary for  gz_allg_allz-gazelle-clustered_c100.clstr ...\n",
        "Finished Scanning cluster file."
       ]
      },
      {
       "output_type": "stream",
       "stream": "stdout",
       "text": [
        "\n",
        "Generating cluster summary for  gz_allg_allz-zebra-clustered_c100.clstr ...\n",
        "Finished Scanning cluster file."
       ]
      },
      {
       "output_type": "stream",
       "stream": "stdout",
       "text": [
        "\n"
       ]
      }
     ],
     "prompt_number": 30
    },
    {
     "cell_type": "code",
     "collapsed": false,
     "input": [
      "# Load in files \n",
      "gaz_clustf90 = '/space/musselle/data/RAD-seq/gazelles-zebras/clusters/gz_allg_allz_clustered_reads_c90/gz_allg_allz-gazelle-clustered_c90.clstr'\n",
      "zeb_clustf90 = '/space/musselle/data/RAD-seq/gazelles-zebras/clusters/gz_allg_allz_clustered_reads_c90/gz_allg_allz-zebra-clustered_c90.clstr'\n",
      "gaz_clustf100 = '/space/musselle/data/RAD-seq/gazelles-zebras/clusters/gz_allg_allz_clustered_reads_c100/gz_allg_allz-gazelle-clustered_c100.clstr'\n",
      "zeb_clustf100 = '/space/musselle/data/RAD-seq/gazelles-zebras/clusters/gz_allg_allz_clustered_reads_c100/gz_allg_allz-zebra-clustered_c100.clstr'\n",
      "\n",
      "# Get cluster sizes summary\n",
      "gaz_cs_count90 = summary_counter(gaz_clustf90, mode='total', report=0)\n",
      "zeb_cs_count90 = summary_counter(zeb_clustf90, mode='total', report=0)\n",
      "gaz_cs_count100 = summary_counter(gaz_clustf100, mode='total', report=0)\n",
      "zeb_cs_count100 = summary_counter(zeb_clustf100, mode='total', report=0)\n",
      "\n",
      "# Get reads per clustr counter summary\n",
      "gaz_rpc_count90 = {}\n",
      "for k,v in gaz_cs_count90.iteritems():\n",
      "            gaz_rpc_count90[k] = int(k) * v\n",
      "zeb_rpc_count90 = {}\n",
      "for k,v in zeb_cs_count90.iteritems():\n",
      "            zeb_rpc_count90[k] = int(k) * v\n",
      "gaz_rpc_count100 = {}\n",
      "for k,v in gaz_cs_count100.iteritems():\n",
      "            gaz_rpc_count100[k] = int(k) * v\n",
      "zeb_rpc_count100 = {}\n",
      "for k,v in zeb_cs_count100.iteritems():\n",
      "            zeb_rpc_count100[k] = int(k) * v"
     ],
     "language": "python",
     "metadata": {},
     "outputs": [
      {
       "output_type": "stream",
       "stream": "stdout",
       "text": [
        "Generating cluster summary for  gz_allg_allz-gazelle-clustered_c90.clstr ...\n",
        "Finished Scanning cluster file."
       ]
      },
      {
       "output_type": "stream",
       "stream": "stdout",
       "text": [
        "\n",
        "Generating cluster summary for  gz_allg_allz-zebra-clustered_c90.clstr ...\n",
        "Finished Scanning cluster file."
       ]
      },
      {
       "output_type": "stream",
       "stream": "stdout",
       "text": [
        "\n",
        "Generating cluster summary for  gz_allg_allz-gazelle-clustered_c100.clstr ...\n",
        "Finished Scanning cluster file."
       ]
      },
      {
       "output_type": "stream",
       "stream": "stdout",
       "text": [
        "\n",
        "Generating cluster summary for  gz_allg_allz-zebra-clustered_c100.clstr ...\n",
        "Finished Scanning cluster file."
       ]
      }
     ],
     "prompt_number": "*"
    },
    {
     "cell_type": "code",
     "collapsed": false,
     "input": [
      "# Plots Comparing Zebras and Gazelles Separtely at 90%\n",
      "figure()\n",
      "plot_counters([gaz_rpc_count90, zeb_rpc_count90], ['Gazelles', 'Zebras'], \n",
      "    log='xy', ylab=\"Total No. of Reads\", xlab=\"Cluster Size\", \n",
      "    title=\"Total No. Reads per Cluster Size at 90% Similarity\")\n",
      "figure()\n",
      "plot_counters([gaz_cs_count90, zeb_cs_count90], ['Gazelles', 'Zebras'],\n",
      "     log='xy', ylab=\"Frequency\", xlab=\"Cluster Size\", \n",
      "    title=\"Distribution of Cluster Sizes at 90% Similarity\")"
     ],
     "language": "python",
     "metadata": {},
     "outputs": [],
     "prompt_number": 32
    },
    {
     "cell_type": "code",
     "collapsed": false,
     "input": [
      "# Plots Comparing Zebras and Gazelles Separtely at 100%\n",
      "figure()\n",
      "plot_counters([gaz_rpc_count100, zeb_rpc_count100], \n",
      "    ['Gazelles', 'Zebras'], log='xy', ylab=\"Total No. of Reads\", \n",
      "    xlab=\"Cluster Size\", title=\"Total No. Reads per Cluster Size at 100% Similarity\")\n",
      "figure()\n",
      "plot_counters([gaz_cs_count100, zeb_cs_count100], \n",
      "    ['Gazelles', 'Zebras'], log='xy', ylab=\"Frequency\", \n",
      "    xlab=\"Cluster Size\", title=\"Distribution of Cluster Sizes at 100% Similarity\")"
     ],
     "language": "python",
     "metadata": {},
     "outputs": [],
     "prompt_number": 31
    },
    {
     "cell_type": "code",
     "collapsed": false,
     "input": [
      "# Plots Comparing Zebras and Gazelles at 90% and 100% Similarity\n",
      "figure()\n",
      "plot_counters([gaz_rpc_count100, zeb_rpc_count100, gaz_rpc_count90, zeb_rpc_count90],\n",
      "    ['Gazelles c100', 'Zebras c100', 'Gazelles c90', 'Zebras c90'], log='xy', \n",
      "    ylab=\"Total No. of Reads\", xlab=\"Cluster Size\", title=\"Total No. Reads per Cluster Size\")\n",
      "figure()\n",
      "plot_counters([gaz_cs_count100, zeb_cs_count100, gaz_cs_count90, zeb_cs_count90],\n",
      "    ['Gazelles c100', 'Zebras c100', 'Gazelles c90', 'Zebras c90'], log='xy', \n",
      "    ylab=\"Frequency\", xlab=\"Cluster Size\", title=\"Distribution of Cluster Sizes\")"
     ],
     "language": "python",
     "metadata": {},
     "outputs": [],
     "prompt_number": 35
    },
    {
     "cell_type": "code",
     "collapsed": false,
     "input": [
      "sum(gaz_cs_count100.values())\n"
     ],
     "language": "python",
     "metadata": {},
     "outputs": [
      {
       "output_type": "pyout",
       "prompt_number": 40,
       "text": [
        "7300631"
       ]
      }
     ],
     "prompt_number": 40
    },
    {
     "cell_type": "code",
     "collapsed": false,
     "input": [
      "sum(zeb_cs_count100.values())"
     ],
     "language": "python",
     "metadata": {},
     "outputs": [
      {
       "output_type": "pyout",
       "prompt_number": 41,
       "text": [
        "7033580"
       ]
      }
     ],
     "prompt_number": 41
    },
    {
     "cell_type": "code",
     "collapsed": false,
     "input": [],
     "language": "python",
     "metadata": {},
     "outputs": []
    }
   ],
   "metadata": {}
  }
 ]
}
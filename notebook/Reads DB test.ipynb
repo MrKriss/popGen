{
 "metadata": {
  "name": "Reads DB test"
 },
 "nbformat": 3,
 "nbformat_minor": 0,
 "worksheets": [
  {
   "cells": [
    {
     "cell_type": "markdown",
     "metadata": {},
     "source": [
      "## Pipeline from raw input data to SQLite database"
     ]
    },
    {
     "cell_type": "code",
     "collapsed": false,
     "input": [
      "import glob\n",
      "from Bio import SeqIO\n",
      "import database.reads_db\n",
      "reload(database.reads_db)\n",
      "from database.reads_db import Reads_db\n",
      "import sqlite3\n",
      "import time"
     ],
     "language": "python",
     "metadata": {},
     "outputs": [],
     "prompt_number": "*"
    },
    {
     "cell_type": "markdown",
     "metadata": {},
     "source": [
      "### Generate a test set "
     ]
    },
    {
     "cell_type": "code",
     "collapsed": false,
     "input": [
      "# Generate test set\n",
      "start_dir = os.getcwd()\n",
      "\n",
      "path = '/space/musselle/data/RAD-seq/gazelles-zebras/raw-data'\n",
      "maxnumseq = 1000000\n",
      "# Just from lane 8\n",
      "RecCycler = Cycler(filepattern='lane8*[0-9].fastq', data_inpath = path, maxnumseq=maxnumseq)\n",
      "\n",
      "output_filename = 'testset_10m.fastq.bgzf'\n",
      "\n",
      "print '\\nGenerating a dataset of the first {0} reads from each file.'.format(maxnumseq)\n",
      "# If file already exists, overwrite it.\n",
      "os.chdir('/space/musselle/data/RAD-seq/gazelles-zebras/testset')\n",
      "if os.path.isfile(output_filename):\n",
      "    f = open(output_filename, 'w')\n",
      "    f.close()\n",
      "\n",
      "output_filehdl = open(output_filename, 'a')\n",
      "total_numwritten = 0\n",
      "toc = time.time()\n",
      "\n",
      "numwritten = SeqIO.write(RecCycler.recgen, output_filehdl , 'fastq')\n",
      "print '{0} records written'.format(numwritten)\n",
      "total_numwritten += numwritten\n",
      "\n",
      "output_filehdl.close()\n",
      "print 'Total of {0} Sequence reads written to file {1}'.format(total_numwritten, output_filename) \n",
      "\n",
      "total_t = time.time() - toc    \n",
      "print 'Processed all files in {0}'.format(time.strftime('%H:%M:%S', \n",
      "                                                        time.gmtime(total_t)))\n",
      "os.chdir(start_dir)"
     ],
     "language": "python",
     "metadata": {},
     "outputs": []
    },
    {
     "cell_type": "markdown",
     "metadata": {},
     "source": [
      "### Filter Data"
     ]
    },
    {
     "cell_type": "markdown",
     "metadata": {},
     "source": [
      "## Import to Database"
     ]
    },
    {
     "cell_type": "code",
     "collapsed": false,
     "input": [
      "# Define inputs\n",
      "#test_dir = '/space/musselle/data/RAD-seq/gazelles-zebras/testset/'\n",
      "\n",
      "#test_files = 'small_testset.fastq'\n",
      "files_dir = '/space/musselle/data/RAD-seq/gazelles-zebras/processed-data/'\n",
      "\n",
      "#test_files = glob.glob(test_dir + '*.fastq')\n",
      "L6_files = 'lane6*.fastq'\n",
      "L8_files = 'lane8*.fastq'\n",
      "\n",
      "barcode_files_L6 = '*6.txt'\n",
      "barcode_files_L8 = '*8.txt'\n",
      "barcodes_path = '/space/musselle/data/RAD-seq/gazelles-zebras/barcodes/'\n"
     ],
     "language": "python",
     "metadata": {},
     "outputs": [],
     "prompt_number": "*"
    },
    {
     "cell_type": "code",
     "collapsed": false,
     "input": [
      "cd /space/musselle/data/RAD-seq/gazelles-zebras/"
     ],
     "language": "python",
     "metadata": {},
     "outputs": [],
     "prompt_number": "*"
    },
    {
     "cell_type": "code",
     "collapsed": false,
     "input": [
      "DB = Reads_db('readstest.db', new=True)\n",
      "%time DB.load_seqs(data_files=L6_files, data_inpath=files_dir, barcode_files=barcode_files_L6, barcode_inpath=barcodes_path)"
     ],
     "language": "python",
     "metadata": {},
     "outputs": [],
     "prompt_number": "*"
    },
    {
     "cell_type": "code",
     "collapsed": false,
     "input": [
      "%time DB.load_seqs(data_files=L8_files, data_inpath=files_dir, barcode_files=barcode_files_L8, barcode_inpath=barcodes_path)"
     ],
     "language": "python",
     "metadata": {},
     "outputs": [],
     "prompt_number": "*"
    },
    {
     "cell_type": "code",
     "collapsed": false,
     "input": [
      "%qtconsole"
     ],
     "language": "python",
     "metadata": {},
     "outputs": [],
     "prompt_number": 33
    },
    {
     "cell_type": "code",
     "collapsed": false,
     "input": [
      "(841) / 60. and 3Gb"
     ],
     "language": "python",
     "metadata": {},
     "outputs": [
      {
       "output_type": "pyout",
       "prompt_number": 7,
       "text": [
        "294.35"
       ]
      }
     ],
     "prompt_number": 7
    },
    {
     "cell_type": "markdown",
     "metadata": {},
     "source": [
      "### Timeing Comparison "
     ]
    },
    {
     "cell_type": "code",
     "collapsed": false,
     "input": [
      "def speedtest_db(dbfile):\n",
      "    con = sqlite3.connect(dbfile)\n",
      "    \n",
      "    for row in con.execute(\"select * from seqs\"):\n",
      "        pass\n",
      "    \n",
      "def speedtest_file(fastqfile):\n",
      "    rec_gen = SeqIO.parse(fastqfile, 'fastq')\n",
      "    \n",
      "    for rec in rec_gen:\n",
      "        pass\n",
      "    \n"
     ],
     "language": "python",
     "metadata": {},
     "outputs": [],
     "prompt_number": 32
    },
    {
     "cell_type": "code",
     "collapsed": false,
     "input": [
      "ls"
     ],
     "language": "python",
     "metadata": {},
     "outputs": [
      {
       "output_type": "stream",
       "stream": "stdout",
       "text": [
        "\u001b[0m\u001b[01;34mbackup\u001b[0m/  \u001b[01;34mbarcodes\u001b[0m/  \u001b[01;34mclusters\u001b[0m/  gazelles-zebras.db  gz_allg-allz.db  gz_samples.db  \u001b[01;34mimages\u001b[0m/  \u001b[01;34mprocessed-data\u001b[0m/  \u001b[01;34mraw-data\u001b[0m/  readstest.db  \u001b[01;34mstats\u001b[0m/  \u001b[01;34mtestset\u001b[0m/\r\n",
        "\u001b[m"
       ]
      }
     ],
     "prompt_number": 36
    },
    {
     "cell_type": "code",
     "collapsed": false,
     "input": [
      "%prun speedtest_db('readstest.db')"
     ],
     "language": "python",
     "metadata": {},
     "outputs": [
      {
       "output_type": "stream",
       "stream": "stdout",
       "text": [
        "\n"
       ]
      }
     ],
     "prompt_number": 37
    },
    {
     "cell_type": "code",
     "collapsed": false,
     "input": [
      "   5 function calls in 138.569 seconds\n",
      "\n",
      "   Ordered by: internal time\n",
      "\n",
      "   ncalls  tottime  percall  cumtime  percall filename:lineno(function)\n",
      "        1  138.547  138.547  138.567  138.567 <ipython-input-32-a92d7d99e88e>:1(speedtest_db)\n",
      "        1    0.020    0.020    0.020    0.020 {method 'execute' of 'sqlite3.Connection' objects}\n",
      "        1    0.003    0.003  138.569  138.569 <string>:1(<module>)\n",
      "        1    0.000    0.000    0.000    0.000 {_sqlite3.connect}\n",
      "        1    0.000    0.000    0.000    0.000 {method 'disable' of '_lsprof.Profiler' objects}"
     ],
     "language": "python",
     "metadata": {},
     "outputs": []
    },
    {
     "cell_type": "code",
     "collapsed": false,
     "input": [
      "%prun speedtest_file(os.path.join(test_dir, test_files))"
     ],
     "language": "python",
     "metadata": {},
     "outputs": [
      {
       "output_type": "stream",
       "stream": "stdout",
       "text": [
        "\n"
       ]
      }
     ],
     "prompt_number": 38
    },
    {
     "cell_type": "code",
     "collapsed": false,
     "input": [
      "L = ['a', 'b', 'c', 'd']\n"
     ],
     "language": "python",
     "metadata": {},
     "outputs": [],
     "prompt_number": 10
    },
    {
     "cell_type": "code",
     "collapsed": false,
     "input": [
      "L2 = [1,2,3,4]"
     ],
     "language": "python",
     "metadata": {},
     "outputs": [],
     "prompt_number": 11
    },
    {
     "cell_type": "code",
     "collapsed": false,
     "input": [
      "= dict(zip(L,L2))"
     ],
     "language": "python",
     "metadata": {},
     "outputs": [],
     "prompt_number": 12
    },
    {
     "cell_type": "code",
     "collapsed": false,
     "input": [
      "D"
     ],
     "language": "python",
     "metadata": {},
     "outputs": [
      {
       "output_type": "pyout",
       "prompt_number": 13,
       "text": [
        "{'a': 1, 'b': 2, 'c': 3, 'd': 4}"
       ]
      }
     ],
     "prompt_number": 13
    },
    {
     "cell_type": "code",
     "collapsed": false,
     "input": [],
     "language": "python",
     "metadata": {},
     "outputs": []
    }
   ],
   "metadata": {}
  }
 ]
}